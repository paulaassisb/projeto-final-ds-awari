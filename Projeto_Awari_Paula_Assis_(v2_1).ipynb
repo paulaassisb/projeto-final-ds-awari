{
  "nbformat": 4,
  "nbformat_minor": 0,
  "metadata": {
    "colab": {
      "name": "Projeto Awari - Paula Assis (v2.1).ipynb",
      "provenance": [],
      "collapsed_sections": [],
      "mount_file_id": "133Ub0WhxuzQdt5mU67TDGsmuhKAKROLD",
      "authorship_tag": "ABX9TyPaTZc5SZ6wD2CXRLXp1b7/",
      "include_colab_link": true
    },
    "kernelspec": {
      "name": "python3",
      "display_name": "Python 3"
    }
  },
  "cells": [
    {
      "cell_type": "markdown",
      "metadata": {
        "id": "view-in-github",
        "colab_type": "text"
      },
      "source": [
        "<a href=\"https://colab.research.google.com/github/paulaassisb/projeto-final-ds-awari/blob/main/Projeto_Awari_Paula_Assis_(v2_1).ipynb\" target=\"_parent\"><img src=\"https://colab.research.google.com/assets/colab-badge.svg\" alt=\"Open In Colab\"/></a>"
      ]
    },
    {
      "cell_type": "code",
      "metadata": {
        "id": "4pOl2MQF0_t7"
      },
      "source": [
        "## Importação de bibliotecas\n",
        "import pandas as pd\n",
        "import numpy as np\n",
        "import unicodedata\n",
        "from nltk.corpus import stopwords\n",
        "from sklearn.preprocessing import LabelEncoder\n",
        "from sklearn.metrics import classification_report\n",
        "import matplotlib.pyplot as plt\n",
        "import seaborn as sns"
      ],
      "execution_count": 1415,
      "outputs": []
    },
    {
      "cell_type": "markdown",
      "metadata": {
        "id": "y6Okj0kix2f8"
      },
      "source": [
        "##1. Importação da base de dados"
      ]
    },
    {
      "cell_type": "code",
      "metadata": {
        "id": "SeapCwKX2xKM"
      },
      "source": [
        "## Importando arquivo da coleta de dados\n",
        "url = 'https://raw.githubusercontent.com/paulaassisb/projeto-final-ds-awari/main/coleta_dados_quest_projeto_final.csv'"
      ],
      "execution_count": 1416,
      "outputs": []
    },
    {
      "cell_type": "code",
      "metadata": {
        "id": "s5RTVqoxLE9c"
      },
      "source": [
        "dados_quest = pd.read_csv(url)"
      ],
      "execution_count": 1417,
      "outputs": []
    },
    {
      "cell_type": "code",
      "metadata": {
        "id": "S_RMOM4j3dg1"
      },
      "source": [
        "## Transformando em DataFrame para visualização e manipulação dos dados\n",
        "df = pd.DataFrame(dados_quest)"
      ],
      "execution_count": 1418,
      "outputs": []
    },
    {
      "cell_type": "code",
      "metadata": {
        "id": "Beh6Midb7_BV",
        "colab": {
          "base_uri": "https://localhost:8080/",
          "height": 547
        },
        "outputId": "2c43b2a3-33ba-4257-e285-9178bcab00ac"
      },
      "source": [
        "df.head()"
      ],
      "execution_count": 1419,
      "outputs": [
        {
          "output_type": "execute_result",
          "data": {
            "text/html": [
              "<div>\n",
              "<style scoped>\n",
              "    .dataframe tbody tr th:only-of-type {\n",
              "        vertical-align: middle;\n",
              "    }\n",
              "\n",
              "    .dataframe tbody tr th {\n",
              "        vertical-align: top;\n",
              "    }\n",
              "\n",
              "    .dataframe thead th {\n",
              "        text-align: right;\n",
              "    }\n",
              "</style>\n",
              "<table border=\"1\" class=\"dataframe\">\n",
              "  <thead>\n",
              "    <tr style=\"text-align: right;\">\n",
              "      <th></th>\n",
              "      <th>Numero do Sujeito</th>\n",
              "      <th>1a. Doença</th>\n",
              "      <th>Idade 1a. Doença</th>\n",
              "      <th>Tempo 1a Doença</th>\n",
              "      <th>Sexo</th>\n",
              "      <th>UF Nascimento</th>\n",
              "      <th>UF</th>\n",
              "      <th>Formação</th>\n",
              "      <th>Atividade</th>\n",
              "      <th>Escolaridade</th>\n",
              "      <th>Estado Civil</th>\n",
              "      <th>Religião</th>\n",
              "      <th>Outro Idioma</th>\n",
              "      <th>Análise do Contexto</th>\n",
              "      <th>Autoconfiança</th>\n",
              "      <th>Autocontrole</th>\n",
              "      <th>Conquistar e Manter Pessoas</th>\n",
              "      <th>Empatia</th>\n",
              "      <th>Leitura Corporal</th>\n",
              "      <th>Otimismo com a Vida</th>\n",
              "      <th>Sentido da Vida</th>\n",
              "    </tr>\n",
              "  </thead>\n",
              "  <tbody>\n",
              "    <tr>\n",
              "      <th>0</th>\n",
              "      <td>13531</td>\n",
              "      <td>depressão</td>\n",
              "      <td>31 - 49 anos</td>\n",
              "      <td>Um ano</td>\n",
              "      <td>Feminino</td>\n",
              "      <td>SP</td>\n",
              "      <td>SP</td>\n",
              "      <td>Administradora</td>\n",
              "      <td>Gerente de Compras</td>\n",
              "      <td>Pós-Graduação</td>\n",
              "      <td>Casado</td>\n",
              "      <td>Católico</td>\n",
              "      <td>Sim</td>\n",
              "      <td>Boa no estresse (PC-P)</td>\n",
              "      <td>Fraca no estresse (PC-I)</td>\n",
              "      <td>Fraca no estresse (PC-I)</td>\n",
              "      <td>Boa diante do impacto do estresse (PC-P)</td>\n",
              "      <td>Moderada no estresse (PC-I)</td>\n",
              "      <td>Excelente no estresse</td>\n",
              "      <td>Forte no estresse (PC-P)</td>\n",
              "      <td>Boa no estresse (PC-P)</td>\n",
              "    </tr>\n",
              "    <tr>\n",
              "      <th>1</th>\n",
              "      <td>13532</td>\n",
              "      <td>enfermidade que me levou a 15 dias de hospital...</td>\n",
              "      <td>7 - 12 anos</td>\n",
              "      <td>Mais de um ano</td>\n",
              "      <td>Masculino</td>\n",
              "      <td>SP</td>\n",
              "      <td>SP</td>\n",
              "      <td>Arquiteto</td>\n",
              "      <td>NaN</td>\n",
              "      <td>Pós-Graduação</td>\n",
              "      <td>Casado</td>\n",
              "      <td>Evangélico</td>\n",
              "      <td>Sim</td>\n",
              "      <td>Excelente no estresse</td>\n",
              "      <td>Moderada no estresse (PC-I)</td>\n",
              "      <td>Fraca no estresse (PC-I)</td>\n",
              "      <td>Boa diante do impacto do estresse (PC-P)</td>\n",
              "      <td>Boa no estresse (PC-P)</td>\n",
              "      <td>Boa no estresse (PC-P)</td>\n",
              "      <td>Excelente no estresse</td>\n",
              "      <td>Moderada no estresse (PC-P)</td>\n",
              "    </tr>\n",
              "    <tr>\n",
              "      <th>2</th>\n",
              "      <td>13533</td>\n",
              "      <td>Violência dentro de casa</td>\n",
              "      <td>7 - 12 anos</td>\n",
              "      <td>Mais de um ano</td>\n",
              "      <td>Masculino</td>\n",
              "      <td>SP</td>\n",
              "      <td>SP</td>\n",
              "      <td>NaN</td>\n",
              "      <td>Pesquisa e leitura de livros</td>\n",
              "      <td>Superior Completo</td>\n",
              "      <td>Solteiro</td>\n",
              "      <td>Outro</td>\n",
              "      <td>Não</td>\n",
              "      <td>Boa no estresse (PC-P)</td>\n",
              "      <td>Forte no estresse (PC-P)</td>\n",
              "      <td>Moderada no estresse (PC-P)</td>\n",
              "      <td>Boa diante do impacto do estresse (PC-P)</td>\n",
              "      <td>Boa no estresse (PC-P)</td>\n",
              "      <td>Moderada no estresse (PC-P)</td>\n",
              "      <td>Excelente no estresse</td>\n",
              "      <td>Boa no estresse (PC-P)</td>\n",
              "    </tr>\n",
              "    <tr>\n",
              "      <th>3</th>\n",
              "      <td>13534</td>\n",
              "      <td>NaN</td>\n",
              "      <td>NaN</td>\n",
              "      <td>NaN</td>\n",
              "      <td>Masculino</td>\n",
              "      <td>SP</td>\n",
              "      <td>SP</td>\n",
              "      <td>Administração de Empresas</td>\n",
              "      <td>Analista de Mercado</td>\n",
              "      <td>Superior Completo</td>\n",
              "      <td>Solteiro</td>\n",
              "      <td>Evangélico</td>\n",
              "      <td>Sim</td>\n",
              "      <td>Excelente no estresse</td>\n",
              "      <td>Fraca no estresse (PC-I)</td>\n",
              "      <td>Fraca no estresse (PC-I)</td>\n",
              "      <td>Forte diante do impacto do estresse (PC-P)</td>\n",
              "      <td>Excelente no estresse</td>\n",
              "      <td>Boa no estresse (PC-P)</td>\n",
              "      <td>Boa no estresse (PC-P)</td>\n",
              "      <td>Boa no estresse (PC-P)</td>\n",
              "    </tr>\n",
              "    <tr>\n",
              "      <th>4</th>\n",
              "      <td>13535</td>\n",
              "      <td>Conhecer a comunidade quilombola Pedro Cubas</td>\n",
              "      <td>13 - 17 anos</td>\n",
              "      <td>Mais de um ano</td>\n",
              "      <td>Masculino</td>\n",
              "      <td>SP</td>\n",
              "      <td>SP</td>\n",
              "      <td>NaN</td>\n",
              "      <td>NaN</td>\n",
              "      <td>Superior Incompleto</td>\n",
              "      <td>Solteiro</td>\n",
              "      <td>Evangélico</td>\n",
              "      <td>Sim</td>\n",
              "      <td>Excelente no estresse</td>\n",
              "      <td>Excelente face ao estresse</td>\n",
              "      <td>Excelente no estresse</td>\n",
              "      <td>Excelente face ao impacto do estresse (PC-E)</td>\n",
              "      <td>Forte no estresse (PC-P)</td>\n",
              "      <td>Boa no estresse (PC-P)</td>\n",
              "      <td>Excelente no estresse</td>\n",
              "      <td>Excelente no estresse</td>\n",
              "    </tr>\n",
              "  </tbody>\n",
              "</table>\n",
              "</div>"
            ],
            "text/plain": [
              "   Numero do Sujeito  ...              Sentido da Vida\n",
              "0              13531  ...       Boa no estresse (PC-P)\n",
              "1              13532  ...  Moderada no estresse (PC-P)\n",
              "2              13533  ...       Boa no estresse (PC-P)\n",
              "3              13534  ...       Boa no estresse (PC-P)\n",
              "4              13535  ...        Excelente no estresse\n",
              "\n",
              "[5 rows x 21 columns]"
            ]
          },
          "metadata": {
            "tags": []
          },
          "execution_count": 1419
        }
      ]
    },
    {
      "cell_type": "markdown",
      "metadata": {
        "id": "Q17mt2QoSHx3"
      },
      "source": [
        "##2. Preparação dos dados"
      ]
    },
    {
      "cell_type": "markdown",
      "metadata": {
        "id": "Z7jCBxxr2fdT"
      },
      "source": [
        "\n",
        "**Transformando as colunas**"
      ]
    },
    {
      "cell_type": "code",
      "metadata": {
        "id": "zn8yJYKt0Tww"
      },
      "source": [
        "## Nomes das colunas (todos em minúsculo e sem espaço)\n",
        "df.columns.str.lower()\n",
        "df.columns = df.columns.str.lower().str.replace(' ', '_')"
      ],
      "execution_count": 1420,
      "outputs": []
    },
    {
      "cell_type": "code",
      "metadata": {
        "id": "5B_5u8g71izG"
      },
      "source": [
        "## Renomear colunas relacionadas a doença/trauma\n",
        "df = df.rename(columns={'1a._doença': 'trauma_doenca', 'idade_1a._doença': 'idade_trauma', 'tempo_1a_doença': 'tempo_trauma', \n",
        "                        'formação': 'formacao', 'religião': 'religiao', 'análise_do_contexto': 'analise_contexto', 'autoconfiança': 'autoconfianca',\n",
        "                        'conquistar_e_manter_pessoas': 'conquistar', 'otimismo_com_a_vida': 'otimismo'})"
      ],
      "execution_count": 1421,
      "outputs": []
    },
    {
      "cell_type": "code",
      "metadata": {
        "id": "igdZ5KSicBRa"
      },
      "source": [
        "#Removendo colunas não necessárias\r\n",
        "df = df.drop(columns=['numero_do_sujeito', 'atividade', 'uf_nascimento', 'uf', 'outro_idioma'])"
      ],
      "execution_count": 1422,
      "outputs": []
    },
    {
      "cell_type": "markdown",
      "metadata": {
        "id": "iqHK1sv4Vw1g"
      },
      "source": [
        "**Tratamento de valores nulos (NaN)**"
      ]
    },
    {
      "cell_type": "code",
      "metadata": {
        "id": "5TEnp4g4XxO9"
      },
      "source": [
        "df = df.dropna(subset=['trauma_doenca', 'idade_trauma', 'tempo_trauma'])"
      ],
      "execution_count": 1423,
      "outputs": []
    },
    {
      "cell_type": "markdown",
      "metadata": {
        "id": "Y-iP9kGfYpEJ"
      },
      "source": [
        "**Transformando objetos em categorias**"
      ]
    },
    {
      "cell_type": "code",
      "metadata": {
        "id": "e7rfSpFMYyZj"
      },
      "source": [
        "#Transformando objetos em strings\r\n",
        "# label_encoder = LabelEncoder() - não funcionou como esperado, porque classifica por ordem alfabética\r\n",
        "\r\n",
        "escolaridade = {'1ª a 4ª série': 0, '5ª a 9ª série': 1, 'Ensino Médio': 2, 'Técnico': 3, 'Superior Completo': 4, 'Superior Incompleto': 5, 'Pós-Graduação': 6}\r\n",
        "df ['escolaridade'] = df.escolaridade.map (escolaridade)\r\n",
        "\r\n"
      ],
      "execution_count": 1424,
      "outputs": []
    },
    {
      "cell_type": "code",
      "metadata": {
        "colab": {
          "base_uri": "https://localhost:8080/"
        },
        "id": "L9cr9PReTTg5",
        "outputId": "a85a3b64-dbb6-43c4-b55f-c7d0da4ae83f"
      },
      "source": [
        "for feature in df.columns:\r\n",
        "    print('The feature is {} and number of categories are {}'.format(feature,len(df[feature].unique())))"
      ],
      "execution_count": 1425,
      "outputs": [
        {
          "output_type": "stream",
          "text": [
            "The feature is trauma_doenca and number of categories are 1722\n",
            "The feature is idade_trauma and number of categories are 6\n",
            "The feature is tempo_trauma and number of categories are 5\n",
            "The feature is sexo and number of categories are 2\n",
            "The feature is formacao and number of categories are 721\n",
            "The feature is escolaridade and number of categories are 7\n",
            "The feature is estado_civil and number of categories are 5\n",
            "The feature is religiao and number of categories are 4\n",
            "The feature is analise_contexto and number of categories are 20\n",
            "The feature is autoconfianca and number of categories are 22\n",
            "The feature is autocontrole and number of categories are 24\n",
            "The feature is conquistar and number of categories are 22\n",
            "The feature is empatia and number of categories are 23\n",
            "The feature is leitura_corporal and number of categories are 24\n",
            "The feature is otimismo and number of categories are 23\n",
            "The feature is sentido_da_vida and number of categories are 23\n"
          ],
          "name": "stdout"
        }
      ]
    },
    {
      "cell_type": "code",
      "metadata": {
        "id": "jNZJwa89Y3U2"
      },
      "source": [
        "#Aplicando a moda em valores nulos nas colunas Idade e Tempo de duração da doença ou trauma\r\n",
        "df['tempo_trauma']=df['tempo_trauma'].fillna(df['tempo_trauma'].mode()[0])\r\n",
        "df['idade_trauma']=df['idade_trauma'].fillna(df['idade_trauma'].mode()[0])"
      ],
      "execution_count": 1426,
      "outputs": []
    },
    {
      "cell_type": "markdown",
      "metadata": {
        "id": "Xa3S5D_kWNzx"
      },
      "source": [
        "**Padronização do dataframe**\r\n"
      ]
    },
    {
      "cell_type": "code",
      "metadata": {
        "id": "dxr7eHYxmk-K"
      },
      "source": [
        "#Padronizando dataframe em minúsculo e sem acentuação\n",
        "\n",
        "for column in df.columns:\n",
        "  df[column] = df[column].astype(str).str.lower()\n",
        "  \n",
        "cols = df.select_dtypes(include=[np.object]).columns\n",
        "df[cols] = df[cols].apply(lambda x: x.str.normalize('NFKD').str.encode('ascii', errors='ignore').str.decode('utf-8'))"
      ],
      "execution_count": 1427,
      "outputs": []
    },
    {
      "cell_type": "markdown",
      "metadata": {
        "id": "Abwx6WgcLD6_"
      },
      "source": [
        "**Padronizando coluna \"Trauma ou Doença\"**"
      ]
    },
    {
      "cell_type": "code",
      "metadata": {
        "id": "NIWpw-BwRjtP"
      },
      "source": [
        "stopwords = ['a', 'minha', 'que', 'me', 'de', 'e', 'na', 'quase', 'dos', 'do', 'meus', 'da', 'aos', 'um', 'numa', 'teve', 'enquanto', 'meu', \r\n",
        "             'sem', 'no', 'para', 'primeira', 'com', 'muito', 'fui', 'durante', 'uma', 'em', 'por', 'o', 'quando', 'eu', 'tive']"
      ],
      "execution_count": 1428,
      "outputs": []
    },
    {
      "cell_type": "code",
      "metadata": {
        "id": "-E5UIeKt5N9m"
      },
      "source": [
        "def removestopword (texto):\r\n",
        "  semstop = [p for p in texto.split() if p not in stopwords]\r\n",
        "  return ' '.join(semstop)"
      ],
      "execution_count": 1429,
      "outputs": []
    },
    {
      "cell_type": "code",
      "metadata": {
        "id": "jppatKt86Ub7"
      },
      "source": [
        "df['trauma_doenca'] = df['trauma_doenca'].apply(removestopword)"
      ],
      "execution_count": 1430,
      "outputs": []
    },
    {
      "cell_type": "code",
      "metadata": {
        "id": "8y0Ka6oEIU-x"
      },
      "source": [
        "CATEGORIAS = {'saude_doenca': ['enfermidade', 'pneumonia', 'tumor', 'labirintite', 'corte', 'cirurgia', \r\n",
        "              'vesicula', 'queimadura', 'fratura', 'chron', 'hernia', 'hepatite', 'disco', 'bronquite', 'apendicite', 'caxumba', 'tireoide',\r\n",
        "              'hipertensao', 'torci', 'artrodese', 'gordura', 'lesao', 'sarampo', 'narcolepsia', 'tenorrafia', 'disfuncao', 'condropatia',\r\n",
        "              'asma', 'dor', 'gastrite', 'internacao', 'infarto', 'febre', 'meningite', 'obesidade', 'alzhimer', 'anemia', 'neurolofica',\r\n",
        "              'neurologico', 'doenca', 'avc', 'visicula', 'ernia', 'cardiaco', 'edema', 'presao', 'tibia', 'renal', 'operacao', 'braco', 'adoecimento',\r\n",
        "              'basite', 'lombares', 'dengue', 'coluna', 'menigite', 'audicao', 'infeccao', 'pericardite', 'catarata', ' inflamacao',\r\n",
        "              'operei', 'convulsao', 'abcesso', 'artrite', 'trombose', 'catapora', 'infarte', 'epilepsia', 'torcao', 'deslocar', 'inflamacao', 'renais',\r\n",
        "              'quebrei', 'tireoide', 'micose', 'clavicula', 'fraturei', 'diabete', 'prielonefrite', 'rcp', 'cisto', 'amputacao', 'toxoplasmose',\r\n",
        "              'comvulcao', 'hemorragia', 'derbuculoce', 'deboculose', 'operasao', 'viral', 'virus', 'internado', 'toc', 'traumatismo', 'alergia',\r\n",
        "              'enxaqueca', 'apendice', 'verme', 'visual', 'pylori', 'cardiaca', 'garganta', 'cicatriz', 'sifiles', 'bacteria',\r\n",
        "              'gagueira', 'salmonela', 'eclampsia', 'retina', 'gripe', 'taquicardia', 'ictiose', 'entalado', 'endometriose', 'denque', 'quebraduras', \r\n",
        "              'quebrado', 'osso', 'quebrar', 'joelho', 'tornozelo', 'cancer', 'hiv', 'tuberculose',  'cardiopatia', 'esclerose',\r\n",
        "              'falecimento', 'morte', 'falaceu', 'ente', 'perdas', 'perda', 'obito', 'perca', 'perde', 'falecido', \r\n",
        "              'ansiedade', 'depressao', 'panico', 'estresse', 'traumatico', 'suicidio', 'disturbio', 'perdi', 'mutilacoes',\r\n",
        "              'sociais', 'rejeicao', 'burnout', 'bulimia', 'alcool', 'bebida', 'alcolismo', 'alcoolismo', 'drogas', 'vicio', 'pedofilia'],\r\n",
        "\r\n",
        "              'relacoes_interpessoais': ['separacao', 'divorcio', 'separaram', 'conjugal', 'relacionamento', 'traicao', 'gravidez', 'aborto', 'feto',\r\n",
        "                                         'estupro', 'abuso', 'abusado', 'interpessoais', 'namoro', 'violencia', 'VIOLÊNCIA', 'violência', 'sequestro', \r\n",
        "                                         'arma', 'baleado', 'assassinato', 'agressor','assalto', 'assaltada'],\r\n",
        "              \r\n",
        "              'desempenho': ['trabalho', 'escola', 'vestibular', 'desemprego', 'desligado', 'acidente', 'acicente', 'queda', 'capotamento', \r\n",
        "                             'atrolepamento', 'batida', 'atropelamento', 'afogamento', 'carro', 'moto', 'atropelado', 'financeiras'],\r\n",
        "\r\n",
        "              'outros': [ 'preso', 'nenhuma resposta', 'nenhuma', 'nenhum', 'nao houve', '2010', 'nao considero', 'nada', \r\n",
        "                         'nao ha', 'nao recordo', 'ca', 'i', 'nao', '']}"
      ],
      "execution_count": 1431,
      "outputs": []
    },
    {
      "cell_type": "code",
      "metadata": {
        "colab": {
          "base_uri": "https://localhost:8080/"
        },
        "id": "wgbICJN3hxsm",
        "outputId": "84a9892b-bb68-43dc-976b-67ff79c4072e"
      },
      "source": [
        "CATEGORIAS.keys()"
      ],
      "execution_count": 1432,
      "outputs": [
        {
          "output_type": "execute_result",
          "data": {
            "text/plain": [
              "dict_keys(['saude_doenca', 'relacoes_interpessoais', 'desempenho', 'outros'])"
            ]
          },
          "metadata": {
            "tags": []
          },
          "execution_count": 1432
        }
      ]
    },
    {
      "cell_type": "code",
      "metadata": {
        "id": "qpm6m1v0ewCq"
      },
      "source": [
        "def procurar_palavra(lista_palavras, sentenca):\r\n",
        "  palavra_presente=False\r\n",
        "  for palavra in lista_palavras:\r\n",
        "    if palavra in sentenca:\r\n",
        "      palavra_presente=True\r\n",
        "  return palavra_presente\r\n",
        "\r\n",
        "def mapear_categoria(sentenca):\r\n",
        "  for cat in CATEGORIAS.keys():\r\n",
        "    if procurar_palavra(CATEGORIAS[cat], sentenca):\r\n",
        "      return cat \r\n",
        "  return sentenca"
      ],
      "execution_count": 1433,
      "outputs": []
    },
    {
      "cell_type": "code",
      "metadata": {
        "colab": {
          "base_uri": "https://localhost:8080/",
          "height": 35
        },
        "id": "p5sz1aZLg4Tn",
        "outputId": "7edac75b-6e60-43dc-bdff-6d587fd28ea5"
      },
      "source": [
        "sentenca = 'violencia dentro casa'\r\n",
        "mapear_categoria(sentenca)"
      ],
      "execution_count": 1434,
      "outputs": [
        {
          "output_type": "execute_result",
          "data": {
            "application/vnd.google.colaboratory.intrinsic+json": {
              "type": "string"
            },
            "text/plain": [
              "'relacoes_interpessoais'"
            ]
          },
          "metadata": {
            "tags": []
          },
          "execution_count": 1434
        }
      ]
    },
    {
      "cell_type": "code",
      "metadata": {
        "id": "Mkgi73O2hVKN"
      },
      "source": [
        "df['trauma_doenca'] = df['trauma_doenca'].apply(mapear_categoria)"
      ],
      "execution_count": 1435,
      "outputs": []
    },
    {
      "cell_type": "markdown",
      "metadata": {
        "id": "Yt-79efvavuR"
      },
      "source": [
        "**Padronizando coluna \"Formação\"**"
      ]
    },
    {
      "cell_type": "code",
      "metadata": {
        "id": "yF-JCiE6Q3JS"
      },
      "source": [
        "df['formacao'] = df['formacao'].apply(removestopword)"
      ],
      "execution_count": 1436,
      "outputs": []
    },
    {
      "cell_type": "code",
      "metadata": {
        "id": "sDIfrJTSbHkA"
      },
      "source": [
        "CAT_FORMACAO = {'ciencias exatas': ['contador', 'contadora', 'contabeis', 'economicas', 'contabil', 'contabilista', 'quimica', 'quimico', 'fisico', 'fisica',\r\n",
        "                                    'engenharia', 'engenheiro', 'engenheira', 'eng', 'economia', 'financas', 'economista', 'estatistico',\r\n",
        "                                    'ti', 'informatica', 'computacao', 'redes', 'sistemas', 'informacao', 'dados', 'sistema', 'desenvolvedor', 'programador',\r\n",
        "                                    'arquiteto', 'arquiteta', 'arquitetura'],\r\n",
        "                \r\n",
        "                'ciencias humanas': ['historia', 'geografo', 'geografia', 'filosofia', 'filosofo', 'filosofa', 'sociologo', 'filosifia',\r\n",
        "                                     'militar', 'molitar', 'bombeito', 'bombeiro', 'bombeira', 'bombeiros', 'oficial', 'defesa civil', \r\n",
        "                                     'bm', 'seguranca', 'cbmdf', 'administradora', 'administracao', 'administrador', 'adm', 'rh', 'empresarial', \r\n",
        "                                     'empresaria', 'aministracao', 'secretaria', 'empresario', 'escritorio', 'negocios', 'secretariado', 'recursos humanos',\r\n",
        "                                     'internacionais', 'gestao', 'exterior', 'gestora', 'propaganga', 'marketing', 'relacoes publicas', 'comunicacao', \r\n",
        "                                     'grafica', 'artes', 'designer', 'publicitario', 'publicitaria', 'fotografo', 'comunicadora', 'jornalismo', \r\n",
        "                                     'telecomunicacoes', 'radiologia', 'jornalista', 'imprensa', 'artes', 'design', 'publicidade',\r\n",
        "                                     'professor', 'professora', 'pedagogia', 'letras', 'pedagogo', 'pedagoga', 'pedagogica', 'pedadogia', 'pedagogica',\r\n",
        "                                     'psicologa', 'psicologo', 'psicologia', 'psicanalista', 'terapia', 'psicolgia', 'advoga', 'advocacia', 'direito', \r\n",
        "                                     'advogada', 'advogado'],\r\n",
        "\r\n",
        "\r\n",
        "                'ciencias biologicas': ['medico', 'medica', 'medicina', 'enfermeiro', 'enfermeira', 'enfermagem', 'nutricionista', 'nutricao', 'neurocirurgiao',\r\n",
        "                'farmaceutica', 'clinica', 'biomedicina', 'cirurgia', 'optometria', 'odontologia', 'odontologia'],\r\n",
        "\r\n",
        "                'outras areas': ['comercial', 'compradora', 'contas', 'testador quest', 'metalurgico', 'ambiental', 'pos',\r\n",
        "                'grau', 'escultor', 'turimologa', 'turismologo', 'oceanografa', 'assistente', 'superior', 'seminarista', 'agro',\r\n",
        "                'elitricista', 'logistica', 'gastronomia', 'aprendiz', 'mallet', 'operacoes', 'vendas', 'musico', 'coml', 'podologa',\r\n",
        "                'manicure', 'corretora', 'bancario', 'gerente', 'massoterapeuta', 'biologo', 'biologia', 'turismo', 'arte', 'mecanico',\r\n",
        "                'mecanica', 'fisioterapeuta', 'juridica', 'educador fisico', 'educacao fisica', 'operadora', 'vendedora', 'eletronica',\r\n",
        "                'cfo', 'teologia', 'funcionario', 'qualidade', 'teologo', 'condutor.', 'pianista', 'funcionaria', 'nao', 'n', 'nenhuma', 'nenhum',\r\n",
        "                'barista', 'biologa', 'cabeleireiro', 'cabelereira', 'coach',  'comprador', 'corretor', 'costureira', 'moda', 'decoradora',\r\n",
        "                'doutorado', 'fisiva', 'estagiario', 'farmacia', 'filosifia', 'graduacao', 'graducao', 'hotelaria', 'lavrador', 'maestro', 'magisterio',\r\n",
        "                'mba', 'mercadologa', 'mestrado', 'moda', 'motorista', 'musica', 'musicista', 'radialista', 'servidor', 'social', 'taxista', 'tradutora',\r\n",
        "                'soldador', 'sim', 'sueprior', 'solteira', '****', 'estudante', 'estudanta', 'estudanti', 'estudar', 'escola', 'mastologista', 'bacharel']}"
      ],
      "execution_count": 1437,
      "outputs": []
    },
    {
      "cell_type": "code",
      "metadata": {
        "colab": {
          "base_uri": "https://localhost:8080/"
        },
        "id": "popFMoeobTfv",
        "outputId": "192fb62e-318d-4c66-cc05-a9d317b86f26"
      },
      "source": [
        "CAT_FORMACAO.keys()"
      ],
      "execution_count": 1438,
      "outputs": [
        {
          "output_type": "execute_result",
          "data": {
            "text/plain": [
              "dict_keys(['ciencias exatas', 'ciencias humanas', 'ciencias biologicas', 'outras areas'])"
            ]
          },
          "metadata": {
            "tags": []
          },
          "execution_count": 1438
        }
      ]
    },
    {
      "cell_type": "code",
      "metadata": {
        "id": "dx5faX78bWg0"
      },
      "source": [
        "def procurar_palavra_form(lista_palavras_form, sentenca_form):\r\n",
        "  palavra_presente_form=False\r\n",
        "  for palavra_form in lista_palavras_form:\r\n",
        "    if palavra_form in sentenca_form:\r\n",
        "      palavra_presente_form=True\r\n",
        "  return palavra_presente_form\r\n",
        "\r\n",
        "def mapear_categoria2(sentenca_form):\r\n",
        "  for categ in CAT_FORMACAO.keys():\r\n",
        "    if procurar_palavra_form(CAT_FORMACAO[categ], sentenca_form):\r\n",
        "      return categ\r\n",
        "  return sentenca_form"
      ],
      "execution_count": 1439,
      "outputs": []
    },
    {
      "cell_type": "code",
      "metadata": {
        "colab": {
          "base_uri": "https://localhost:8080/",
          "height": 35
        },
        "id": "QTzET7mLbaDd",
        "outputId": "67c40084-20bd-4da6-8cbd-c32f4344a8e4"
      },
      "source": [
        "sentenca_form = 'administradora'\r\n",
        "mapear_categoria2(sentenca_form)"
      ],
      "execution_count": 1440,
      "outputs": [
        {
          "output_type": "execute_result",
          "data": {
            "application/vnd.google.colaboratory.intrinsic+json": {
              "type": "string"
            },
            "text/plain": [
              "'ciencias humanas'"
            ]
          },
          "metadata": {
            "tags": []
          },
          "execution_count": 1440
        }
      ]
    },
    {
      "cell_type": "code",
      "metadata": {
        "id": "FBe7I50qbfzt"
      },
      "source": [
        "df['formacao'] = df['formacao'].apply(mapear_categoria2)"
      ],
      "execution_count": 1441,
      "outputs": []
    },
    {
      "cell_type": "markdown",
      "metadata": {
        "id": "OYu34HTMFbH2"
      },
      "source": [
        "###Padronização das áreas da vida"
      ]
    },
    {
      "cell_type": "code",
      "metadata": {
        "id": "BxQF0Y_6hUeN"
      },
      "source": [
        "AREAS_DA_VIDA = {'boa_pcp': ['boa no estresse (pc-p)', 'boa face ao estresse (pc-p)', 'boa diante do impacto do estresse (pc-p)'],\r\n",
        "      'boa_pci': ['boa no estresse (pc-i)', 'boa face ao estresse (pc-i)', 'boa diante do impacto do estresse (pc-i)', 'boa face ao impacto do estresse (pc-i)'],\r\n",
        "      'equilibrio': ['excelaancia face ao estresse', 'excelente face ao estresse', 'excelente no estresse', 'excelente face ao impacto do estresse (pc-e)'],\r\n",
        "      'forte_pci': ['forte face ao estresse (pc-i)', 'forte diante do estresse (pc-i)', 'forte no estresse (pc-i)', 'forte face ao estresse (pc- i)', 'forte diante do impacto do estresse (pc-i)'],\r\n",
        "      'forte_pcp': ['forte no estresse (pc-p)', 'forte face ao estresse (pc-p)', 'forte diante do estresse (pc-p)', 'forte diante do impacto do estresse (pc-p)'],\r\n",
        "      'fraca_pci': ['fraca no estresse (pc-i)', 'fraca face ao estresse (pc-i)', 'fraca diante do estresse (pc-i)', 'fraca diante do impacto do estresse (pc-i) '],\r\n",
        "      'fraca_pcp': ['fraca no estresse (pc-p)', 'fraca face ao estresse (pc-p)', 'fraca diante do impacto do estresse (pc-i)'],\r\n",
        "      'moderada_pcp': ['moderada no estresse (pc-p)', 'moderada perante o estresse (pc-p)', 'moderada face ao estresse (pc-p)', 'moderada diante do impacto do estresse (pc-p)'],\r\n",
        "      'moderada_pci': ['moderada no estresse (pc-i)', 'moderada perante o estresse (pc-i)', 'moderada face ao estresse (pc-i)', 'moderada diante do impacto do estresse (pc-i)']}"
      ],
      "execution_count": 1442,
      "outputs": []
    },
    {
      "cell_type": "code",
      "metadata": {
        "colab": {
          "base_uri": "https://localhost:8080/"
        },
        "id": "VmgFE752hXLI",
        "outputId": "79ecc0c8-1ad2-4a31-933d-d66009e0968f"
      },
      "source": [
        "AREAS_DA_VIDA.keys()"
      ],
      "execution_count": 1443,
      "outputs": [
        {
          "output_type": "execute_result",
          "data": {
            "text/plain": [
              "dict_keys(['boa_pcp', 'boa_pci', 'equilibrio', 'forte_pci', 'forte_pcp', 'fraca_pci', 'fraca_pcp', 'moderada_pcp', 'moderada_pci'])"
            ]
          },
          "metadata": {
            "tags": []
          },
          "execution_count": 1443
        }
      ]
    },
    {
      "cell_type": "code",
      "metadata": {
        "id": "xEajPFM6hacx"
      },
      "source": [
        "def procurar_palavra_sv(lista_palavras_sv, sentenca_sv):\r\n",
        "  palavra_presente_sv=False\r\n",
        "  for palavra_sv in lista_palavras_sv:\r\n",
        "    if palavra_sv in sentenca_sv:\r\n",
        "      palavra_presente_sv=True\r\n",
        "  return palavra_presente_sv\r\n",
        "\r\n",
        "def mapear_categoria_sv(sentenca_sv):\r\n",
        "  for categ_sv in AREAS_DA_VIDA.keys():\r\n",
        "    if procurar_palavra_sv(AREAS_DA_VIDA[categ_sv], sentenca_sv):\r\n",
        "      return categ_sv\r\n",
        "  return sentenca_sv"
      ],
      "execution_count": 1444,
      "outputs": []
    },
    {
      "cell_type": "code",
      "metadata": {
        "id": "txzcf_qNhddj",
        "colab": {
          "base_uri": "https://localhost:8080/",
          "height": 35
        },
        "outputId": "268762ab-2b8d-4386-a375-4efc7e4c4de7"
      },
      "source": [
        "sentenca_sv = 'excelente no estresse'\r\n",
        "mapear_categoria_sv(sentenca_sv)"
      ],
      "execution_count": 1445,
      "outputs": [
        {
          "output_type": "execute_result",
          "data": {
            "application/vnd.google.colaboratory.intrinsic+json": {
              "type": "string"
            },
            "text/plain": [
              "'equilibrio'"
            ]
          },
          "metadata": {
            "tags": []
          },
          "execution_count": 1445
        }
      ]
    },
    {
      "cell_type": "code",
      "metadata": {
        "id": "uoOrVaFYFp5M"
      },
      "source": [
        "df['analise_contexto'] = df['analise_contexto'].apply(mapear_categoria_sv)\r\n",
        "df['conquistar'] = df['conquistar'].apply(mapear_categoria_sv)\r\n",
        "df['autoconfianca'] = df['autoconfianca'].apply(mapear_categoria_sv)\r\n",
        "df['autocontrole'] = df['autocontrole'].apply(mapear_categoria_sv)\r\n",
        "df['empatia'] = df['empatia'].apply(mapear_categoria_sv)\r\n",
        "df['leitura_corporal'] = df['leitura_corporal'].apply(mapear_categoria_sv)\r\n",
        "df['otimismo'] = df['otimismo'].apply(mapear_categoria_sv)\r\n",
        "df['sentido_da_vida'] = df['sentido_da_vida'].apply(mapear_categoria_sv)"
      ],
      "execution_count": 1446,
      "outputs": []
    },
    {
      "cell_type": "code",
      "metadata": {
        "id": "D4l-DXJ1FqmT"
      },
      "source": [
        "## Transformando em binário as categorias\r\n",
        "df[\"analise_contexto\"] = df[\"analise_contexto\"].apply(lambda x: 0 if any(item in x for item in ['fraca', 'moderada']) else 1)\r\n",
        "df[\"autoconfianca\"] = df[\"autoconfianca\"].apply(lambda x: 0 if any(item in x for item in ['fraca', 'moderada']) else 1)\r\n",
        "df[\"autocontrole\"] = df[\"autocontrole\"].apply(lambda x: 0 if any(item in x for item in ['fraca', 'moderada']) else 1)\r\n",
        "df[\"conquistar\"] = df[\"conquistar\"].apply(lambda x: 0 if any(item in x for item in ['fraca', 'moderada']) else 1)\r\n",
        "df[\"empatia\"] = df[\"empatia\"].apply(lambda x: 0 if any(item in x for item in ['fraca', 'moderada']) else 1)\r\n",
        "df[\"leitura_corporal\"] = df[\"leitura_corporal\"].apply(lambda x: 0 if any(item in x for item in ['fraca', 'moderada']) else 1)\r\n",
        "df[\"otimismo\"] = df[\"otimismo\"].apply(lambda x: 0 if any(item in x for item in ['fraca', 'moderada']) else 1)\r\n",
        "df[\"sentido_da_vida\"] = df[\"sentido_da_vida\"].apply(lambda x: 0 if any(item in x for item in ['fraca', 'moderada']) else 1)"
      ],
      "execution_count": 1447,
      "outputs": []
    },
    {
      "cell_type": "code",
      "metadata": {
        "colab": {
          "base_uri": "https://localhost:8080/"
        },
        "id": "H71qP06tFstz",
        "outputId": "cf8564d5-bfdc-4b38-fe63-61110fb649af"
      },
      "source": [
        "lb_enc = LabelEncoder()\r\n",
        "df['religiao'] = lb_enc.fit_transform(df[[\"religiao\"]])\r\n",
        "df['formacao'] = lb_enc.fit_transform(df[[\"formacao\"]])\r\n",
        "df['estado_civil'] = lb_enc.fit_transform(df[[\"estado_civil\"]])\r\n",
        "df['idade_trauma'] = lb_enc.fit_transform(df[[\"idade_trauma\"]])\r\n",
        "df['tempo_trauma'] = lb_enc.fit_transform(df[[\"tempo_trauma\"]])\r\n",
        "df['escolaridade'] = lb_enc.fit_transform(df[[\"escolaridade\"]])"
      ],
      "execution_count": 1448,
      "outputs": [
        {
          "output_type": "stream",
          "text": [
            "/usr/local/lib/python3.6/dist-packages/sklearn/preprocessing/_label.py:251: DataConversionWarning: A column-vector y was passed when a 1d array was expected. Please change the shape of y to (n_samples, ), for example using ravel().\n",
            "  y = column_or_1d(y, warn=True)\n"
          ],
          "name": "stderr"
        }
      ]
    },
    {
      "cell_type": "code",
      "metadata": {
        "id": "mMWIdPAEF_8a"
      },
      "source": [
        "df = pd.get_dummies(df, columns=['sexo'])\r\n",
        "df = pd.get_dummies(df, columns=['trauma_doenca'])"
      ],
      "execution_count": 1449,
      "outputs": []
    },
    {
      "cell_type": "code",
      "metadata": {
        "colab": {
          "base_uri": "https://localhost:8080/",
          "height": 224
        },
        "id": "sNHeY4g3GPP5",
        "outputId": "47e2756f-0935-4a77-a1d2-5746aef6e4e9"
      },
      "source": [
        "df.head()"
      ],
      "execution_count": 1450,
      "outputs": [
        {
          "output_type": "execute_result",
          "data": {
            "text/html": [
              "<div>\n",
              "<style scoped>\n",
              "    .dataframe tbody tr th:only-of-type {\n",
              "        vertical-align: middle;\n",
              "    }\n",
              "\n",
              "    .dataframe tbody tr th {\n",
              "        vertical-align: top;\n",
              "    }\n",
              "\n",
              "    .dataframe thead th {\n",
              "        text-align: right;\n",
              "    }\n",
              "</style>\n",
              "<table border=\"1\" class=\"dataframe\">\n",
              "  <thead>\n",
              "    <tr style=\"text-align: right;\">\n",
              "      <th></th>\n",
              "      <th>idade_trauma</th>\n",
              "      <th>tempo_trauma</th>\n",
              "      <th>formacao</th>\n",
              "      <th>escolaridade</th>\n",
              "      <th>estado_civil</th>\n",
              "      <th>religiao</th>\n",
              "      <th>analise_contexto</th>\n",
              "      <th>autoconfianca</th>\n",
              "      <th>autocontrole</th>\n",
              "      <th>conquistar</th>\n",
              "      <th>empatia</th>\n",
              "      <th>leitura_corporal</th>\n",
              "      <th>otimismo</th>\n",
              "      <th>sentido_da_vida</th>\n",
              "      <th>sexo_feminino</th>\n",
              "      <th>sexo_masculino</th>\n",
              "      <th>trauma_doenca_desempenho</th>\n",
              "      <th>trauma_doenca_outros</th>\n",
              "      <th>trauma_doenca_relacoes_interpessoais</th>\n",
              "      <th>trauma_doenca_saude_doenca</th>\n",
              "    </tr>\n",
              "  </thead>\n",
              "  <tbody>\n",
              "    <tr>\n",
              "      <th>0</th>\n",
              "      <td>2</td>\n",
              "      <td>4</td>\n",
              "      <td>2</td>\n",
              "      <td>6</td>\n",
              "      <td>0</td>\n",
              "      <td>0</td>\n",
              "      <td>1</td>\n",
              "      <td>0</td>\n",
              "      <td>0</td>\n",
              "      <td>1</td>\n",
              "      <td>0</td>\n",
              "      <td>1</td>\n",
              "      <td>1</td>\n",
              "      <td>1</td>\n",
              "      <td>1</td>\n",
              "      <td>0</td>\n",
              "      <td>0</td>\n",
              "      <td>0</td>\n",
              "      <td>0</td>\n",
              "      <td>1</td>\n",
              "    </tr>\n",
              "    <tr>\n",
              "      <th>1</th>\n",
              "      <td>3</td>\n",
              "      <td>1</td>\n",
              "      <td>1</td>\n",
              "      <td>6</td>\n",
              "      <td>0</td>\n",
              "      <td>2</td>\n",
              "      <td>1</td>\n",
              "      <td>0</td>\n",
              "      <td>0</td>\n",
              "      <td>1</td>\n",
              "      <td>1</td>\n",
              "      <td>1</td>\n",
              "      <td>1</td>\n",
              "      <td>0</td>\n",
              "      <td>0</td>\n",
              "      <td>1</td>\n",
              "      <td>0</td>\n",
              "      <td>0</td>\n",
              "      <td>0</td>\n",
              "      <td>1</td>\n",
              "    </tr>\n",
              "    <tr>\n",
              "      <th>2</th>\n",
              "      <td>3</td>\n",
              "      <td>1</td>\n",
              "      <td>3</td>\n",
              "      <td>4</td>\n",
              "      <td>2</td>\n",
              "      <td>3</td>\n",
              "      <td>1</td>\n",
              "      <td>1</td>\n",
              "      <td>0</td>\n",
              "      <td>1</td>\n",
              "      <td>1</td>\n",
              "      <td>0</td>\n",
              "      <td>1</td>\n",
              "      <td>1</td>\n",
              "      <td>0</td>\n",
              "      <td>1</td>\n",
              "      <td>0</td>\n",
              "      <td>0</td>\n",
              "      <td>1</td>\n",
              "      <td>0</td>\n",
              "    </tr>\n",
              "    <tr>\n",
              "      <th>4</th>\n",
              "      <td>0</td>\n",
              "      <td>1</td>\n",
              "      <td>3</td>\n",
              "      <td>5</td>\n",
              "      <td>2</td>\n",
              "      <td>2</td>\n",
              "      <td>1</td>\n",
              "      <td>1</td>\n",
              "      <td>1</td>\n",
              "      <td>1</td>\n",
              "      <td>1</td>\n",
              "      <td>1</td>\n",
              "      <td>1</td>\n",
              "      <td>1</td>\n",
              "      <td>0</td>\n",
              "      <td>1</td>\n",
              "      <td>0</td>\n",
              "      <td>1</td>\n",
              "      <td>0</td>\n",
              "      <td>0</td>\n",
              "    </tr>\n",
              "    <tr>\n",
              "      <th>5</th>\n",
              "      <td>0</td>\n",
              "      <td>1</td>\n",
              "      <td>1</td>\n",
              "      <td>4</td>\n",
              "      <td>2</td>\n",
              "      <td>0</td>\n",
              "      <td>1</td>\n",
              "      <td>1</td>\n",
              "      <td>1</td>\n",
              "      <td>1</td>\n",
              "      <td>1</td>\n",
              "      <td>1</td>\n",
              "      <td>0</td>\n",
              "      <td>1</td>\n",
              "      <td>1</td>\n",
              "      <td>0</td>\n",
              "      <td>0</td>\n",
              "      <td>0</td>\n",
              "      <td>0</td>\n",
              "      <td>1</td>\n",
              "    </tr>\n",
              "  </tbody>\n",
              "</table>\n",
              "</div>"
            ],
            "text/plain": [
              "   idade_trauma  ...  trauma_doenca_saude_doenca\n",
              "0             2  ...                           1\n",
              "1             3  ...                           1\n",
              "2             3  ...                           0\n",
              "4             0  ...                           0\n",
              "5             0  ...                           1\n",
              "\n",
              "[5 rows x 20 columns]"
            ]
          },
          "metadata": {
            "tags": []
          },
          "execution_count": 1450
        }
      ]
    },
    {
      "cell_type": "code",
      "metadata": {
        "id": "v488_55Fsyx3"
      },
      "source": [
        "df = df.drop(columns=['formacao', 'estado_civil', 'escolaridade', 'religiao', 'sexo_feminino', 'sexo_masculino', 'idade_trauma', 'tempo_trauma'])"
      ],
      "execution_count": 1451,
      "outputs": []
    },
    {
      "cell_type": "markdown",
      "metadata": {
        "id": "TieGftUHGA5-"
      },
      "source": [
        "##3. Modelagem dos dados"
      ]
    },
    {
      "cell_type": "code",
      "metadata": {
        "id": "IkELM9aldULO"
      },
      "source": [
        "# Separar Dados de Entrada (Atributos) e de saída (target)\r\n",
        "X = df.drop('trauma_doenca_saude_doenca', axis=1)\r\n",
        "y = df.trauma_doenca_saude_doenca"
      ],
      "execution_count": 1452,
      "outputs": []
    },
    {
      "cell_type": "code",
      "metadata": {
        "colab": {
          "base_uri": "https://localhost:8080/",
          "height": 224
        },
        "id": "_OaYcQl7lBzr",
        "outputId": "f231db99-267d-4743-fe92-effeacd19ca1"
      },
      "source": [
        "X.head()"
      ],
      "execution_count": 1453,
      "outputs": [
        {
          "output_type": "execute_result",
          "data": {
            "text/html": [
              "<div>\n",
              "<style scoped>\n",
              "    .dataframe tbody tr th:only-of-type {\n",
              "        vertical-align: middle;\n",
              "    }\n",
              "\n",
              "    .dataframe tbody tr th {\n",
              "        vertical-align: top;\n",
              "    }\n",
              "\n",
              "    .dataframe thead th {\n",
              "        text-align: right;\n",
              "    }\n",
              "</style>\n",
              "<table border=\"1\" class=\"dataframe\">\n",
              "  <thead>\n",
              "    <tr style=\"text-align: right;\">\n",
              "      <th></th>\n",
              "      <th>analise_contexto</th>\n",
              "      <th>autoconfianca</th>\n",
              "      <th>autocontrole</th>\n",
              "      <th>conquistar</th>\n",
              "      <th>empatia</th>\n",
              "      <th>leitura_corporal</th>\n",
              "      <th>otimismo</th>\n",
              "      <th>sentido_da_vida</th>\n",
              "      <th>trauma_doenca_desempenho</th>\n",
              "      <th>trauma_doenca_outros</th>\n",
              "      <th>trauma_doenca_relacoes_interpessoais</th>\n",
              "    </tr>\n",
              "  </thead>\n",
              "  <tbody>\n",
              "    <tr>\n",
              "      <th>0</th>\n",
              "      <td>1</td>\n",
              "      <td>0</td>\n",
              "      <td>0</td>\n",
              "      <td>1</td>\n",
              "      <td>0</td>\n",
              "      <td>1</td>\n",
              "      <td>1</td>\n",
              "      <td>1</td>\n",
              "      <td>0</td>\n",
              "      <td>0</td>\n",
              "      <td>0</td>\n",
              "    </tr>\n",
              "    <tr>\n",
              "      <th>1</th>\n",
              "      <td>1</td>\n",
              "      <td>0</td>\n",
              "      <td>0</td>\n",
              "      <td>1</td>\n",
              "      <td>1</td>\n",
              "      <td>1</td>\n",
              "      <td>1</td>\n",
              "      <td>0</td>\n",
              "      <td>0</td>\n",
              "      <td>0</td>\n",
              "      <td>0</td>\n",
              "    </tr>\n",
              "    <tr>\n",
              "      <th>2</th>\n",
              "      <td>1</td>\n",
              "      <td>1</td>\n",
              "      <td>0</td>\n",
              "      <td>1</td>\n",
              "      <td>1</td>\n",
              "      <td>0</td>\n",
              "      <td>1</td>\n",
              "      <td>1</td>\n",
              "      <td>0</td>\n",
              "      <td>0</td>\n",
              "      <td>1</td>\n",
              "    </tr>\n",
              "    <tr>\n",
              "      <th>4</th>\n",
              "      <td>1</td>\n",
              "      <td>1</td>\n",
              "      <td>1</td>\n",
              "      <td>1</td>\n",
              "      <td>1</td>\n",
              "      <td>1</td>\n",
              "      <td>1</td>\n",
              "      <td>1</td>\n",
              "      <td>0</td>\n",
              "      <td>1</td>\n",
              "      <td>0</td>\n",
              "    </tr>\n",
              "    <tr>\n",
              "      <th>5</th>\n",
              "      <td>1</td>\n",
              "      <td>1</td>\n",
              "      <td>1</td>\n",
              "      <td>1</td>\n",
              "      <td>1</td>\n",
              "      <td>1</td>\n",
              "      <td>0</td>\n",
              "      <td>1</td>\n",
              "      <td>0</td>\n",
              "      <td>0</td>\n",
              "      <td>0</td>\n",
              "    </tr>\n",
              "  </tbody>\n",
              "</table>\n",
              "</div>"
            ],
            "text/plain": [
              "   analise_contexto  ...  trauma_doenca_relacoes_interpessoais\n",
              "0                 1  ...                                     0\n",
              "1                 1  ...                                     0\n",
              "2                 1  ...                                     1\n",
              "4                 1  ...                                     0\n",
              "5                 1  ...                                     0\n",
              "\n",
              "[5 rows x 11 columns]"
            ]
          },
          "metadata": {
            "tags": []
          },
          "execution_count": 1453
        }
      ]
    },
    {
      "cell_type": "code",
      "metadata": {
        "id": "VGBp8vFhfPB5",
        "colab": {
          "base_uri": "https://localhost:8080/"
        },
        "outputId": "2886ac4c-f612-4711-bf55-bf33ea8b5b57"
      },
      "source": [
        "y.head()"
      ],
      "execution_count": 1454,
      "outputs": [
        {
          "output_type": "execute_result",
          "data": {
            "text/plain": [
              "0    1\n",
              "1    1\n",
              "2    0\n",
              "4    0\n",
              "5    1\n",
              "Name: trauma_doenca_saude_doenca, dtype: uint8"
            ]
          },
          "metadata": {
            "tags": []
          },
          "execution_count": 1454
        }
      ]
    },
    {
      "cell_type": "markdown",
      "metadata": {
        "id": "i0KXEwgtY9m9"
      },
      "source": [
        "**Divisão da base entre teste e treino**"
      ]
    },
    {
      "cell_type": "code",
      "metadata": {
        "id": "TCeXt-wUY7zt"
      },
      "source": [
        "## Importando biblioteca para fazer a divisão da base entre teste/treino\r\n",
        "## Boa prática - Não usar o random_state\r\n",
        "## Verificar antes se precisa do stratify (quando a base não está balanceada)\r\n",
        "from sklearn.model_selection import train_test_split\r\n",
        "X_train, X_test, y_train, y_test = train_test_split(X, y,\r\n",
        "                                                    test_size=0.2,)"
      ],
      "execution_count": 1455,
      "outputs": []
    },
    {
      "cell_type": "code",
      "metadata": {
        "id": "ZHEMJDsGXu9R"
      },
      "source": [
        "#Benchmark\r\n",
        "from sklearn.dummy import DummyClassifier\r\n",
        "dummy_clf = DummyClassifier(strategy=\"most_frequent\")\r\n",
        "dummy_clf.fit(X_train, y_train)\r\n",
        "\r\n",
        "y_pred = dummy_clf.predict(X_test)"
      ],
      "execution_count": 1456,
      "outputs": []
    },
    {
      "cell_type": "code",
      "metadata": {
        "colab": {
          "base_uri": "https://localhost:8080/"
        },
        "id": "mahDGtbjjHsp",
        "outputId": "9847fc0e-e299-4c0f-ef38-367790cc1bfd"
      },
      "source": [
        "# Acuracia\r\n",
        "np.mean(y_pred==y_test) *100"
      ],
      "execution_count": 1457,
      "outputs": [
        {
          "output_type": "execute_result",
          "data": {
            "text/plain": [
              "69.83372921615202"
            ]
          },
          "metadata": {
            "tags": []
          },
          "execution_count": 1457
        }
      ]
    },
    {
      "cell_type": "code",
      "metadata": {
        "colab": {
          "base_uri": "https://localhost:8080/",
          "height": 296
        },
        "id": "Fsy2rqBQXbXi",
        "outputId": "8052c506-e38f-46d7-ab37-116c4b4b660f"
      },
      "source": [
        "#Matriz de confusão\r\n",
        "from sklearn.metrics import confusion_matrix\r\n",
        "cm=confusion_matrix(y_test, y_pred)\r\n",
        "sns.heatmap(cm, annot=True, fmt='g')\r\n",
        "plt.xlabel('Predição( 1 ou 0)')\r\n",
        "plt.ylabel('Real ( 1 ou 0)')"
      ],
      "execution_count": 1458,
      "outputs": [
        {
          "output_type": "execute_result",
          "data": {
            "text/plain": [
              "Text(33.0, 0.5, 'Real ( 1 ou 0)')"
            ]
          },
          "metadata": {
            "tags": []
          },
          "execution_count": 1458
        },
        {
          "output_type": "display_data",
          "data": {
            "image/png": "[encoded data removed]",
            "text/plain": [
              "<Figure size 432x288 with 2 Axes>"
            ]
          },
          "metadata": {
            "tags": [],
            "needs_background": "light"
          }
        }
      ]
    },
    {
      "cell_type": "code",
      "metadata": {
        "colab": {
          "base_uri": "https://localhost:8080/"
        },
        "id": "IO5BImXLjVfg",
        "outputId": "9a2345c2-8a75-412f-924e-87a872ab0902"
      },
      "source": [
        "from sklearn.metrics import classification_report\r\n",
        "print(classification_report(y_test, y_pred))"
      ],
      "execution_count": 1459,
      "outputs": [
        {
          "output_type": "stream",
          "text": [
            "              precision    recall  f1-score   support\n",
            "\n",
            "           0       0.00      0.00      0.00       127\n",
            "           1       0.70      1.00      0.82       294\n",
            "\n",
            "    accuracy                           0.70       421\n",
            "   macro avg       0.35      0.50      0.41       421\n",
            "weighted avg       0.49      0.70      0.57       421\n",
            "\n"
          ],
          "name": "stdout"
        },
        {
          "output_type": "stream",
          "text": [
            "/usr/local/lib/python3.6/dist-packages/sklearn/metrics/_classification.py:1272: UndefinedMetricWarning: Precision and F-score are ill-defined and being set to 0.0 in labels with no predicted samples. Use `zero_division` parameter to control this behavior.\n",
            "  _warn_prf(average, modifier, msg_start, len(result))\n"
          ],
          "name": "stderr"
        }
      ]
    },
    {
      "cell_type": "markdown",
      "metadata": {
        "id": "i5dasxcW68Ro"
      },
      "source": [
        "##Machine Learning"
      ]
    },
    {
      "cell_type": "markdown",
      "metadata": {
        "id": "ijpv3Tl90oCx"
      },
      "source": [
        "Treinando e Avaliando no Conjunto de Treino"
      ]
    },
    {
      "cell_type": "code",
      "metadata": {
        "colab": {
          "base_uri": "https://localhost:8080/"
        },
        "id": "gkGESct2j0gb",
        "outputId": "f43be276-f302-49a8-88a6-a52b22d11b32"
      },
      "source": [
        "from sklearn.linear_model import LogisticRegression\r\n",
        "lr = LogisticRegression()\r\n",
        "lr.fit(X_train, y_train)"
      ],
      "execution_count": 1460,
      "outputs": [
        {
          "output_type": "execute_result",
          "data": {
            "text/plain": [
              "LogisticRegression(C=1.0, class_weight=None, dual=False, fit_intercept=True,\n",
              "                   intercept_scaling=1, l1_ratio=None, max_iter=100,\n",
              "                   multi_class='auto', n_jobs=None, penalty='l2',\n",
              "                   random_state=None, solver='lbfgs', tol=0.0001, verbose=0,\n",
              "                   warm_start=False)"
            ]
          },
          "metadata": {
            "tags": []
          },
          "execution_count": 1460
        }
      ]
    },
    {
      "cell_type": "code",
      "metadata": {
        "colab": {
          "base_uri": "https://localhost:8080/"
        },
        "id": "gTLTDyCUj4sK",
        "outputId": "5b158f54-e3ab-41ba-a2f0-655df0acb5b7"
      },
      "source": [
        "# Acuracia\r\n",
        "lr.score(X_test, y_test)*100"
      ],
      "execution_count": 1461,
      "outputs": [
        {
          "output_type": "execute_result",
          "data": {
            "text/plain": [
              "100.0"
            ]
          },
          "metadata": {
            "tags": []
          },
          "execution_count": 1461
        }
      ]
    },
    {
      "cell_type": "code",
      "metadata": {
        "colab": {
          "base_uri": "https://localhost:8080/"
        },
        "id": "Z90ysNm1uQeZ",
        "outputId": "93aa53c6-d6a7-4ec6-ccf0-5af6d0ccd99e"
      },
      "source": [
        "from sklearn.metrics import accuracy_score\r\n",
        "accuracy_score(y_test, y_pred)*100"
      ],
      "execution_count": 1462,
      "outputs": [
        {
          "output_type": "execute_result",
          "data": {
            "text/plain": [
              "69.83372921615202"
            ]
          },
          "metadata": {
            "tags": []
          },
          "execution_count": 1462
        }
      ]
    },
    {
      "cell_type": "code",
      "metadata": {
        "id": "y7gQgkI1kJYL"
      },
      "source": [
        "from sklearn.tree import DecisionTreeClassifier\r\n",
        "from sklearn.ensemble import RandomForestClassifier\r\n",
        "from xgboost import XGBClassifier\r\n",
        "from sklearn.metrics import roc_auc_score"
      ],
      "execution_count": 1463,
      "outputs": []
    },
    {
      "cell_type": "code",
      "metadata": {
        "colab": {
          "base_uri": "https://localhost:8080/"
        },
        "id": "4dccpdxhkLaJ",
        "outputId": "d817fa65-0b04-48b7-aff0-7e9e8329e540"
      },
      "source": [
        "lista_classificacores = [DecisionTreeClassifier(),\r\n",
        "                         RandomForestClassifier(),\r\n",
        "                         XGBClassifier()]\r\n",
        "\r\n",
        "for clf in lista_classificacores:\r\n",
        "  print(clf.__class__.__name__)\r\n",
        "  clf.fit(X_train, y_train)\r\n",
        "\r\n",
        "  print('Acuracia')\r\n",
        "  train_acc=clf.score(X_train, y_train)\r\n",
        "  test_acc=clf.score(X_test, y_test)\r\n",
        "  print('Treino:', train_acc)\r\n",
        "  print('Teste:', test_acc)\r\n",
        "\r\n",
        "  print('ROC AUC')\r\n",
        "  y_proba_train = clf.predict_proba(X_train)\r\n",
        "  roc_train=roc_auc_score(y_train, y_proba_train[:,1])\r\n",
        "  print('Treino', roc_train)\r\n",
        "\r\n",
        "  y_proba_test = clf.predict_proba(X_test)\r\n",
        "  roc_test = roc_auc_score(y_test, y_proba_test[:,1])\r\n",
        "  print('Test', roc_test)\r\n",
        "  print('='*80)"
      ],
      "execution_count": 1464,
      "outputs": [
        {
          "output_type": "stream",
          "text": [
            "DecisionTreeClassifier\n",
            "Acuracia\n",
            "Treino: 1.0\n",
            "Teste: 1.0\n",
            "ROC AUC\n",
            "Treino 1.0\n",
            "Test 1.0\n",
            "================================================================================\n",
            "RandomForestClassifier\n",
            "Acuracia\n",
            "Treino: 1.0\n",
            "Teste: 1.0\n",
            "ROC AUC\n",
            "Treino 1.0\n",
            "Test 1.0\n",
            "================================================================================\n",
            "XGBClassifier\n",
            "Acuracia\n",
            "Treino: 1.0\n",
            "Teste: 1.0\n",
            "ROC AUC\n",
            "Treino 0.9999999999999999\n",
            "Test 1.0\n",
            "================================================================================\n"
          ],
          "name": "stdout"
        }
      ]
    },
    {
      "cell_type": "code",
      "metadata": {
        "id": "A__GC2AdkZa5"
      },
      "source": [
        "clf=XGBClassifier()\r\n",
        "clf.fit(X_train, y_train)\r\n",
        "y_pred=clf.predict(X_test)"
      ],
      "execution_count": 1465,
      "outputs": []
    },
    {
      "cell_type": "code",
      "metadata": {
        "colab": {
          "base_uri": "https://localhost:8080/",
          "height": 296
        },
        "id": "l0nIOLfXkVOQ",
        "outputId": "16259d6a-0014-41c5-c358-182d88364d7c"
      },
      "source": [
        "cm=confusion_matrix(y_test, y_pred)\r\n",
        "sns.heatmap(cm, annot=True, fmt='g')\r\n",
        "plt.xlabel('Predição( 1 ou 0)')\r\n",
        "plt.ylabel('Real ( 1 ou 0)')"
      ],
      "execution_count": 1466,
      "outputs": [
        {
          "output_type": "execute_result",
          "data": {
            "text/plain": [
              "Text(33.0, 0.5, 'Real ( 1 ou 0)')"
            ]
          },
          "metadata": {
            "tags": []
          },
          "execution_count": 1466
        },
        {
          "output_type": "display_data",
          "data": {
            "image/png": "[encoded data removed]",
            "text/plain": [
              "<Figure size 432x288 with 2 Axes>"
            ]
          },
          "metadata": {
            "tags": [],
            "needs_background": "light"
          }
        }
      ]
    },
    {
      "cell_type": "code",
      "metadata": {
        "colab": {
          "base_uri": "https://localhost:8080/",
          "height": 592
        },
        "id": "XlhnWJmd_Pku",
        "outputId": "1db4ef93-286f-48f3-eaf4-96bd7fd3c04d"
      },
      "source": [
        "# Visualizar Árvore de Decisão com baixa profundidade\r\n",
        "from sklearn.tree import plot_tree\r\n",
        "clf = DecisionTreeClassifier(max_depth=2)\r\n",
        "clf.fit(X_train, y_train) \r\n",
        "y_proba = clf.predict_proba(X_test)\r\n",
        "roc_auc=roc_auc_score(y_test, y_proba[:,1])\r\n",
        "\r\n",
        "print(f'ROC AUC de Teste é {clf.__class__.__name__} é {roc_auc*100:.2f}%')\r\n",
        "\r\n",
        "plt.figure(figsize=(20,10))\r\n",
        "annotations = plot_tree(clf,\r\n",
        "                        feature_names=X_train.columns,\r\n",
        "                        filled=True)"
      ],
      "execution_count": 1467,
      "outputs": [
        {
          "output_type": "stream",
          "text": [
            "ROC AUC de Teste é DecisionTreeClassifier é 92.52%\n"
          ],
          "name": "stdout"
        },
        {
          "output_type": "display_data",
          "data": {
            "image/png": "[encoded data removed]",
            "text/plain": [
              "<Figure size 1440x720 with 1 Axes>"
            ]
          },
          "metadata": {
            "tags": [],
            "needs_background": "light"
          }
        }
      ]
    },
    {
      "cell_type": "code",
      "metadata": {
        "id": "SJ1eMOSoObwL"
      },
      "source": [
        ""
      ],
      "execution_count": 1467,
      "outputs": []
    }
  ]
}