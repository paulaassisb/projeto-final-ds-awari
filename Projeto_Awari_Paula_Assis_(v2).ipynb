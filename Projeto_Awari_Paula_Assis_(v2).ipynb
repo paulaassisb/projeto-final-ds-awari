{
  "nbformat": 4,
  "nbformat_minor": 0,
  "metadata": {
    "colab": {
      "name": "Projeto Awari - Paula Assis (v2).ipynb",
      "provenance": [],
      "collapsed_sections": [],
      "mount_file_id": "133Ub0WhxuzQdt5mU67TDGsmuhKAKROLD",
      "authorship_tag": "ABX9TyPjNdGvJSMdCeVXFNPyRA1p",
      "include_colab_link": true
    },
    "kernelspec": {
      "name": "python3",
      "display_name": "Python 3"
    }
  },
  "cells": [
    {
      "cell_type": "markdown",
      "metadata": {
        "id": "view-in-github",
        "colab_type": "text"
      },
      "source": [
        "<a href=\"https://colab.research.google.com/github/paulaassisb/projeto-final-ds-awari/blob/main/Projeto_Awari_Paula_Assis_(v2).ipynb\" target=\"_parent\"><img src=\"https://colab.research.google.com/assets/colab-badge.svg\" alt=\"Open In Colab\"/></a>"
      ]
    },
    {
      "cell_type": "code",
      "metadata": {
        "id": "4pOl2MQF0_t7"
      },
      "source": [
        "## Importação de bibliotecas\n",
        "import pandas as pd\n",
        "#from pandas import Series,DataFrame\n",
        "import numpy as np\n",
        "import re\n",
        "import unicodedata\n",
        "from nltk.corpus import stopwords\n",
        "from sklearn.preprocessing import LabelEncoder\n",
        "from sklearn.metrics import classification_report\n",
        "import seaborn as sns\n",
        "import matplotlib.pyplot as plt"
      ],
      "execution_count": 1,
      "outputs": []
    },
    {
      "cell_type": "markdown",
      "metadata": {
        "id": "y6Okj0kix2f8"
      },
      "source": [
        "##1. Importação da base de dados"
      ]
    },
    {
      "cell_type": "code",
      "metadata": {
        "id": "SeapCwKX2xKM"
      },
      "source": [
        "## Importando arquivo da coleta de dados\n",
        "url = 'https://raw.githubusercontent.com/paulaassisb/projeto-final-ds-awari/main/coleta_dados_quest_projeto_final.csv'"
      ],
      "execution_count": 2,
      "outputs": []
    },
    {
      "cell_type": "code",
      "metadata": {
        "id": "s5RTVqoxLE9c"
      },
      "source": [
        "dados_quest = pd.read_csv(url)"
      ],
      "execution_count": 3,
      "outputs": []
    },
    {
      "cell_type": "code",
      "metadata": {
        "id": "S_RMOM4j3dg1"
      },
      "source": [
        "## Transformando em DataFrame para visualização e manipulação dos dados\n",
        "df = pd.DataFrame(dados_quest)"
      ],
      "execution_count": 4,
      "outputs": []
    },
    {
      "cell_type": "code",
      "metadata": {
        "id": "Beh6Midb7_BV",
        "colab": {
          "base_uri": "https://localhost:8080/",
          "height": 547
        },
        "outputId": "94df2e4a-d841-420c-9327-70491e228b53"
      },
      "source": [
        "df.head()"
      ],
      "execution_count": 5,
      "outputs": [
        {
          "output_type": "execute_result",
          "data": {
            "text/html": [
              "<div>\n",
              "<style scoped>\n",
              "    .dataframe tbody tr th:only-of-type {\n",
              "        vertical-align: middle;\n",
              "    }\n",
              "\n",
              "    .dataframe tbody tr th {\n",
              "        vertical-align: top;\n",
              "    }\n",
              "\n",
              "    .dataframe thead th {\n",
              "        text-align: right;\n",
              "    }\n",
              "</style>\n",
              "<table border=\"1\" class=\"dataframe\">\n",
              "  <thead>\n",
              "    <tr style=\"text-align: right;\">\n",
              "      <th></th>\n",
              "      <th>Numero do Sujeito</th>\n",
              "      <th>1a. Doença</th>\n",
              "      <th>Idade 1a. Doença</th>\n",
              "      <th>Tempo 1a Doença</th>\n",
              "      <th>Sexo</th>\n",
              "      <th>UF Nascimento</th>\n",
              "      <th>UF</th>\n",
              "      <th>Formação</th>\n",
              "      <th>Atividade</th>\n",
              "      <th>Escolaridade</th>\n",
              "      <th>Estado Civil</th>\n",
              "      <th>Religião</th>\n",
              "      <th>Outro Idioma</th>\n",
              "      <th>Análise do Contexto</th>\n",
              "      <th>Autoconfiança</th>\n",
              "      <th>Autocontrole</th>\n",
              "      <th>Conquistar e Manter Pessoas</th>\n",
              "      <th>Empatia</th>\n",
              "      <th>Leitura Corporal</th>\n",
              "      <th>Otimismo com a Vida</th>\n",
              "      <th>Sentido da Vida</th>\n",
              "    </tr>\n",
              "  </thead>\n",
              "  <tbody>\n",
              "    <tr>\n",
              "      <th>0</th>\n",
              "      <td>13531</td>\n",
              "      <td>depressão</td>\n",
              "      <td>31 - 49 anos</td>\n",
              "      <td>Um ano</td>\n",
              "      <td>Feminino</td>\n",
              "      <td>SP</td>\n",
              "      <td>SP</td>\n",
              "      <td>Administradora</td>\n",
              "      <td>Gerente de Compras</td>\n",
              "      <td>Pós-Graduação</td>\n",
              "      <td>Casado</td>\n",
              "      <td>Católico</td>\n",
              "      <td>Sim</td>\n",
              "      <td>Boa no estresse (PC-P)</td>\n",
              "      <td>Fraca no estresse (PC-I)</td>\n",
              "      <td>Fraca no estresse (PC-I)</td>\n",
              "      <td>Boa diante do impacto do estresse (PC-P)</td>\n",
              "      <td>Moderada no estresse (PC-I)</td>\n",
              "      <td>Excelente no estresse</td>\n",
              "      <td>Forte no estresse (PC-P)</td>\n",
              "      <td>Boa no estresse (PC-P)</td>\n",
              "    </tr>\n",
              "    <tr>\n",
              "      <th>1</th>\n",
              "      <td>13532</td>\n",
              "      <td>enfermidade que me levou a 15 dias de hospital...</td>\n",
              "      <td>7 - 12 anos</td>\n",
              "      <td>Mais de um ano</td>\n",
              "      <td>Masculino</td>\n",
              "      <td>SP</td>\n",
              "      <td>SP</td>\n",
              "      <td>Arquiteto</td>\n",
              "      <td>NaN</td>\n",
              "      <td>Pós-Graduação</td>\n",
              "      <td>Casado</td>\n",
              "      <td>Evangélico</td>\n",
              "      <td>Sim</td>\n",
              "      <td>Excelente no estresse</td>\n",
              "      <td>Moderada no estresse (PC-I)</td>\n",
              "      <td>Fraca no estresse (PC-I)</td>\n",
              "      <td>Boa diante do impacto do estresse (PC-P)</td>\n",
              "      <td>Boa no estresse (PC-P)</td>\n",
              "      <td>Boa no estresse (PC-P)</td>\n",
              "      <td>Excelente no estresse</td>\n",
              "      <td>Moderada no estresse (PC-P)</td>\n",
              "    </tr>\n",
              "    <tr>\n",
              "      <th>2</th>\n",
              "      <td>13533</td>\n",
              "      <td>Violência dentro de casa</td>\n",
              "      <td>7 - 12 anos</td>\n",
              "      <td>Mais de um ano</td>\n",
              "      <td>Masculino</td>\n",
              "      <td>SP</td>\n",
              "      <td>SP</td>\n",
              "      <td>NaN</td>\n",
              "      <td>Pesquisa e leitura de livros</td>\n",
              "      <td>Superior Completo</td>\n",
              "      <td>Solteiro</td>\n",
              "      <td>Outro</td>\n",
              "      <td>Não</td>\n",
              "      <td>Boa no estresse (PC-P)</td>\n",
              "      <td>Forte no estresse (PC-P)</td>\n",
              "      <td>Moderada no estresse (PC-P)</td>\n",
              "      <td>Boa diante do impacto do estresse (PC-P)</td>\n",
              "      <td>Boa no estresse (PC-P)</td>\n",
              "      <td>Moderada no estresse (PC-P)</td>\n",
              "      <td>Excelente no estresse</td>\n",
              "      <td>Boa no estresse (PC-P)</td>\n",
              "    </tr>\n",
              "    <tr>\n",
              "      <th>3</th>\n",
              "      <td>13534</td>\n",
              "      <td>NaN</td>\n",
              "      <td>NaN</td>\n",
              "      <td>NaN</td>\n",
              "      <td>Masculino</td>\n",
              "      <td>SP</td>\n",
              "      <td>SP</td>\n",
              "      <td>Administração de Empresas</td>\n",
              "      <td>Analista de Mercado</td>\n",
              "      <td>Superior Completo</td>\n",
              "      <td>Solteiro</td>\n",
              "      <td>Evangélico</td>\n",
              "      <td>Sim</td>\n",
              "      <td>Excelente no estresse</td>\n",
              "      <td>Fraca no estresse (PC-I)</td>\n",
              "      <td>Fraca no estresse (PC-I)</td>\n",
              "      <td>Forte diante do impacto do estresse (PC-P)</td>\n",
              "      <td>Excelente no estresse</td>\n",
              "      <td>Boa no estresse (PC-P)</td>\n",
              "      <td>Boa no estresse (PC-P)</td>\n",
              "      <td>Boa no estresse (PC-P)</td>\n",
              "    </tr>\n",
              "    <tr>\n",
              "      <th>4</th>\n",
              "      <td>13535</td>\n",
              "      <td>Conhecer a comunidade quilombola Pedro Cubas</td>\n",
              "      <td>13 - 17 anos</td>\n",
              "      <td>Mais de um ano</td>\n",
              "      <td>Masculino</td>\n",
              "      <td>SP</td>\n",
              "      <td>SP</td>\n",
              "      <td>NaN</td>\n",
              "      <td>NaN</td>\n",
              "      <td>Superior Incompleto</td>\n",
              "      <td>Solteiro</td>\n",
              "      <td>Evangélico</td>\n",
              "      <td>Sim</td>\n",
              "      <td>Excelente no estresse</td>\n",
              "      <td>Excelente face ao estresse</td>\n",
              "      <td>Excelente no estresse</td>\n",
              "      <td>Excelente face ao impacto do estresse (PC-E)</td>\n",
              "      <td>Forte no estresse (PC-P)</td>\n",
              "      <td>Boa no estresse (PC-P)</td>\n",
              "      <td>Excelente no estresse</td>\n",
              "      <td>Excelente no estresse</td>\n",
              "    </tr>\n",
              "  </tbody>\n",
              "</table>\n",
              "</div>"
            ],
            "text/plain": [
              "   Numero do Sujeito  ...              Sentido da Vida\n",
              "0              13531  ...       Boa no estresse (PC-P)\n",
              "1              13532  ...  Moderada no estresse (PC-P)\n",
              "2              13533  ...       Boa no estresse (PC-P)\n",
              "3              13534  ...       Boa no estresse (PC-P)\n",
              "4              13535  ...        Excelente no estresse\n",
              "\n",
              "[5 rows x 21 columns]"
            ]
          },
          "metadata": {
            "tags": []
          },
          "execution_count": 5
        }
      ]
    },
    {
      "cell_type": "markdown",
      "metadata": {
        "id": "Q17mt2QoSHx3"
      },
      "source": [
        "##2. Exploração dos dados"
      ]
    },
    {
      "cell_type": "markdown",
      "metadata": {
        "id": "JEUz6RkUPsZt"
      },
      "source": [
        "##3. Modelagem"
      ]
    },
    {
      "cell_type": "markdown",
      "metadata": {
        "id": "Z7jCBxxr2fdT"
      },
      "source": [
        "\n",
        "**Transformando as colunas**"
      ]
    },
    {
      "cell_type": "code",
      "metadata": {
        "id": "zn8yJYKt0Tww"
      },
      "source": [
        "## Nomes das colunas (todos em minúsculo e sem espaço)\n",
        "df.columns.str.lower()\n",
        "df.columns = df.columns.str.lower().str.replace(' ', '_')"
      ],
      "execution_count": 6,
      "outputs": []
    },
    {
      "cell_type": "code",
      "metadata": {
        "id": "5B_5u8g71izG"
      },
      "source": [
        "## Renomear colunas relacionadas a doença/trauma\n",
        "df = df.rename(columns={'1a._doença': 'trauma_doenca', 'idade_1a._doença': 'idade_trauma', 'tempo_1a_doença': 'tempo_trauma', \n",
        "                        'formação': 'formacao', 'religião': 'religiao', 'análise_do_contexto': 'analise_do_contexto', 'autoconfiança': 'autoconfianca'})"
      ],
      "execution_count": 7,
      "outputs": []
    },
    {
      "cell_type": "code",
      "metadata": {
        "id": "igdZ5KSicBRa"
      },
      "source": [
        "#Removendo colunas não necessárias\r\n",
        "df = df.drop(columns=['numero_do_sujeito', 'atividade', 'uf_nascimento', 'uf'])"
      ],
      "execution_count": 8,
      "outputs": []
    },
    {
      "cell_type": "markdown",
      "metadata": {
        "id": "iqHK1sv4Vw1g"
      },
      "source": [
        "**Tratamento de valores nulos (NaN)**"
      ]
    },
    {
      "cell_type": "code",
      "metadata": {
        "id": "5TEnp4g4XxO9"
      },
      "source": [
        "df = df.dropna(subset=['trauma_doenca', 'idade_trauma', 'tempo_trauma'])"
      ],
      "execution_count": 9,
      "outputs": []
    },
    {
      "cell_type": "markdown",
      "metadata": {
        "id": "Y-iP9kGfYpEJ"
      },
      "source": [
        "**Transformando objetos em categorias**"
      ]
    },
    {
      "cell_type": "code",
      "metadata": {
        "id": "e7rfSpFMYyZj"
      },
      "source": [
        "#Transformando objetos em strings\r\n",
        "# label_encoder = LabelEncoder() - não funcionou como esperado, porque classifica por ordem alfabética\r\n",
        "\r\n",
        "escolaridade = {'1ª a 4ª série': 0, '5ª a 9ª série': 1, 'Ensino Médio': 2, 'Técnico': 3, 'Superior Completo': 4, 'Superior Incompleto': 5, 'Pós-Graduação': 6}\r\n",
        "df ['escolaridade'] = df.escolaridade.map (escolaridade)\r\n",
        "\r\n",
        "idade_trauma = {'Até 6 anos': 0, '7 - 12 anos': 1, '13 - 17 anos': 2, '18 - 30 anos':3, '31 - 49 anos': 4, 'Acima': 5}\r\n",
        "df ['idade_trauma'] = df.idade_trauma.map (idade_trauma)\r\n",
        "\r\n",
        "tempo_trauma = {'Alguns dias': 0, 'Semanas': 1, 'Meses': 2, 'Um ano': 3, 'Mais de um ano': 4}\r\n",
        "df ['tempo_trauma'] = df.tempo_trauma.map (tempo_trauma)"
      ],
      "execution_count": 10,
      "outputs": []
    },
    {
      "cell_type": "code",
      "metadata": {
        "colab": {
          "base_uri": "https://localhost:8080/"
        },
        "id": "L9cr9PReTTg5",
        "outputId": "52ff23cd-27d4-411e-f981-7ab4e4dee8dd"
      },
      "source": [
        "for feature in df.columns:\r\n",
        "    print('The feature is {} and number of categories are {}'.format(feature,len(df[feature].unique())))"
      ],
      "execution_count": 11,
      "outputs": [
        {
          "output_type": "stream",
          "text": [
            "The feature is trauma_doenca and number of categories are 1722\n",
            "The feature is idade_trauma and number of categories are 6\n",
            "The feature is tempo_trauma and number of categories are 5\n",
            "The feature is sexo and number of categories are 2\n",
            "The feature is formacao and number of categories are 721\n",
            "The feature is escolaridade and number of categories are 7\n",
            "The feature is estado_civil and number of categories are 5\n",
            "The feature is religiao and number of categories are 4\n",
            "The feature is outro_idioma and number of categories are 2\n",
            "The feature is analise_do_contexto and number of categories are 20\n",
            "The feature is autoconfianca and number of categories are 22\n",
            "The feature is autocontrole and number of categories are 24\n",
            "The feature is conquistar_e_manter_pessoas and number of categories are 22\n",
            "The feature is empatia and number of categories are 23\n",
            "The feature is leitura_corporal and number of categories are 24\n",
            "The feature is otimismo_com_a_vida and number of categories are 23\n",
            "The feature is sentido_da_vida and number of categories are 23\n"
          ],
          "name": "stdout"
        }
      ]
    },
    {
      "cell_type": "code",
      "metadata": {
        "id": "jNZJwa89Y3U2"
      },
      "source": [
        "#Aplicando a moda em valores nulos nas colunas Idade e Tempo de duração da doença ou trauma\r\n",
        "df['tempo_trauma']=df['tempo_trauma'].fillna(df['tempo_trauma'].mode()[0])\r\n",
        "df['idade_trauma']=df['idade_trauma'].fillna(df['idade_trauma'].mode()[0])"
      ],
      "execution_count": 12,
      "outputs": []
    },
    {
      "cell_type": "markdown",
      "metadata": {
        "id": "Xa3S5D_kWNzx"
      },
      "source": [
        "**Padronização do dataframe**\r\n"
      ]
    },
    {
      "cell_type": "code",
      "metadata": {
        "id": "dxr7eHYxmk-K"
      },
      "source": [
        "#Padronizando dataframe em minúsculo e sem acentuação\n",
        "\n",
        "for column in df.columns:\n",
        "  df[column] = df[column].astype(str).str.lower()\n",
        "  \n",
        "cols = df.select_dtypes(include=[np.object]).columns\n",
        "df[cols] = df[cols].apply(lambda x: x.str.normalize('NFKD').str.encode('ascii', errors='ignore').str.decode('utf-8'))"
      ],
      "execution_count": 13,
      "outputs": []
    },
    {
      "cell_type": "markdown",
      "metadata": {
        "id": "Abwx6WgcLD6_"
      },
      "source": [
        "**Padronizando coluna \"Trauma ou Doença\"**"
      ]
    },
    {
      "cell_type": "code",
      "metadata": {
        "id": "NIWpw-BwRjtP"
      },
      "source": [
        "stopwords = ['a', 'minha', 'que', 'me', 'de', 'e', 'na', 'quase', 'dos', 'do', 'meus', 'da', 'aos', 'um', 'numa', 'teve', 'enquanto', 'meu', \r\n",
        "             'sem', 'no', 'para', 'primeira', 'com', 'muito', 'fui', 'durante', 'uma', 'em', 'por', 'o', 'quando', 'eu', 'tive']"
      ],
      "execution_count": 14,
      "outputs": []
    },
    {
      "cell_type": "code",
      "metadata": {
        "id": "-E5UIeKt5N9m"
      },
      "source": [
        "def removestopword (texto):\r\n",
        "  semstop = [p for p in texto.split() if p not in stopwords]\r\n",
        "  return ' '.join(semstop)"
      ],
      "execution_count": 15,
      "outputs": []
    },
    {
      "cell_type": "code",
      "metadata": {
        "id": "jppatKt86Ub7"
      },
      "source": [
        "df['trauma_doenca'] = df['trauma_doenca'].apply(removestopword)"
      ],
      "execution_count": 16,
      "outputs": []
    },
    {
      "cell_type": "code",
      "metadata": {
        "id": "8y0Ka6oEIU-x"
      },
      "source": [
        "CATEGORIAS = {'saude-doenca': ['enfermidade', 'pneumonia', 'tumor', 'labirintite', 'corte', 'cirurgia', \r\n",
        "              'vesicula', 'queimadura', 'fratura', 'chron', 'hernia', 'hepatite', 'disco', 'bronquite', 'apendicite', 'caxumba', 'tireoide',\r\n",
        "              'hipertensao', 'torci', 'artrodese', 'gordura', 'lesao', 'sarampo', 'narcolepsia', 'tenorrafia', 'disfuncao', 'condropatia',\r\n",
        "              'asma', 'dor', 'gastrite', 'internacao', 'infarto', 'febre', 'meningite', 'obesidade', 'alzhimer', 'anemia', 'neurolofica',\r\n",
        "              'neurologico', 'doenca', 'avc', 'visicula', 'ernia', 'cardiaco', 'edema', 'presao', 'tibia', 'renal', 'operacao', 'braco', 'adoecimento',\r\n",
        "              'basite', 'lombares', 'dengue', 'coluna', 'menigite', 'audicao', 'infeccao', 'pericardite', 'catarata', ' inflamacao',\r\n",
        "              'operei', 'convulsao', 'abcesso', 'artrite', 'trombose', 'catapora', 'infarte', 'epilepsia', 'torcao', 'deslocar', 'inflamacao', 'renais',\r\n",
        "              'quebrei', 'tireoide', 'micose', 'clavicula', 'fraturei', 'diabete', 'prielonefrite', 'rcp', 'cisto', 'amputacao', 'toxoplasmose',\r\n",
        "              'comvulcao', 'hemorragia', 'derbuculoce', 'deboculose', 'operasao', 'viral', 'virus', 'internado', 'toc', 'traumatismo', 'alergia',\r\n",
        "              'enxaqueca', 'apendice', 'verme', 'visual', 'pylori', 'cardiaca', 'garganta', 'cicatriz', 'sifiles', 'bacteria',\r\n",
        "              'gagueira', 'salmonela', 'eclampsia', 'retina', 'gripe', 'taquicardia', 'ictiose', 'entalado', 'endometriose', 'denque', 'quebraduras', \r\n",
        "              'quebrado', 'osso', 'quebrar', 'joelho', 'tornozelo', 'cancer', 'hiv', 'tuberculose',  'cardiopatia', 'esclerose',\r\n",
        "              'falecimento', 'morte', 'falaceu', 'ente', 'perdas', 'perda', 'obito', 'perca', 'perde', 'falecido', \r\n",
        "              'ansiedade', 'depressao', 'panico', 'estresse', 'traumatico', 'suicidio', 'disturbio', 'perdi', 'mutilacoes',\r\n",
        "              'sociais', 'rejeicao', 'burnout', 'bulimia', 'alcool', 'bebida', 'alcolismo', 'alcoolismo', 'drogas', 'vicio', 'pedofilia'],\r\n",
        "\r\n",
        "              'relacoes interpessoais': ['separacao', 'divorcio', 'separaram', 'conjugal', 'relacionamento', 'traicao', 'gravidez', 'aborto', 'feto',\r\n",
        "                                         'estupro', 'abuso', 'abusado', 'interpessoais', 'namoro', 'violencia', 'VIOLÊNCIA', 'violência', 'sequestro', \r\n",
        "                                         'arma', 'baleado', 'assassinato', 'agressor','assalto', 'assaltada'],\r\n",
        "              \r\n",
        "              'desempenho': ['trabalho', 'escola', 'vestibular', 'desemprego', 'desligado', 'acidente', 'acicente', 'queda', 'capotamento', \r\n",
        "                             'atrolepamento', 'batida', 'atropelamento', 'afogamento', 'carro', 'moto', 'atropelado', 'financeiras'],\r\n",
        "\r\n",
        "              'outros': [ 'preso', 'nenhuma resposta', 'nenhuma', 'nenhum', 'nao houve', '2010', 'nao considero', 'nada', \r\n",
        "                         'nao ha', 'nao recordo', 'ca', 'i', 'nao', '']}"
      ],
      "execution_count": 17,
      "outputs": []
    },
    {
      "cell_type": "code",
      "metadata": {
        "colab": {
          "base_uri": "https://localhost:8080/"
        },
        "id": "wgbICJN3hxsm",
        "outputId": "c85b5fe3-40db-46dd-cb3e-df115ca27981"
      },
      "source": [
        "CATEGORIAS.keys()"
      ],
      "execution_count": 18,
      "outputs": [
        {
          "output_type": "execute_result",
          "data": {
            "text/plain": [
              "dict_keys(['saude-doenca', 'relacoes interpessoais', 'desempenho', 'outros'])"
            ]
          },
          "metadata": {
            "tags": []
          },
          "execution_count": 18
        }
      ]
    },
    {
      "cell_type": "code",
      "metadata": {
        "id": "qpm6m1v0ewCq"
      },
      "source": [
        "def procurar_palavra(lista_palavras, sentenca):\r\n",
        "  palavra_presente=False\r\n",
        "  for palavra in lista_palavras:\r\n",
        "    if palavra in sentenca:\r\n",
        "      palavra_presente=True\r\n",
        "  return palavra_presente\r\n",
        "\r\n",
        "def mapear_categoria(sentenca):\r\n",
        "  for cat in CATEGORIAS.keys():\r\n",
        "    if procurar_palavra(CATEGORIAS[cat], sentenca):\r\n",
        "      return cat \r\n",
        "  return sentenca"
      ],
      "execution_count": 19,
      "outputs": []
    },
    {
      "cell_type": "code",
      "metadata": {
        "colab": {
          "base_uri": "https://localhost:8080/",
          "height": 35
        },
        "id": "p5sz1aZLg4Tn",
        "outputId": "e5fa197b-0b6e-486e-fddd-888b6f1bf4e7"
      },
      "source": [
        "sentenca = 'violencia dentro casa'\r\n",
        "mapear_categoria(sentenca)"
      ],
      "execution_count": 20,
      "outputs": [
        {
          "output_type": "execute_result",
          "data": {
            "application/vnd.google.colaboratory.intrinsic+json": {
              "type": "string"
            },
            "text/plain": [
              "'relacoes interpessoais'"
            ]
          },
          "metadata": {
            "tags": []
          },
          "execution_count": 20
        }
      ]
    },
    {
      "cell_type": "code",
      "metadata": {
        "id": "Mkgi73O2hVKN"
      },
      "source": [
        "df['trauma_doenca'] = df['trauma_doenca'].apply(mapear_categoria)"
      ],
      "execution_count": 21,
      "outputs": []
    },
    {
      "cell_type": "markdown",
      "metadata": {
        "id": "Yt-79efvavuR"
      },
      "source": [
        "**Padronizando coluna \"Formação\"**"
      ]
    },
    {
      "cell_type": "code",
      "metadata": {
        "id": "yF-JCiE6Q3JS"
      },
      "source": [
        "df['formacao'] = df['formacao'].apply(removestopword)"
      ],
      "execution_count": 22,
      "outputs": []
    },
    {
      "cell_type": "code",
      "metadata": {
        "id": "sDIfrJTSbHkA"
      },
      "source": [
        "CAT_FORMACAO = {'ciencias exatas': ['contador', 'contadora', 'contabeis', 'economicas', 'contabil', 'contabilista', 'quimica', 'quimico', 'fisico', 'fisica',\r\n",
        "                                    'engenharia', 'engenheiro', 'engenheira', 'eng', 'economia', 'financas', 'economista', 'estatistico',\r\n",
        "                                    'ti', 'informatica', 'computacao', 'redes', 'sistemas', 'informacao', 'dados', 'sistema', 'desenvolvedor', 'programador',\r\n",
        "                                    'arquiteto', 'arquiteta', 'arquitetura'],\r\n",
        "                \r\n",
        "                'ciencias humanas': ['historia', 'geografo', 'geografia', 'filosofia', 'filosofo', 'filosofa', 'sociologo', 'filosifia',\r\n",
        "                                     'militar', 'molitar', 'bombeito', 'bombeiro', 'bombeira', 'bombeiros', 'oficial', 'defesa civil', \r\n",
        "                                     'bm', 'seguranca', 'cbmdf', 'administradora', 'administracao', 'administrador', 'adm', 'rh', 'empresarial', \r\n",
        "                                     'empresaria', 'aministracao', 'secretaria', 'empresario', 'escritorio', 'negocios', 'secretariado', 'recursos humanos',\r\n",
        "                                     'internacionais', 'gestao', 'exterior', 'gestora', 'propaganga', 'marketing', 'relacoes publicas', 'comunicacao', \r\n",
        "                                     'grafica', 'artes', 'designer', 'publicitario', 'publicitaria', 'fotografo', 'comunicadora', 'jornalismo', \r\n",
        "                                     'telecomunicacoes', 'radiologia', 'jornalista', 'imprensa', 'artes', 'design', 'publicidade',\r\n",
        "                                     'professor', 'professora', 'pedagogia', 'letras', 'pedagogo', 'pedagoga', 'pedagogica', 'pedadogia', 'pedagogica',\r\n",
        "                                     'psicologa', 'psicologo', 'psicologia', 'psicanalista', 'terapia', 'psicolgia', 'advoga', 'advocacia', 'direito', \r\n",
        "                                     'advogada', 'advogado'],\r\n",
        "\r\n",
        "\r\n",
        "                'ciencias biologicas': ['medico', 'medica', 'medicina', 'enfermeiro', 'enfermeira', 'enfermagem', 'nutricionista', 'nutricao', 'neurocirurgiao',\r\n",
        "                'farmaceutica', 'clinica', 'biomedicina', 'cirurgia', 'optometria', 'odontologia', 'odontologia'],\r\n",
        "\r\n",
        "                'outras areas': ['comercial', 'compradora', 'contas', 'testador quest', 'metalurgico', 'ambiental', 'pos',\r\n",
        "                'grau', 'escultor', 'turimologa', 'turismologo', 'oceanografa', 'assistente', 'superior', 'seminarista', 'agro',\r\n",
        "                'elitricista', 'logistica', 'gastronomia', 'aprendiz', 'mallet', 'operacoes', 'vendas', 'musico', 'coml', 'podologa',\r\n",
        "                'manicure', 'corretora', 'bancario', 'gerente', 'massoterapeuta', 'biologo', 'biologia', 'turismo', 'arte', 'mecanico',\r\n",
        "                'mecanica', 'fisioterapeuta', 'juridica', 'educador fisico', 'educacao fisica', 'operadora', 'vendedora', 'eletronica',\r\n",
        "                'cfo', 'teologia', 'funcionario', 'qualidade', 'teologo', 'condutor.', 'pianista', 'funcionaria', 'nao', 'n', 'nenhuma', 'nenhum',\r\n",
        "                'barista', 'biologa', 'cabeleireiro', 'cabelereira', 'coach',  'comprador', 'corretor', 'costureira', 'moda', 'decoradora',\r\n",
        "                'doutorado', 'fisiva', 'estagiario', 'farmacia', 'filosifia', 'graduacao', 'graducao', 'hotelaria', 'lavrador', 'maestro', 'magisterio',\r\n",
        "                'mba', 'mercadologa', 'mestrado', 'moda', 'motorista', 'musica', 'musicista', 'radialista', 'servidor', 'social', 'taxista', 'tradutora',\r\n",
        "                'soldador', 'sim', 'sueprior', 'solteira', '****', 'estudante', 'estudanta', 'estudanti', 'estudar', 'escola', 'mastologista', 'bacharel']}"
      ],
      "execution_count": 23,
      "outputs": []
    },
    {
      "cell_type": "code",
      "metadata": {
        "colab": {
          "base_uri": "https://localhost:8080/"
        },
        "id": "popFMoeobTfv",
        "outputId": "7e995f01-1f76-4b94-f6ed-166cb580fc22"
      },
      "source": [
        "CAT_FORMACAO.keys()"
      ],
      "execution_count": 24,
      "outputs": [
        {
          "output_type": "execute_result",
          "data": {
            "text/plain": [
              "dict_keys(['ciencias exatas', 'ciencias humanas', 'ciencias biologicas', 'outras areas'])"
            ]
          },
          "metadata": {
            "tags": []
          },
          "execution_count": 24
        }
      ]
    },
    {
      "cell_type": "code",
      "metadata": {
        "id": "dx5faX78bWg0"
      },
      "source": [
        "def procurar_palavra_form(lista_palavras_form, sentenca_form):\r\n",
        "  palavra_presente_form=False\r\n",
        "  for palavra_form in lista_palavras_form:\r\n",
        "    if palavra_form in sentenca_form:\r\n",
        "      palavra_presente_form=True\r\n",
        "  return palavra_presente_form\r\n",
        "\r\n",
        "def mapear_categoria2(sentenca_form):\r\n",
        "  for categ in CAT_FORMACAO.keys():\r\n",
        "    if procurar_palavra_form(CAT_FORMACAO[categ], sentenca_form):\r\n",
        "      return categ\r\n",
        "  return sentenca_form"
      ],
      "execution_count": 25,
      "outputs": []
    },
    {
      "cell_type": "code",
      "metadata": {
        "colab": {
          "base_uri": "https://localhost:8080/",
          "height": 35
        },
        "id": "QTzET7mLbaDd",
        "outputId": "2d64a391-4aa0-418f-a497-6dd281d75525"
      },
      "source": [
        "sentenca_form = 'administradora'\r\n",
        "mapear_categoria2(sentenca_form)"
      ],
      "execution_count": 26,
      "outputs": [
        {
          "output_type": "execute_result",
          "data": {
            "application/vnd.google.colaboratory.intrinsic+json": {
              "type": "string"
            },
            "text/plain": [
              "'ciencias humanas'"
            ]
          },
          "metadata": {
            "tags": []
          },
          "execution_count": 26
        }
      ]
    },
    {
      "cell_type": "code",
      "metadata": {
        "id": "FBe7I50qbfzt"
      },
      "source": [
        "df['formacao'] = df['formacao'].apply(mapear_categoria2)"
      ],
      "execution_count": 27,
      "outputs": []
    },
    {
      "cell_type": "code",
      "metadata": {
        "id": "BxQF0Y_6hUeN"
      },
      "source": [
        "SENTIDO_DE_VIDA = {'sv_boa_pcp': ['boa no estresse (pc-p)', 'boa face ao estresse (pc-p)'],\r\n",
        "      'sv_boa_pci': ['boa no estresse (pc-i)', 'boa face ao estresse (pc-i)'],\r\n",
        "      'equilibrio': ['excelaancia face ao estresse', 'excelente face ao estresse', 'excelente no estresse'],\r\n",
        "      'sv_forte_pci': ['forte face ao estresse (pc-i)', 'forte diante do estresse (pc-i)', 'forte no estresse (pc-i)', 'forte face ao estresse (pc- i)'],\r\n",
        "      'sv_forte_pcp': ['forte no estresse (pc-p)', 'forte face ao estresse (pc-p)', 'forte diante do estresse (pc-p)'],\r\n",
        "      'sv_fraca_pci': ['fraca no estresse (pc-i)', 'fraca face ao estresse (pc-i)', 'fraca diante do estresse (pc-i)'],\r\n",
        "      'sv_fraca_pcp': ['fraca no estresse (pc-p)', 'fraca face ao estresse (pc-p)'],\r\n",
        "      'sv_moderada_pcp': ['moderada no estresse (pc-p)', 'moderada perante o estresse (pc-p)', 'moderada face ao estresse (pc-p)'],\r\n",
        "      'sv_moderada_pci': ['moderada no estresse (pc-i)', 'moderada perante o estresse (pc-i)', 'moderada face ao estresse (pc-i)']}"
      ],
      "execution_count": 28,
      "outputs": []
    },
    {
      "cell_type": "code",
      "metadata": {
        "colab": {
          "base_uri": "https://localhost:8080/"
        },
        "id": "VmgFE752hXLI",
        "outputId": "554477d6-f451-441f-af39-7cdf50567dbc"
      },
      "source": [
        "SENTIDO_DE_VIDA.keys()"
      ],
      "execution_count": 29,
      "outputs": [
        {
          "output_type": "execute_result",
          "data": {
            "text/plain": [
              "dict_keys(['sv_boa_pcp', 'sv_boa_pci', 'equilibrio', 'sv_forte_pci', 'sv_forte_pcp', 'sv_fraca_pci', 'sv_fraca_pcp', 'sv_moderada_pcp', 'sv_moderada_pci'])"
            ]
          },
          "metadata": {
            "tags": []
          },
          "execution_count": 29
        }
      ]
    },
    {
      "cell_type": "code",
      "metadata": {
        "id": "xEajPFM6hacx"
      },
      "source": [
        "def procurar_palavra_sv(lista_palavras_sv, sentenca_sv):\r\n",
        "  palavra_presente_sv=False\r\n",
        "  for palavra_sv in lista_palavras_sv:\r\n",
        "    if palavra_sv in sentenca_sv:\r\n",
        "      palavra_presente_sv=True\r\n",
        "  return palavra_presente_sv\r\n",
        "\r\n",
        "def mapear_categoria_sv(sentenca_sv):\r\n",
        "  for categ_sv in SENTIDO_DE_VIDA.keys():\r\n",
        "    if procurar_palavra_sv(SENTIDO_DE_VIDA[categ_sv], sentenca_sv):\r\n",
        "      return categ_sv\r\n",
        "  return sentenca_sv"
      ],
      "execution_count": 30,
      "outputs": []
    },
    {
      "cell_type": "code",
      "metadata": {
        "id": "txzcf_qNhddj"
      },
      "source": [
        "sentenca_sv = 'excelente no estresse'\r\n",
        "mapear_categoria_sv(sentenca_sv)\r\n",
        "\r\n",
        "df['sentido_da_vida'] = df['sentido_da_vida'].apply(mapear_categoria_sv)"
      ],
      "execution_count": 31,
      "outputs": []
    },
    {
      "cell_type": "code",
      "metadata": {
        "id": "IkELM9aldULO"
      },
      "source": [
        "# Separar Dados de Entrada (Atributos) e de saída (target)\r\n",
        "y = df.sentido_da_vida\r\n",
        "X = df.drop('sentido_da_vida', axis=1)"
      ],
      "execution_count": 32,
      "outputs": []
    },
    {
      "cell_type": "code",
      "metadata": {
        "id": "Ej1mOAuXdscG"
      },
      "source": [
        "# Tratar colunas categoricas da entrada e saída\r\n",
        "X = pd.get_dummies(X)\r\n",
        "y = pd.get_dummies(y)"
      ],
      "execution_count": 33,
      "outputs": []
    },
    {
      "cell_type": "code",
      "metadata": {
        "colab": {
          "base_uri": "https://localhost:8080/",
          "height": 287
        },
        "id": "_OaYcQl7lBzr",
        "outputId": "bd7a6ff9-3450-4dc4-9bc1-0d033479d5d4"
      },
      "source": [
        "X.head()"
      ],
      "execution_count": 49,
      "outputs": [
        {
          "output_type": "execute_result",
          "data": {
            "text/html": [
              "<div>\n",
              "<style scoped>\n",
              "    .dataframe tbody tr th:only-of-type {\n",
              "        vertical-align: middle;\n",
              "    }\n",
              "\n",
              "    .dataframe tbody tr th {\n",
              "        vertical-align: top;\n",
              "    }\n",
              "\n",
              "    .dataframe thead th {\n",
              "        text-align: right;\n",
              "    }\n",
              "</style>\n",
              "<table border=\"1\" class=\"dataframe\">\n",
              "  <thead>\n",
              "    <tr style=\"text-align: right;\">\n",
              "      <th></th>\n",
              "      <th>trauma_doenca_desempenho</th>\n",
              "      <th>trauma_doenca_outros</th>\n",
              "      <th>trauma_doenca_relacoes interpessoais</th>\n",
              "      <th>trauma_doenca_saude-doenca</th>\n",
              "      <th>idade_trauma_0</th>\n",
              "      <th>idade_trauma_1</th>\n",
              "      <th>idade_trauma_2</th>\n",
              "      <th>idade_trauma_3</th>\n",
              "      <th>idade_trauma_4</th>\n",
              "      <th>idade_trauma_5</th>\n",
              "      <th>tempo_trauma_0</th>\n",
              "      <th>tempo_trauma_1</th>\n",
              "      <th>tempo_trauma_2</th>\n",
              "      <th>tempo_trauma_3</th>\n",
              "      <th>tempo_trauma_4</th>\n",
              "      <th>sexo_feminino</th>\n",
              "      <th>sexo_masculino</th>\n",
              "      <th>formacao_ciencias biologicas</th>\n",
              "      <th>formacao_ciencias exatas</th>\n",
              "      <th>formacao_ciencias humanas</th>\n",
              "      <th>formacao_outras areas</th>\n",
              "      <th>escolaridade_0</th>\n",
              "      <th>escolaridade_1</th>\n",
              "      <th>escolaridade_2</th>\n",
              "      <th>escolaridade_3</th>\n",
              "      <th>escolaridade_4</th>\n",
              "      <th>escolaridade_5</th>\n",
              "      <th>escolaridade_6</th>\n",
              "      <th>estado_civil_casado</th>\n",
              "      <th>estado_civil_divorciado</th>\n",
              "      <th>estado_civil_solteiro</th>\n",
              "      <th>estado_civil_uniao estavel</th>\n",
              "      <th>estado_civil_viuvo</th>\n",
              "      <th>religiao_catolico</th>\n",
              "      <th>religiao_espirita</th>\n",
              "      <th>religiao_evangelico</th>\n",
              "      <th>religiao_outro</th>\n",
              "      <th>outro_idioma_nao</th>\n",
              "      <th>outro_idioma_sim</th>\n",
              "      <th>analise_do_contexto_boa face ao estresse (pc-i)</th>\n",
              "      <th>...</th>\n",
              "      <th>leitura_corporal_excelente no estresse</th>\n",
              "      <th>leitura_corporal_forte diante do estresse (pc-i)</th>\n",
              "      <th>leitura_corporal_forte diante do estresse (pc-p)</th>\n",
              "      <th>leitura_corporal_forte face ao estresse (pc-i)</th>\n",
              "      <th>leitura_corporal_forte face ao estresse (pc-p)</th>\n",
              "      <th>leitura_corporal_forte no estresse (pc-i)</th>\n",
              "      <th>leitura_corporal_forte no estresse (pc-p)</th>\n",
              "      <th>leitura_corporal_fraca diante do estresse (pc-p)</th>\n",
              "      <th>leitura_corporal_fraca face ao estresse (pc - i)</th>\n",
              "      <th>leitura_corporal_fraca face ao estresse (pc-p)</th>\n",
              "      <th>leitura_corporal_fraca no estresse (pc-i)</th>\n",
              "      <th>leitura_corporal_fraca no estresse (pc-p)</th>\n",
              "      <th>leitura_corporal_moderada face ao estresse (pc-i)</th>\n",
              "      <th>leitura_corporal_moderada face ao estresse (pc-p)</th>\n",
              "      <th>leitura_corporal_moderada no estresse (pc-i)</th>\n",
              "      <th>leitura_corporal_moderada no estresse (pc-p)</th>\n",
              "      <th>leitura_corporal_moderada perante o estresse (pc-p)</th>\n",
              "      <th>otimismo_com_a_vida_boa face ao estresse (pc-i)</th>\n",
              "      <th>otimismo_com_a_vida_boa face ao estresse (pc-p)</th>\n",
              "      <th>otimismo_com_a_vida_boa no estresse (pc-i)</th>\n",
              "      <th>otimismo_com_a_vida_boa no estresse (pc-p)</th>\n",
              "      <th>otimismo_com_a_vida_excelente face ao estresse</th>\n",
              "      <th>otimismo_com_a_vida_excelente no estresse</th>\n",
              "      <th>otimismo_com_a_vida_forte diante do estresse (pc-i)</th>\n",
              "      <th>otimismo_com_a_vida_forte diante do estresse (pc-p)</th>\n",
              "      <th>otimismo_com_a_vida_forte face ao estresse (pc-i)</th>\n",
              "      <th>otimismo_com_a_vida_forte face ao estresse (pc-p)</th>\n",
              "      <th>otimismo_com_a_vida_forte no estresse (pc-i)</th>\n",
              "      <th>otimismo_com_a_vida_forte no estresse (pc-p)</th>\n",
              "      <th>otimismo_com_a_vida_fraca diante do estresse (pc-i)</th>\n",
              "      <th>otimismo_com_a_vida_fraca face ao estresse (pc-i)</th>\n",
              "      <th>otimismo_com_a_vida_fraca face ao estresse (pc-p)</th>\n",
              "      <th>otimismo_com_a_vida_fraca no estresse (pc-i)</th>\n",
              "      <th>otimismo_com_a_vida_fraca no estresse (pc-p)</th>\n",
              "      <th>otimismo_com_a_vida_moderada face ao estresse (pc-i)</th>\n",
              "      <th>otimismo_com_a_vida_moderada face ao estresse (pc-p)</th>\n",
              "      <th>otimismo_com_a_vida_moderada no estresse (pc-i)</th>\n",
              "      <th>otimismo_com_a_vida_moderada no estresse (pc-p)</th>\n",
              "      <th>otimismo_com_a_vida_moderada perante o estresse (pc-i)</th>\n",
              "      <th>otimismo_com_a_vida_moderada perante o estresse (pc-p)</th>\n",
              "    </tr>\n",
              "  </thead>\n",
              "  <tbody>\n",
              "    <tr>\n",
              "      <th>0</th>\n",
              "      <td>0</td>\n",
              "      <td>0</td>\n",
              "      <td>0</td>\n",
              "      <td>1</td>\n",
              "      <td>0</td>\n",
              "      <td>0</td>\n",
              "      <td>0</td>\n",
              "      <td>0</td>\n",
              "      <td>1</td>\n",
              "      <td>0</td>\n",
              "      <td>0</td>\n",
              "      <td>0</td>\n",
              "      <td>0</td>\n",
              "      <td>1</td>\n",
              "      <td>0</td>\n",
              "      <td>1</td>\n",
              "      <td>0</td>\n",
              "      <td>0</td>\n",
              "      <td>0</td>\n",
              "      <td>1</td>\n",
              "      <td>0</td>\n",
              "      <td>0</td>\n",
              "      <td>0</td>\n",
              "      <td>0</td>\n",
              "      <td>0</td>\n",
              "      <td>0</td>\n",
              "      <td>0</td>\n",
              "      <td>1</td>\n",
              "      <td>1</td>\n",
              "      <td>0</td>\n",
              "      <td>0</td>\n",
              "      <td>0</td>\n",
              "      <td>0</td>\n",
              "      <td>1</td>\n",
              "      <td>0</td>\n",
              "      <td>0</td>\n",
              "      <td>0</td>\n",
              "      <td>0</td>\n",
              "      <td>1</td>\n",
              "      <td>0</td>\n",
              "      <td>...</td>\n",
              "      <td>1</td>\n",
              "      <td>0</td>\n",
              "      <td>0</td>\n",
              "      <td>0</td>\n",
              "      <td>0</td>\n",
              "      <td>0</td>\n",
              "      <td>0</td>\n",
              "      <td>0</td>\n",
              "      <td>0</td>\n",
              "      <td>0</td>\n",
              "      <td>0</td>\n",
              "      <td>0</td>\n",
              "      <td>0</td>\n",
              "      <td>0</td>\n",
              "      <td>0</td>\n",
              "      <td>0</td>\n",
              "      <td>0</td>\n",
              "      <td>0</td>\n",
              "      <td>0</td>\n",
              "      <td>0</td>\n",
              "      <td>0</td>\n",
              "      <td>0</td>\n",
              "      <td>0</td>\n",
              "      <td>0</td>\n",
              "      <td>0</td>\n",
              "      <td>0</td>\n",
              "      <td>0</td>\n",
              "      <td>0</td>\n",
              "      <td>1</td>\n",
              "      <td>0</td>\n",
              "      <td>0</td>\n",
              "      <td>0</td>\n",
              "      <td>0</td>\n",
              "      <td>0</td>\n",
              "      <td>0</td>\n",
              "      <td>0</td>\n",
              "      <td>0</td>\n",
              "      <td>0</td>\n",
              "      <td>0</td>\n",
              "      <td>0</td>\n",
              "    </tr>\n",
              "    <tr>\n",
              "      <th>1</th>\n",
              "      <td>0</td>\n",
              "      <td>0</td>\n",
              "      <td>0</td>\n",
              "      <td>1</td>\n",
              "      <td>0</td>\n",
              "      <td>1</td>\n",
              "      <td>0</td>\n",
              "      <td>0</td>\n",
              "      <td>0</td>\n",
              "      <td>0</td>\n",
              "      <td>0</td>\n",
              "      <td>0</td>\n",
              "      <td>0</td>\n",
              "      <td>0</td>\n",
              "      <td>1</td>\n",
              "      <td>0</td>\n",
              "      <td>1</td>\n",
              "      <td>0</td>\n",
              "      <td>1</td>\n",
              "      <td>0</td>\n",
              "      <td>0</td>\n",
              "      <td>0</td>\n",
              "      <td>0</td>\n",
              "      <td>0</td>\n",
              "      <td>0</td>\n",
              "      <td>0</td>\n",
              "      <td>0</td>\n",
              "      <td>1</td>\n",
              "      <td>1</td>\n",
              "      <td>0</td>\n",
              "      <td>0</td>\n",
              "      <td>0</td>\n",
              "      <td>0</td>\n",
              "      <td>0</td>\n",
              "      <td>0</td>\n",
              "      <td>1</td>\n",
              "      <td>0</td>\n",
              "      <td>0</td>\n",
              "      <td>1</td>\n",
              "      <td>0</td>\n",
              "      <td>...</td>\n",
              "      <td>0</td>\n",
              "      <td>0</td>\n",
              "      <td>0</td>\n",
              "      <td>0</td>\n",
              "      <td>0</td>\n",
              "      <td>0</td>\n",
              "      <td>0</td>\n",
              "      <td>0</td>\n",
              "      <td>0</td>\n",
              "      <td>0</td>\n",
              "      <td>0</td>\n",
              "      <td>0</td>\n",
              "      <td>0</td>\n",
              "      <td>0</td>\n",
              "      <td>0</td>\n",
              "      <td>0</td>\n",
              "      <td>0</td>\n",
              "      <td>0</td>\n",
              "      <td>0</td>\n",
              "      <td>0</td>\n",
              "      <td>0</td>\n",
              "      <td>0</td>\n",
              "      <td>1</td>\n",
              "      <td>0</td>\n",
              "      <td>0</td>\n",
              "      <td>0</td>\n",
              "      <td>0</td>\n",
              "      <td>0</td>\n",
              "      <td>0</td>\n",
              "      <td>0</td>\n",
              "      <td>0</td>\n",
              "      <td>0</td>\n",
              "      <td>0</td>\n",
              "      <td>0</td>\n",
              "      <td>0</td>\n",
              "      <td>0</td>\n",
              "      <td>0</td>\n",
              "      <td>0</td>\n",
              "      <td>0</td>\n",
              "      <td>0</td>\n",
              "    </tr>\n",
              "    <tr>\n",
              "      <th>2</th>\n",
              "      <td>0</td>\n",
              "      <td>0</td>\n",
              "      <td>1</td>\n",
              "      <td>0</td>\n",
              "      <td>0</td>\n",
              "      <td>1</td>\n",
              "      <td>0</td>\n",
              "      <td>0</td>\n",
              "      <td>0</td>\n",
              "      <td>0</td>\n",
              "      <td>0</td>\n",
              "      <td>0</td>\n",
              "      <td>0</td>\n",
              "      <td>0</td>\n",
              "      <td>1</td>\n",
              "      <td>0</td>\n",
              "      <td>1</td>\n",
              "      <td>0</td>\n",
              "      <td>0</td>\n",
              "      <td>0</td>\n",
              "      <td>1</td>\n",
              "      <td>0</td>\n",
              "      <td>0</td>\n",
              "      <td>0</td>\n",
              "      <td>0</td>\n",
              "      <td>1</td>\n",
              "      <td>0</td>\n",
              "      <td>0</td>\n",
              "      <td>0</td>\n",
              "      <td>0</td>\n",
              "      <td>1</td>\n",
              "      <td>0</td>\n",
              "      <td>0</td>\n",
              "      <td>0</td>\n",
              "      <td>0</td>\n",
              "      <td>0</td>\n",
              "      <td>1</td>\n",
              "      <td>1</td>\n",
              "      <td>0</td>\n",
              "      <td>0</td>\n",
              "      <td>...</td>\n",
              "      <td>0</td>\n",
              "      <td>0</td>\n",
              "      <td>0</td>\n",
              "      <td>0</td>\n",
              "      <td>0</td>\n",
              "      <td>0</td>\n",
              "      <td>0</td>\n",
              "      <td>0</td>\n",
              "      <td>0</td>\n",
              "      <td>0</td>\n",
              "      <td>0</td>\n",
              "      <td>0</td>\n",
              "      <td>0</td>\n",
              "      <td>0</td>\n",
              "      <td>0</td>\n",
              "      <td>1</td>\n",
              "      <td>0</td>\n",
              "      <td>0</td>\n",
              "      <td>0</td>\n",
              "      <td>0</td>\n",
              "      <td>0</td>\n",
              "      <td>0</td>\n",
              "      <td>1</td>\n",
              "      <td>0</td>\n",
              "      <td>0</td>\n",
              "      <td>0</td>\n",
              "      <td>0</td>\n",
              "      <td>0</td>\n",
              "      <td>0</td>\n",
              "      <td>0</td>\n",
              "      <td>0</td>\n",
              "      <td>0</td>\n",
              "      <td>0</td>\n",
              "      <td>0</td>\n",
              "      <td>0</td>\n",
              "      <td>0</td>\n",
              "      <td>0</td>\n",
              "      <td>0</td>\n",
              "      <td>0</td>\n",
              "      <td>0</td>\n",
              "    </tr>\n",
              "    <tr>\n",
              "      <th>4</th>\n",
              "      <td>0</td>\n",
              "      <td>1</td>\n",
              "      <td>0</td>\n",
              "      <td>0</td>\n",
              "      <td>0</td>\n",
              "      <td>0</td>\n",
              "      <td>1</td>\n",
              "      <td>0</td>\n",
              "      <td>0</td>\n",
              "      <td>0</td>\n",
              "      <td>0</td>\n",
              "      <td>0</td>\n",
              "      <td>0</td>\n",
              "      <td>0</td>\n",
              "      <td>1</td>\n",
              "      <td>0</td>\n",
              "      <td>1</td>\n",
              "      <td>0</td>\n",
              "      <td>0</td>\n",
              "      <td>0</td>\n",
              "      <td>1</td>\n",
              "      <td>0</td>\n",
              "      <td>0</td>\n",
              "      <td>0</td>\n",
              "      <td>0</td>\n",
              "      <td>0</td>\n",
              "      <td>1</td>\n",
              "      <td>0</td>\n",
              "      <td>0</td>\n",
              "      <td>0</td>\n",
              "      <td>1</td>\n",
              "      <td>0</td>\n",
              "      <td>0</td>\n",
              "      <td>0</td>\n",
              "      <td>0</td>\n",
              "      <td>1</td>\n",
              "      <td>0</td>\n",
              "      <td>0</td>\n",
              "      <td>1</td>\n",
              "      <td>0</td>\n",
              "      <td>...</td>\n",
              "      <td>0</td>\n",
              "      <td>0</td>\n",
              "      <td>0</td>\n",
              "      <td>0</td>\n",
              "      <td>0</td>\n",
              "      <td>0</td>\n",
              "      <td>0</td>\n",
              "      <td>0</td>\n",
              "      <td>0</td>\n",
              "      <td>0</td>\n",
              "      <td>0</td>\n",
              "      <td>0</td>\n",
              "      <td>0</td>\n",
              "      <td>0</td>\n",
              "      <td>0</td>\n",
              "      <td>0</td>\n",
              "      <td>0</td>\n",
              "      <td>0</td>\n",
              "      <td>0</td>\n",
              "      <td>0</td>\n",
              "      <td>0</td>\n",
              "      <td>0</td>\n",
              "      <td>1</td>\n",
              "      <td>0</td>\n",
              "      <td>0</td>\n",
              "      <td>0</td>\n",
              "      <td>0</td>\n",
              "      <td>0</td>\n",
              "      <td>0</td>\n",
              "      <td>0</td>\n",
              "      <td>0</td>\n",
              "      <td>0</td>\n",
              "      <td>0</td>\n",
              "      <td>0</td>\n",
              "      <td>0</td>\n",
              "      <td>0</td>\n",
              "      <td>0</td>\n",
              "      <td>0</td>\n",
              "      <td>0</td>\n",
              "      <td>0</td>\n",
              "    </tr>\n",
              "    <tr>\n",
              "      <th>5</th>\n",
              "      <td>0</td>\n",
              "      <td>0</td>\n",
              "      <td>0</td>\n",
              "      <td>1</td>\n",
              "      <td>0</td>\n",
              "      <td>0</td>\n",
              "      <td>1</td>\n",
              "      <td>0</td>\n",
              "      <td>0</td>\n",
              "      <td>0</td>\n",
              "      <td>0</td>\n",
              "      <td>0</td>\n",
              "      <td>0</td>\n",
              "      <td>0</td>\n",
              "      <td>1</td>\n",
              "      <td>1</td>\n",
              "      <td>0</td>\n",
              "      <td>0</td>\n",
              "      <td>1</td>\n",
              "      <td>0</td>\n",
              "      <td>0</td>\n",
              "      <td>0</td>\n",
              "      <td>0</td>\n",
              "      <td>0</td>\n",
              "      <td>0</td>\n",
              "      <td>1</td>\n",
              "      <td>0</td>\n",
              "      <td>0</td>\n",
              "      <td>0</td>\n",
              "      <td>0</td>\n",
              "      <td>1</td>\n",
              "      <td>0</td>\n",
              "      <td>0</td>\n",
              "      <td>1</td>\n",
              "      <td>0</td>\n",
              "      <td>0</td>\n",
              "      <td>0</td>\n",
              "      <td>0</td>\n",
              "      <td>1</td>\n",
              "      <td>0</td>\n",
              "      <td>...</td>\n",
              "      <td>0</td>\n",
              "      <td>0</td>\n",
              "      <td>0</td>\n",
              "      <td>0</td>\n",
              "      <td>0</td>\n",
              "      <td>0</td>\n",
              "      <td>0</td>\n",
              "      <td>0</td>\n",
              "      <td>0</td>\n",
              "      <td>0</td>\n",
              "      <td>0</td>\n",
              "      <td>0</td>\n",
              "      <td>0</td>\n",
              "      <td>0</td>\n",
              "      <td>0</td>\n",
              "      <td>0</td>\n",
              "      <td>0</td>\n",
              "      <td>0</td>\n",
              "      <td>0</td>\n",
              "      <td>0</td>\n",
              "      <td>0</td>\n",
              "      <td>0</td>\n",
              "      <td>0</td>\n",
              "      <td>0</td>\n",
              "      <td>0</td>\n",
              "      <td>0</td>\n",
              "      <td>0</td>\n",
              "      <td>0</td>\n",
              "      <td>0</td>\n",
              "      <td>0</td>\n",
              "      <td>0</td>\n",
              "      <td>0</td>\n",
              "      <td>0</td>\n",
              "      <td>0</td>\n",
              "      <td>0</td>\n",
              "      <td>0</td>\n",
              "      <td>0</td>\n",
              "      <td>1</td>\n",
              "      <td>0</td>\n",
              "      <td>0</td>\n",
              "    </tr>\n",
              "  </tbody>\n",
              "</table>\n",
              "<p>5 rows × 197 columns</p>\n",
              "</div>"
            ],
            "text/plain": [
              "   trauma_doenca_desempenho  ...  otimismo_com_a_vida_moderada perante o estresse (pc-p)\n",
              "0                         0  ...                                                  0     \n",
              "1                         0  ...                                                  0     \n",
              "2                         0  ...                                                  0     \n",
              "4                         0  ...                                                  0     \n",
              "5                         0  ...                                                  0     \n",
              "\n",
              "[5 rows x 197 columns]"
            ]
          },
          "metadata": {
            "tags": []
          },
          "execution_count": 49
        }
      ]
    },
    {
      "cell_type": "code",
      "metadata": {
        "id": "VGBp8vFhfPB5"
      },
      "source": [
        "y = y.equilibrio"
      ],
      "execution_count": 34,
      "outputs": []
    },
    {
      "cell_type": "markdown",
      "metadata": {
        "id": "i0KXEwgtY9m9"
      },
      "source": [
        "**Divisão da base entre teste e treino**"
      ]
    },
    {
      "cell_type": "code",
      "metadata": {
        "id": "TCeXt-wUY7zt"
      },
      "source": [
        "## Importando biblioteca para fazer a divisão da base entre teste/treino\r\n",
        "from sklearn.model_selection import train_test_split\r\n",
        "X_train, X_test, y_train, y_test = train_test_split(X,\r\n",
        "                                                    y,\r\n",
        "                                                    random_state=42,\r\n",
        "                                                    test_size=0.2,\r\n",
        "                                                    stratify=y)"
      ],
      "execution_count": 35,
      "outputs": []
    },
    {
      "cell_type": "code",
      "metadata": {
        "id": "ZHEMJDsGXu9R"
      },
      "source": [
        "#Benchmark\r\n",
        "from sklearn.dummy import DummyClassifier\r\n",
        "dummy_clf = DummyClassifier(strategy=\"most_frequent\")\r\n",
        "dummy_clf.fit(X_train, y_train)\r\n",
        "\r\n",
        "y_pred = dummy_clf.predict(X_test)"
      ],
      "execution_count": 36,
      "outputs": []
    },
    {
      "cell_type": "code",
      "metadata": {
        "colab": {
          "base_uri": "https://localhost:8080/"
        },
        "id": "mahDGtbjjHsp",
        "outputId": "3cac4be6-9e51-497b-be77-6a4fd6fcd0ae"
      },
      "source": [
        "# Acuracia\r\n",
        "np.mean(y_pred==y_test)"
      ],
      "execution_count": 37,
      "outputs": [
        {
          "output_type": "execute_result",
          "data": {
            "text/plain": [
              "0.836104513064133"
            ]
          },
          "metadata": {
            "tags": []
          },
          "execution_count": 37
        }
      ]
    },
    {
      "cell_type": "code",
      "metadata": {
        "colab": {
          "base_uri": "https://localhost:8080/"
        },
        "id": "IUNancxRjKGV",
        "outputId": "a9dade7a-2eaf-4049-94cd-e558f07894c6"
      },
      "source": [
        "from sklearn.metrics import accuracy_score\r\n",
        "accuracy_score(y_test, y_pred)"
      ],
      "execution_count": 38,
      "outputs": [
        {
          "output_type": "execute_result",
          "data": {
            "text/plain": [
              "0.836104513064133"
            ]
          },
          "metadata": {
            "tags": []
          },
          "execution_count": 38
        }
      ]
    },
    {
      "cell_type": "code",
      "metadata": {
        "colab": {
          "base_uri": "https://localhost:8080/",
          "height": 299
        },
        "id": "Fsy2rqBQXbXi",
        "outputId": "41247926-d5a4-42a8-ecdd-edaebf4e0f61"
      },
      "source": [
        "#Matriz de confusão\r\n",
        "from sklearn.metrics import confusion_matrix\r\n",
        "cm=confusion_matrix(y_test, y_pred)\r\n",
        "sns.heatmap(cm, annot=True, fmt='g')\r\n",
        "plt.xlabel('Predição( 1 ou 0)')\r\n",
        "plt.ylabel('Real ( 1 ou 0)')\r\n"
      ],
      "execution_count": 39,
      "outputs": [
        {
          "output_type": "execute_result",
          "data": {
            "text/plain": [
              "Text(33.0, 0.5, 'Real ( 1 ou 0)')"
            ]
          },
          "metadata": {
            "tags": []
          },
          "execution_count": 39
        },
        {
          "output_type": "display_data",
          "data": {
            "image/png": "[encoded data removed]",
            "text/plain": [
              "<Figure size 432x288 with 2 Axes>"
            ]
          },
          "metadata": {
            "tags": [],
            "needs_background": "light"
          }
        }
      ]
    },
    {
      "cell_type": "code",
      "metadata": {
        "colab": {
          "base_uri": "https://localhost:8080/"
        },
        "id": "IO5BImXLjVfg",
        "outputId": "d7e51cbd-2bf5-439d-d911-4a02d5e3040d"
      },
      "source": [
        "from sklearn.metrics import classification_report\r\n",
        "print(classification_report(y_test, y_pred))"
      ],
      "execution_count": 40,
      "outputs": [
        {
          "output_type": "stream",
          "text": [
            "              precision    recall  f1-score   support\n",
            "\n",
            "           0       0.84      1.00      0.91       352\n",
            "           1       0.00      0.00      0.00        69\n",
            "\n",
            "    accuracy                           0.84       421\n",
            "   macro avg       0.42      0.50      0.46       421\n",
            "weighted avg       0.70      0.84      0.76       421\n",
            "\n"
          ],
          "name": "stdout"
        },
        {
          "output_type": "stream",
          "text": [
            "/usr/local/lib/python3.6/dist-packages/sklearn/metrics/_classification.py:1272: UndefinedMetricWarning: Precision and F-score are ill-defined and being set to 0.0 in labels with no predicted samples. Use `zero_division` parameter to control this behavior.\n",
            "  _warn_prf(average, modifier, msg_start, len(result))\n"
          ],
          "name": "stderr"
        }
      ]
    },
    {
      "cell_type": "code",
      "metadata": {
        "colab": {
          "base_uri": "https://localhost:8080/"
        },
        "id": "LuSiAhrajdp-",
        "outputId": "497868a2-698b-4a6a-abaf-c5b08ed53db9"
      },
      "source": [
        "from sklearn.metrics import roc_auc_score\r\n",
        "y_proba = dummy_clf.predict_proba(X_test)\r\n",
        "roc_auc_score(y_test, y_proba[:, 1])"
      ],
      "execution_count": 41,
      "outputs": [
        {
          "output_type": "execute_result",
          "data": {
            "text/plain": [
              "0.5"
            ]
          },
          "metadata": {
            "tags": []
          },
          "execution_count": 41
        }
      ]
    },
    {
      "cell_type": "markdown",
      "metadata": {
        "id": "i5dasxcW68Ro"
      },
      "source": [
        "##Machine Learning"
      ]
    },
    {
      "cell_type": "markdown",
      "metadata": {
        "id": "ijpv3Tl90oCx"
      },
      "source": [
        "Treinando e Avaliando no Conjunto de Treino"
      ]
    },
    {
      "cell_type": "code",
      "metadata": {
        "colab": {
          "base_uri": "https://localhost:8080/"
        },
        "id": "gkGESct2j0gb",
        "outputId": "cb6de6ef-27b7-487e-e103-85f3544806c8"
      },
      "source": [
        "from sklearn.linear_model import LogisticRegression\r\n",
        "lr = LogisticRegression()\r\n",
        "lr.fit(X_train, y_train)"
      ],
      "execution_count": 42,
      "outputs": [
        {
          "output_type": "execute_result",
          "data": {
            "text/plain": [
              "LogisticRegression(C=1.0, class_weight=None, dual=False, fit_intercept=True,\n",
              "                   intercept_scaling=1, l1_ratio=None, max_iter=100,\n",
              "                   multi_class='auto', n_jobs=None, penalty='l2',\n",
              "                   random_state=None, solver='lbfgs', tol=0.0001, verbose=0,\n",
              "                   warm_start=False)"
            ]
          },
          "metadata": {
            "tags": []
          },
          "execution_count": 42
        }
      ]
    },
    {
      "cell_type": "code",
      "metadata": {
        "colab": {
          "base_uri": "https://localhost:8080/"
        },
        "id": "gTLTDyCUj4sK",
        "outputId": "48d90222-7ad9-4858-cc4f-68f2e245b4fe"
      },
      "source": [
        "# Acuracia\r\n",
        "lr.score(X_test, y_test)"
      ],
      "execution_count": 43,
      "outputs": [
        {
          "output_type": "execute_result",
          "data": {
            "text/plain": [
              "0.8242280285035629"
            ]
          },
          "metadata": {
            "tags": []
          },
          "execution_count": 43
        }
      ]
    },
    {
      "cell_type": "code",
      "metadata": {
        "colab": {
          "base_uri": "https://localhost:8080/"
        },
        "id": "L0NvwPmpj9xF",
        "outputId": "dab7984c-8ee0-4dac-a246-f7752c79bb9a"
      },
      "source": [
        "y_proba = lr.predict_proba(X_test)\r\n",
        "roc_auc_score(y_test, y_proba[:, 1])"
      ],
      "execution_count": 44,
      "outputs": [
        {
          "output_type": "execute_result",
          "data": {
            "text/plain": [
              "0.6631258234519103"
            ]
          },
          "metadata": {
            "tags": []
          },
          "execution_count": 44
        }
      ]
    },
    {
      "cell_type": "code",
      "metadata": {
        "id": "y7gQgkI1kJYL"
      },
      "source": [
        "from sklearn.tree import DecisionTreeClassifier\r\n",
        "from sklearn.ensemble import RandomForestClassifier\r\n",
        "from xgboost import XGBClassifier"
      ],
      "execution_count": 45,
      "outputs": []
    },
    {
      "cell_type": "code",
      "metadata": {
        "colab": {
          "base_uri": "https://localhost:8080/"
        },
        "id": "4dccpdxhkLaJ",
        "outputId": "dbe3e304-4990-4d60-b03e-b0e52ea036a1"
      },
      "source": [
        "lista_classificacores = [DecisionTreeClassifier(),\r\n",
        "                         RandomForestClassifier(),\r\n",
        "                         XGBClassifier()]\r\n",
        "\r\n",
        "for clf in lista_classificacores:\r\n",
        "  print(clf.__class__.__name__)\r\n",
        "  clf.fit(X_train, y_train)\r\n",
        "\r\n",
        "  print('Acuracia')\r\n",
        "  train_acc=clf.score(X_train, y_train)\r\n",
        "  test_acc=clf.score(X_test, y_test)\r\n",
        "  print('Treino:', train_acc)\r\n",
        "  print('Teste:', test_acc)\r\n",
        "\r\n",
        "  print('ROC AUC')\r\n",
        "  y_proba_train = clf.predict_proba(X_train)\r\n",
        "  roc_train=roc_auc_score(y_train, y_proba_train[:, 1])\r\n",
        "  print('Treino', roc_train)\r\n",
        "\r\n",
        "  y_proba_test = clf.predict_proba(X_test)\r\n",
        "  roc_test = roc_auc_score(y_test, y_proba_test[:, 1])\r\n",
        "  print('Test', roc_test)\r\n",
        "  print('='*80)\r\n"
      ],
      "execution_count": 46,
      "outputs": [
        {
          "output_type": "stream",
          "text": [
            "DecisionTreeClassifier\n",
            "Acuracia\n",
            "Treino: 1.0\n",
            "Teste: 0.7505938242280285\n",
            "ROC AUC\n",
            "Treino 1.0\n",
            "Test 0.5362524703557313\n",
            "================================================================================\n",
            "RandomForestClassifier\n",
            "Acuracia\n",
            "Treino: 1.0\n",
            "Teste: 0.836104513064133\n",
            "ROC AUC\n",
            "Treino 1.0\n",
            "Test 0.680274209486166\n",
            "================================================================================\n",
            "XGBClassifier\n",
            "Acuracia\n",
            "Treino: 0.8460166468489893\n",
            "Teste: 0.836104513064133\n",
            "ROC AUC\n",
            "Treino 0.8573677069199458\n",
            "Test 0.6763422266139657\n",
            "================================================================================\n"
          ],
          "name": "stdout"
        }
      ]
    },
    {
      "cell_type": "code",
      "metadata": {
        "id": "A__GC2AdkZa5"
      },
      "source": [
        "clf=XGBClassifier()\r\n",
        "clf.fit(X_train, y_train)\r\n",
        "y_pred=clf.predict(X_test)"
      ],
      "execution_count": 47,
      "outputs": []
    },
    {
      "cell_type": "code",
      "metadata": {
        "colab": {
          "base_uri": "https://localhost:8080/",
          "height": 299
        },
        "id": "l0nIOLfXkVOQ",
        "outputId": "5b1a81cc-1eed-4887-8cd1-38cc60f9e284"
      },
      "source": [
        "cm=confusion_matrix(y_test, y_pred)\r\n",
        "sns.heatmap(cm, annot=True, fmt='g')\r\n",
        "plt.xlabel('Predição( 1 ou 0)')\r\n",
        "plt.ylabel('Real ( 1 ou 0)')"
      ],
      "execution_count": 48,
      "outputs": [
        {
          "output_type": "execute_result",
          "data": {
            "text/plain": [
              "Text(33.0, 0.5, 'Real ( 1 ou 0)')"
            ]
          },
          "metadata": {
            "tags": []
          },
          "execution_count": 48
        },
        {
          "output_type": "display_data",
          "data": {
            "image/png": "[encoded data removed]",
            "text/plain": [
              "<Figure size 432x288 with 2 Axes>"
            ]
          },
          "metadata": {
            "tags": [],
            "needs_background": "light"
          }
        }
      ]
    }
  ]
}