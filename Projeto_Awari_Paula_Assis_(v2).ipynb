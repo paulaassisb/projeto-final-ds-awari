{
  "nbformat": 4,
  "nbformat_minor": 0,
  "metadata": {
    "colab": {
      "name": "Projeto Awari - Paula Assis (v2).ipynb",
      "provenance": [],
      "collapsed_sections": [],
      "mount_file_id": "133Ub0WhxuzQdt5mU67TDGsmuhKAKROLD",
      "authorship_tag": "ABX9TyNf+c3s0vDKCcD/50i4vOm3",
      "include_colab_link": true
    },
    "kernelspec": {
      "name": "python3",
      "display_name": "Python 3"
    }
  },
  "cells": [
    {
      "cell_type": "markdown",
      "metadata": {
        "id": "view-in-github",
        "colab_type": "text"
      },
      "source": [
        "<a href=\"https://colab.research.google.com/github/paulaassisb/projeto-final-ds-awari/blob/main/Projeto_Awari_Paula_Assis_(v2).ipynb\" target=\"_parent\"><img src=\"https://colab.research.google.com/assets/colab-badge.svg\" alt=\"Open In Colab\"/></a>"
      ]
    },
    {
      "cell_type": "code",
      "metadata": {
        "id": "4pOl2MQF0_t7"
      },
      "source": [
        "## Importação de bibliotecas\n",
        "import pandas as pd\n",
        "from pandas import Series,DataFrame\n",
        "import numpy as np\n",
        "import re\n",
        "import unicodedata\n",
        "from nltk.corpus import stopwords\n",
        "from sklearn.preprocessing import LabelEncoder\n",
        "from sklearn.metrics import classification_report\n",
        "import seaborn as sns\n",
        "## import matplotlib.pyplot as plt"
      ],
      "execution_count": 472,
      "outputs": []
    },
    {
      "cell_type": "markdown",
      "metadata": {
        "id": "y6Okj0kix2f8"
      },
      "source": [
        "###1. Importação da base de dados"
      ]
    },
    {
      "cell_type": "code",
      "metadata": {
        "colab": {
          "base_uri": "https://localhost:8080/"
        },
        "id": "SeapCwKX2xKM",
        "outputId": "063556b0-98e1-48b6-8431-c76d114a295a"
      },
      "source": [
        "## Importando arquivo da coleta de dados\n",
        "dados_quest = pd.read_csv('https://raw.githubusercontent.com/paulaassisb/projeto-final-ds-awari/main/coleta_dados_quest_projeto_final_indices.csv', sep = ';', encoding='latin-1')\n",
        "print(f'Número de linhas: {len(dados_quest)}')\n",
        "print(f'Número de colunas: {len(dados_quest.columns)}')\n"
      ],
      "execution_count": 473,
      "outputs": [
        {
          "output_type": "stream",
          "text": [
            "Número de linhas: 3778\n",
            "Número de colunas: 21\n"
          ],
          "name": "stdout"
        }
      ]
    },
    {
      "cell_type": "code",
      "metadata": {
        "id": "S_RMOM4j3dg1"
      },
      "source": [
        "## Transformando em DataFrame para visualização e manipulação dos dados\n",
        "df = pd.DataFrame(dados_quest)"
      ],
      "execution_count": 474,
      "outputs": []
    },
    {
      "cell_type": "code",
      "metadata": {
        "id": "Beh6Midb7_BV",
        "colab": {
          "base_uri": "https://localhost:8080/",
          "height": 428
        },
        "outputId": "8236819a-914c-4344-e440-038adf0b3bc7"
      },
      "source": [
        "df.head()"
      ],
      "execution_count": 475,
      "outputs": [
        {
          "output_type": "execute_result",
          "data": {
            "text/html": [
              "<div>\n",
              "<style scoped>\n",
              "    .dataframe tbody tr th:only-of-type {\n",
              "        vertical-align: middle;\n",
              "    }\n",
              "\n",
              "    .dataframe tbody tr th {\n",
              "        vertical-align: top;\n",
              "    }\n",
              "\n",
              "    .dataframe thead th {\n",
              "        text-align: right;\n",
              "    }\n",
              "</style>\n",
              "<table border=\"1\" class=\"dataframe\">\n",
              "  <thead>\n",
              "    <tr style=\"text-align: right;\">\n",
              "      <th></th>\n",
              "      <th>Numero do Sujeito</th>\n",
              "      <th>1a. Doença</th>\n",
              "      <th>Idade 1a. Doença</th>\n",
              "      <th>Tempo 1a Doença</th>\n",
              "      <th>Sexo</th>\n",
              "      <th>UF Nascimento</th>\n",
              "      <th>UF</th>\n",
              "      <th>Formação</th>\n",
              "      <th>Atividade</th>\n",
              "      <th>Escolaridade</th>\n",
              "      <th>Estado Civil</th>\n",
              "      <th>Religião</th>\n",
              "      <th>Outro Idioma</th>\n",
              "      <th>Análise do Contexto</th>\n",
              "      <th>Autoconfiança</th>\n",
              "      <th>Autocontrole</th>\n",
              "      <th>Conquistar e Manter Pessoas</th>\n",
              "      <th>Empatia</th>\n",
              "      <th>Leitura Corporal</th>\n",
              "      <th>Otimismo com a Vida</th>\n",
              "      <th>Sentido da Vida</th>\n",
              "    </tr>\n",
              "  </thead>\n",
              "  <tbody>\n",
              "    <tr>\n",
              "      <th>0</th>\n",
              "      <td>13531.0</td>\n",
              "      <td>Depressão</td>\n",
              "      <td>31 - 49 anos</td>\n",
              "      <td>Um ano</td>\n",
              "      <td>Feminino</td>\n",
              "      <td>SP</td>\n",
              "      <td>SP</td>\n",
              "      <td>Administradora</td>\n",
              "      <td>Gerente de Compras</td>\n",
              "      <td>Pós-Graduação</td>\n",
              "      <td>Casado</td>\n",
              "      <td>Católico</td>\n",
              "      <td>Sim</td>\n",
              "      <td>0.92</td>\n",
              "      <td>15.15</td>\n",
              "      <td>17.17</td>\n",
              "      <td>2.78</td>\n",
              "      <td>13.07</td>\n",
              "      <td>7.04</td>\n",
              "      <td>3.79</td>\n",
              "      <td>0.92</td>\n",
              "    </tr>\n",
              "    <tr>\n",
              "      <th>1</th>\n",
              "      <td>13532.0</td>\n",
              "      <td>enfermidade que me levou a 15 dias de hospital...</td>\n",
              "      <td>7 - 12 anos</td>\n",
              "      <td>Mais de um ano</td>\n",
              "      <td>Masculino</td>\n",
              "      <td>SP</td>\n",
              "      <td>SP</td>\n",
              "      <td>Arquiteto</td>\n",
              "      <td>NaN</td>\n",
              "      <td>Pós-Graduação</td>\n",
              "      <td>Casado</td>\n",
              "      <td>Evangélico</td>\n",
              "      <td>Sim</td>\n",
              "      <td>6.03</td>\n",
              "      <td>12.12</td>\n",
              "      <td>18.18</td>\n",
              "      <td>2.78</td>\n",
              "      <td>1.01</td>\n",
              "      <td>2.76</td>\n",
              "      <td>6.06</td>\n",
              "      <td>-4.04</td>\n",
              "    </tr>\n",
              "    <tr>\n",
              "      <th>2</th>\n",
              "      <td>13533.0</td>\n",
              "      <td>Violência doméstica</td>\n",
              "      <td>7 - 12 anos</td>\n",
              "      <td>Mais de um ano</td>\n",
              "      <td>Masculino</td>\n",
              "      <td>SP</td>\n",
              "      <td>SP</td>\n",
              "      <td>NaN</td>\n",
              "      <td>Pesquisa e leitura de livros</td>\n",
              "      <td>Superior Completo</td>\n",
              "      <td>Solteiro</td>\n",
              "      <td>Outro</td>\n",
              "      <td>Não</td>\n",
              "      <td>0.92</td>\n",
              "      <td>3.79</td>\n",
              "      <td>-3.03</td>\n",
              "      <td>-1.98</td>\n",
              "      <td>-0.92</td>\n",
              "      <td>-0.92</td>\n",
              "      <td>4.80</td>\n",
              "      <td>0.92</td>\n",
              "    </tr>\n",
              "    <tr>\n",
              "      <th>3</th>\n",
              "      <td>13534.0</td>\n",
              "      <td>Nenhuma resposta</td>\n",
              "      <td>Nenhuma resposta</td>\n",
              "      <td>Nenhuma resposta</td>\n",
              "      <td>Masculino</td>\n",
              "      <td>SP</td>\n",
              "      <td>SP</td>\n",
              "      <td>Administração de Empresas</td>\n",
              "      <td>Analista de Mercado</td>\n",
              "      <td>Superior Completo</td>\n",
              "      <td>Solteiro</td>\n",
              "      <td>Evangélico</td>\n",
              "      <td>Sim</td>\n",
              "      <td>7.04</td>\n",
              "      <td>15.15</td>\n",
              "      <td>17.17</td>\n",
              "      <td>3.79</td>\n",
              "      <td>4.77</td>\n",
              "      <td>0.00</td>\n",
              "      <td>1.77</td>\n",
              "      <td>0.92</td>\n",
              "    </tr>\n",
              "    <tr>\n",
              "      <th>4</th>\n",
              "      <td>13535.0</td>\n",
              "      <td>Nenhuma resposta</td>\n",
              "      <td>Nenhuma resposta</td>\n",
              "      <td>Nenhuma resposta</td>\n",
              "      <td>Masculino</td>\n",
              "      <td>SP</td>\n",
              "      <td>SP</td>\n",
              "      <td>NaN</td>\n",
              "      <td>NaN</td>\n",
              "      <td>Superior Incompleto</td>\n",
              "      <td>Solteiro</td>\n",
              "      <td>Evangélico</td>\n",
              "      <td>Sim</td>\n",
              "      <td>5.86</td>\n",
              "      <td>6.82</td>\n",
              "      <td>5.81</td>\n",
              "      <td>6.06</td>\n",
              "      <td>4.02</td>\n",
              "      <td>0.00</td>\n",
              "      <td>4.80</td>\n",
              "      <td>5.86</td>\n",
              "    </tr>\n",
              "  </tbody>\n",
              "</table>\n",
              "</div>"
            ],
            "text/plain": [
              "   Numero do Sujeito  ... Sentido da Vida\n",
              "0            13531.0  ...            0.92\n",
              "1            13532.0  ...           -4.04\n",
              "2            13533.0  ...            0.92\n",
              "3            13534.0  ...            0.92\n",
              "4            13535.0  ...            5.86\n",
              "\n",
              "[5 rows x 21 columns]"
            ]
          },
          "metadata": {
            "tags": []
          },
          "execution_count": 475
        }
      ]
    },
    {
      "cell_type": "markdown",
      "metadata": {
        "id": "Q17mt2QoSHx3"
      },
      "source": [
        "###2. Preparação da base de dados"
      ]
    },
    {
      "cell_type": "markdown",
      "metadata": {
        "id": "Z7jCBxxr2fdT"
      },
      "source": [
        "\n",
        "**Transformando as colunas**"
      ]
    },
    {
      "cell_type": "code",
      "metadata": {
        "id": "mmXqQyLS1IaW",
        "colab": {
          "base_uri": "https://localhost:8080/"
        },
        "outputId": "afd333b7-8f35-487f-d6dc-5bc755dae102"
      },
      "source": [
        "df.columns"
      ],
      "execution_count": 476,
      "outputs": [
        {
          "output_type": "execute_result",
          "data": {
            "text/plain": [
              "Index(['Numero do Sujeito', '1a. Doença', 'Idade 1a. Doença',\n",
              "       'Tempo 1a Doença', 'Sexo', 'UF Nascimento', 'UF', 'Formação',\n",
              "       'Atividade', 'Escolaridade', 'Estado Civil', 'Religião', 'Outro Idioma',\n",
              "       'Análise do Contexto', 'Autoconfiança', 'Autocontrole',\n",
              "       'Conquistar e Manter Pessoas', 'Empatia', 'Leitura Corporal',\n",
              "       'Otimismo com a Vida', 'Sentido da Vida'],\n",
              "      dtype='object')"
            ]
          },
          "metadata": {
            "tags": []
          },
          "execution_count": 476
        }
      ]
    },
    {
      "cell_type": "code",
      "metadata": {
        "id": "zn8yJYKt0Tww"
      },
      "source": [
        "## Nomes das colunas (todos em minúsculo e sem espaço)\n",
        "df.columns.str.lower()\n",
        "df.columns = df.columns.str.lower().str.replace(' ', '_')"
      ],
      "execution_count": 477,
      "outputs": []
    },
    {
      "cell_type": "code",
      "metadata": {
        "id": "5B_5u8g71izG"
      },
      "source": [
        "## Renomear colunas relacionadas a doença/trauma\n",
        "df = df.rename(columns={'1a._doença': 'trauma_doenca', 'idade_1a._doença': 'idade_doenca_trauma', 'tempo_1a_doença': 'tempo_doenca_trauma', \n",
        "                        'formação': 'formacao', 'religião': 'religiao', 'análise_do_contexto': 'analise_do_contexto', 'autoconfiança': 'autoconfianca'})"
      ],
      "execution_count": 478,
      "outputs": []
    },
    {
      "cell_type": "code",
      "metadata": {
        "id": "igdZ5KSicBRa"
      },
      "source": [
        "#Removendo colunas não necessárias\r\n",
        "df = df.drop(columns=['numero_do_sujeito', 'atividade', 'uf_nascimento', 'uf'])"
      ],
      "execution_count": 479,
      "outputs": []
    },
    {
      "cell_type": "markdown",
      "metadata": {
        "id": "iqHK1sv4Vw1g"
      },
      "source": [
        "**Tratamento de valores nulos (NaN)**"
      ]
    },
    {
      "cell_type": "code",
      "metadata": {
        "id": "5TEnp4g4XxO9"
      },
      "source": [
        "df = df.dropna(subset=['trauma_doenca', 'idade_doenca_trauma', 'tempo_doenca_trauma'])"
      ],
      "execution_count": 480,
      "outputs": []
    },
    {
      "cell_type": "markdown",
      "metadata": {
        "id": "Y-iP9kGfYpEJ"
      },
      "source": [
        "**Transformando objetos em categorias**"
      ]
    },
    {
      "cell_type": "code",
      "metadata": {
        "colab": {
          "base_uri": "https://localhost:8080/"
        },
        "id": "L9cr9PReTTg5",
        "outputId": "33889e72-e6ee-4e48-fc13-a569e69cf89c"
      },
      "source": [
        "for feature in df.columns:\r\n",
        "    print('The feature is {} and number of categories are {}'.format(feature,len(df[feature].unique())))"
      ],
      "execution_count": 481,
      "outputs": [
        {
          "output_type": "stream",
          "text": [
            "The feature is trauma_doenca and number of categories are 808\n",
            "The feature is idade_doenca_trauma and number of categories are 7\n",
            "The feature is tempo_doenca_trauma and number of categories are 6\n",
            "The feature is sexo and number of categories are 2\n",
            "The feature is formacao and number of categories are 797\n",
            "The feature is escolaridade and number of categories are 7\n",
            "The feature is estado_civil and number of categories are 5\n",
            "The feature is religiao and number of categories are 4\n",
            "The feature is outro_idioma and number of categories are 2\n",
            "The feature is analise_do_contexto and number of categories are 56\n",
            "The feature is autoconfianca and number of categories are 59\n",
            "The feature is autocontrole and number of categories are 60\n",
            "The feature is conquistar_e_manter_pessoas and number of categories are 59\n",
            "The feature is empatia and number of categories are 64\n",
            "The feature is leitura_corporal and number of categories are 65\n",
            "The feature is otimismo_com_a_vida and number of categories are 59\n",
            "The feature is sentido_da_vida and number of categories are 9\n"
          ],
          "name": "stdout"
        }
      ]
    },
    {
      "cell_type": "code",
      "metadata": {
        "id": "e7rfSpFMYyZj"
      },
      "source": [
        "#Transformando objetos em strings\r\n",
        "# label_encoder = LabelEncoder() - não funcionou como esperado, porque classifica por ordem alfabética\r\n",
        "\r\n",
        "escolaridade = {'1ª a 4ª série': 0, '5ª a 9ª série': 1, 'Ensino Médio': 2, 'Técnico': 3, 'Superior Completo': 4, 'Superior Incompleto': 5, 'Pós-Graduação': 6}\r\n",
        "df ['escolaridade'] = df.escolaridade.map (escolaridade)\r\n",
        "\r\n",
        "idade_doenca_trauma = {'Até 6 anos': 0, '7 - 12 anos': 1, '13 - 17 anos': 2, '18 - 30 anos':3, '31 - 49 anos': 4, 'Acima': 5}\r\n",
        "df ['idade_doenca_trauma'] = df.idade_doenca_trauma.map (idade_doenca_trauma)\r\n",
        "\r\n",
        "tempo_doenca_trauma = {'Alguns dias': 0, 'Semanas': 1, 'Meses': 2, 'Um ano': 3, 'Mais de um ano': 4}\r\n",
        "df ['tempo_doenca_trauma'] = df.tempo_doenca_trauma.map (tempo_doenca_trauma)"
      ],
      "execution_count": 482,
      "outputs": []
    },
    {
      "cell_type": "code",
      "metadata": {
        "id": "jNZJwa89Y3U2"
      },
      "source": [
        "#Aplicando a moda em valores nulos nas colunas Idade e Tempo de duração da doença ou trauma\r\n",
        "df['tempo_doenca_trauma']=df['tempo_doenca_trauma'].fillna(df['tempo_doenca_trauma'].mode()[0])\r\n",
        "df['idade_doenca_trauma']=df['idade_doenca_trauma'].fillna(df['idade_doenca_trauma'].mode()[0])"
      ],
      "execution_count": 483,
      "outputs": []
    },
    {
      "cell_type": "markdown",
      "metadata": {
        "id": "Xa3S5D_kWNzx"
      },
      "source": [
        "**Padronização do dataframe**\r\n"
      ]
    },
    {
      "cell_type": "code",
      "metadata": {
        "id": "dxr7eHYxmk-K"
      },
      "source": [
        "#Padronizando dataframe em minúsculo e sem acentuação\n",
        "\n",
        "for column in df.columns:\n",
        "  df[column] = df[column].astype(str).str.lower()\n",
        "  \n",
        "cols = df.select_dtypes(include=[np.object]).columns\n",
        "df[cols] = df[cols].apply(lambda x: x.str.normalize('NFKD').str.encode('ascii', errors='ignore').str.decode('utf-8'))"
      ],
      "execution_count": 484,
      "outputs": []
    },
    {
      "cell_type": "markdown",
      "metadata": {
        "id": "Abwx6WgcLD6_"
      },
      "source": [
        "**Padronizando coluna \"Trauma ou Doença\"**"
      ]
    },
    {
      "cell_type": "code",
      "metadata": {
        "id": "NIWpw-BwRjtP"
      },
      "source": [
        "stopwords = ['a', 'minha', 'que', 'me', 'de', 'e', 'na', 'quase', 'dos', 'do', 'meus', 'da', 'aos', 'um', 'numa', 'teve', 'enquanto', 'meu', \r\n",
        "             'sem', 'no', 'para', 'primeira', 'com', 'muito', 'fui', 'durante', 'uma', 'em', 'por', 'o', 'quando', 'eu', 'tive']"
      ],
      "execution_count": 485,
      "outputs": []
    },
    {
      "cell_type": "code",
      "metadata": {
        "id": "-E5UIeKt5N9m"
      },
      "source": [
        "def removestopword (texto):\r\n",
        "  semstop = [p for p in texto.split() if p not in stopwords]\r\n",
        "  return ' '.join(semstop)"
      ],
      "execution_count": 486,
      "outputs": []
    },
    {
      "cell_type": "code",
      "metadata": {
        "id": "jppatKt86Ub7"
      },
      "source": [
        "df['trauma_doenca'] = df['trauma_doenca'].apply(removestopword)"
      ],
      "execution_count": 487,
      "outputs": []
    },
    {
      "cell_type": "code",
      "metadata": {
        "id": "8y0Ka6oEIU-x"
      },
      "source": [
        "CATEGORIAS = {'saude-doenca': ['enfermidade', 'pneumonia', 'tumor', 'labirintite', 'corte', 'cirurgia', \r\n",
        "              'vesicula', 'queimadura', 'fratura', 'chron', 'hernia', 'hepatite', 'disco', 'bronquite', 'apendicite', 'caxumba', 'tireoide',\r\n",
        "              'hipertensao', 'torci', 'artrodese', 'gordura', 'lesao', 'sarampo', 'narcolepsia', 'tenorrafia', 'disfuncao', 'condropatia',\r\n",
        "              'asma', 'dor', 'gastrite', 'internacao', 'infarto', 'febre', 'meningite', 'obesidade', 'alzhimer', 'anemia', 'neurolofica',\r\n",
        "              'neurologico', 'doenca', 'avc', 'visicula', 'ernia', 'cardiaco', 'edema', 'presao', 'tibia', 'renal', 'operacao', 'braco', 'adoecimento',\r\n",
        "              'basite', 'lombares', 'dengue', 'coluna', 'menigite', 'audicao', 'infeccao', 'pericardite', 'catarata', ' inflamacao',\r\n",
        "              'operei', 'convulsao', 'abcesso', 'artrite', 'trombose', 'catapora', 'infarte', 'epilepsia', 'torcao', 'deslocar', 'inflamacao', 'renais',\r\n",
        "              'quebrei', 'tireoide', 'micose', 'clavicula', 'fraturei', 'diabete', 'prielonefrite', 'rcp', 'cisto', 'amputacao', 'toxoplasmose',\r\n",
        "              'comvulcao', 'hemorragia', 'derbuculoce', 'deboculose', 'operasao', 'viral', 'virus', 'internado', 'toc', 'traumatismo', 'alergia',\r\n",
        "              'enxaqueca', 'apendice', 'verme', 'visual', 'pylori', 'cardiaca', 'garganta', 'cicatriz', 'sifiles', 'bacteria',\r\n",
        "              'gagueira', 'salmonela', 'eclampsia', 'retina', 'gripe', 'taquicardia', 'ictiose', 'entalado', 'endometriose', 'denque', 'quebraduras', \r\n",
        "              'quebrado', 'osso', 'quebrar', 'joelho', 'tornozelo', 'cancer', 'hiv', 'tuberculose',  'cardiopatia', 'esclerose',\r\n",
        "              'falecimento', 'morte', 'falaceu', 'ente', 'perdas', 'perda', 'obito', 'perca', 'perde', 'falecido', \r\n",
        "              'ansiedade', 'depressao', 'panico', 'estresse', 'traumatico', 'suicidio', 'disturbio', 'perdi', 'mutilacoes',\r\n",
        "              'sociais', 'rejeicao', 'burnout', 'bulimia', 'alcool', 'bebida', 'alcolismo', 'alcoolismo', 'drogas', 'vicio', 'pedofilia'],\r\n",
        "\r\n",
        "              'relacoes interpessoais': ['separacao', 'divorcio', 'separaram', 'conjugal', 'relacionamento', 'traicao', 'gravidez', 'aborto', 'feto',\r\n",
        "                                         'estupro', 'abuso', 'abusado', 'interpessoais', 'namoro', 'violencia', 'VIOLÊNCIA', 'violência', 'sequestro', \r\n",
        "                                         'arma', 'baleado', 'assassinato', 'agressor','assalto', 'assaltada'],\r\n",
        "              \r\n",
        "              'desempenho': ['trabalho', 'escola', 'vestibular', 'desemprego', 'desligado', 'acidente', 'acicente', 'queda', 'capotamento', \r\n",
        "                             'atrolepamento', 'batida', 'atropelamento', 'afogamento', 'carro', 'moto', 'atropelado', 'financeiras'],\r\n",
        "\r\n",
        "              'outros': [ 'preso', 'nenhuma resposta', 'nenhuma', 'nenhum', 'nao houve', '2010', 'nao considero', 'nada', \r\n",
        "                         'nao ha', 'nao recordo', 'ca', 'i', 'nao', '']}"
      ],
      "execution_count": 488,
      "outputs": []
    },
    {
      "cell_type": "code",
      "metadata": {
        "colab": {
          "base_uri": "https://localhost:8080/"
        },
        "id": "wgbICJN3hxsm",
        "outputId": "118d500d-3319-4cf0-861d-ecccdee2d357"
      },
      "source": [
        "CATEGORIAS.keys()"
      ],
      "execution_count": 489,
      "outputs": [
        {
          "output_type": "execute_result",
          "data": {
            "text/plain": [
              "dict_keys(['saude-doenca', 'relacoes interpessoais', 'desempenho', 'outros'])"
            ]
          },
          "metadata": {
            "tags": []
          },
          "execution_count": 489
        }
      ]
    },
    {
      "cell_type": "code",
      "metadata": {
        "id": "qpm6m1v0ewCq"
      },
      "source": [
        "def procurar_palavra(lista_palavras, sentenca):\r\n",
        "  palavra_presente=False\r\n",
        "  for palavra in lista_palavras:\r\n",
        "    if palavra in sentenca:\r\n",
        "      palavra_presente=True\r\n",
        "  return palavra_presente\r\n",
        "\r\n",
        "def mapear_categoria(sentenca):\r\n",
        "  for cat in CATEGORIAS.keys():\r\n",
        "    if procurar_palavra(CATEGORIAS[cat], sentenca):\r\n",
        "      return cat \r\n",
        "  return sentenca"
      ],
      "execution_count": 490,
      "outputs": []
    },
    {
      "cell_type": "code",
      "metadata": {
        "colab": {
          "base_uri": "https://localhost:8080/",
          "height": 35
        },
        "id": "p5sz1aZLg4Tn",
        "outputId": "d796860e-32de-479e-eb7a-b6b3b53a9a55"
      },
      "source": [
        "sentenca = 'violencia dentro casa'\r\n",
        "mapear_categoria(sentenca)"
      ],
      "execution_count": 491,
      "outputs": [
        {
          "output_type": "execute_result",
          "data": {
            "application/vnd.google.colaboratory.intrinsic+json": {
              "type": "string"
            },
            "text/plain": [
              "'relacoes interpessoais'"
            ]
          },
          "metadata": {
            "tags": []
          },
          "execution_count": 491
        }
      ]
    },
    {
      "cell_type": "code",
      "metadata": {
        "id": "Mkgi73O2hVKN"
      },
      "source": [
        "df['trauma_doenca'] = df['trauma_doenca'].apply(mapear_categoria)"
      ],
      "execution_count": 492,
      "outputs": []
    },
    {
      "cell_type": "markdown",
      "metadata": {
        "id": "Yt-79efvavuR"
      },
      "source": [
        "**Padronizando coluna \"Formação\"**"
      ]
    },
    {
      "cell_type": "code",
      "metadata": {
        "id": "yF-JCiE6Q3JS"
      },
      "source": [
        "df['formacao'] = df['formacao'].apply(removestopword)"
      ],
      "execution_count": 493,
      "outputs": []
    },
    {
      "cell_type": "code",
      "metadata": {
        "id": "sDIfrJTSbHkA"
      },
      "source": [
        "CAT_FORMACAO = {'ciencias exatas': ['contador', 'contadora', 'contabeis', 'economicas', 'contabil', 'contabilista', 'quimica', 'quimico', 'fisico', 'fisica',\r\n",
        "                                    'engenharia', 'engenheiro', 'engenheira', 'eng', 'economia', 'financas', 'economista', 'estatistico',\r\n",
        "                                    'ti', 'informatica', 'computacao', 'redes', 'sistemas', 'informacao', 'dados', 'sistema', 'desenvolvedor', 'programador',\r\n",
        "                                    'arquiteto', 'arquiteta', 'arquitetura'],\r\n",
        "                \r\n",
        "                'ciencias humanas': ['historia', 'geografo', 'geografia', 'filosofia', 'filosofo', 'filosofa', 'sociologo', 'filosifia',\r\n",
        "                                     'militar', 'molitar', 'bombeito', 'bombeiro', 'bombeira', 'bombeiros', 'oficial', 'defesa civil', \r\n",
        "                                     'bm', 'seguranca', 'cbmdf', 'administradora', 'administracao', 'administrador', 'adm', 'rh', 'empresarial', \r\n",
        "                                     'empresaria', 'aministracao', 'secretaria', 'empresario', 'escritorio', 'negocios', 'secretariado', 'recursos humanos',\r\n",
        "                                     'internacionais', 'gestao', 'exterior', 'gestora', 'propaganga', 'marketing', 'relacoes publicas', 'comunicacao', \r\n",
        "                                     'grafica', 'artes', 'designer', 'publicitario', 'publicitaria', 'fotografo', 'comunicadora', 'jornalismo', \r\n",
        "                                     'telecomunicacoes', 'radiologia', 'jornalista', 'imprensa', 'artes', 'design', 'publicidade',\r\n",
        "                                     'professor', 'professora', 'pedagogia', 'letras', 'pedagogo', 'pedagoga', 'pedagogica', 'pedadogia', 'pedagogica',\r\n",
        "                                     'psicologa', 'psicologo', 'psicologia', 'psicanalista', 'terapia', 'psicolgia', 'advoga', 'advocacia', 'direito', \r\n",
        "                                     'advogada', 'advogado'],\r\n",
        "\r\n",
        "\r\n",
        "                'ciencias biologicas': ['medico', 'medica', 'medicina', 'enfermeiro', 'enfermeira', 'enfermagem', 'nutricionista', 'nutricao', 'neurocirurgiao',\r\n",
        "                'farmaceutica', 'clinica', 'biomedicina', 'cirurgia', 'optometria', 'odontologia', 'odontologia'],\r\n",
        "\r\n",
        "                'outras areas': ['comercial', 'compradora', 'contas', 'testador quest', 'metalurgico', 'ambiental', 'pos',\r\n",
        "                'grau', 'escultor', 'turimologa', 'turismologo', 'oceanografa', 'assistente', 'superior', 'seminarista', 'agro',\r\n",
        "                'elitricista', 'logistica', 'gastronomia', 'aprendiz', 'mallet', 'operacoes', 'vendas', 'musico', 'coml', 'podologa',\r\n",
        "                'manicure', 'corretora', 'bancario', 'gerente', 'massoterapeuta', 'biologo', 'biologia', 'turismo', 'arte', 'mecanico',\r\n",
        "                'mecanica', 'fisioterapeuta', 'juridica', 'educador fisico', 'educacao fisica', 'operadora', 'vendedora', 'eletronica',\r\n",
        "                'cfo', 'teologia', 'funcionario', 'qualidade', 'teologo', 'condutor.', 'pianista', 'funcionaria', 'nao', 'n', 'nenhuma', 'nenhum',\r\n",
        "                'barista', 'biologa', 'cabeleireiro', 'cabelereira', 'coach',  'comprador', 'corretor', 'costureira', 'moda', 'decoradora',\r\n",
        "                'doutorado', 'fisiva', 'estagiario', 'farmacia', 'filosifia', 'graduacao', 'graducao', 'hotelaria', 'lavrador', 'maestro', 'magisterio',\r\n",
        "                'mba', 'mercadologa', 'mestrado', 'moda', 'motorista', 'musica', 'musicista', 'radialista', 'servidor', 'social', 'taxista', 'tradutora',\r\n",
        "                'soldador', 'sim', 'sueprior', 'solteira', '****', 'estudante', 'estudanta', 'estudanti', 'estudar', 'escola', 'mastologista', 'bacharel']}"
      ],
      "execution_count": 494,
      "outputs": []
    },
    {
      "cell_type": "code",
      "metadata": {
        "colab": {
          "base_uri": "https://localhost:8080/"
        },
        "id": "popFMoeobTfv",
        "outputId": "c8a58c3c-69b9-4aed-d60b-1f505a70f8cb"
      },
      "source": [
        "CAT_FORMACAO.keys()"
      ],
      "execution_count": 495,
      "outputs": [
        {
          "output_type": "execute_result",
          "data": {
            "text/plain": [
              "dict_keys(['ciencias exatas', 'ciencias humanas', 'ciencias biologicas', 'outras areas'])"
            ]
          },
          "metadata": {
            "tags": []
          },
          "execution_count": 495
        }
      ]
    },
    {
      "cell_type": "code",
      "metadata": {
        "id": "dx5faX78bWg0"
      },
      "source": [
        "def procurar_palavra_form(lista_palavras_form, sentenca_form):\r\n",
        "  palavra_presente_form=False\r\n",
        "  for palavra_form in lista_palavras_form:\r\n",
        "    if palavra_form in sentenca_form:\r\n",
        "      palavra_presente_form=True\r\n",
        "  return palavra_presente_form\r\n",
        "\r\n",
        "def mapear_categoria2(sentenca_form):\r\n",
        "  for categ in CAT_FORMACAO.keys():\r\n",
        "    if procurar_palavra_form(CAT_FORMACAO[categ], sentenca_form):\r\n",
        "      return categ\r\n",
        "  return sentenca_form"
      ],
      "execution_count": 496,
      "outputs": []
    },
    {
      "cell_type": "code",
      "metadata": {
        "colab": {
          "base_uri": "https://localhost:8080/",
          "height": 35
        },
        "id": "QTzET7mLbaDd",
        "outputId": "697626a7-25fe-4b19-c5b0-1a4095bd2cea"
      },
      "source": [
        "sentenca_form = 'administradora'\r\n",
        "mapear_categoria2(sentenca_form)"
      ],
      "execution_count": 497,
      "outputs": [
        {
          "output_type": "execute_result",
          "data": {
            "application/vnd.google.colaboratory.intrinsic+json": {
              "type": "string"
            },
            "text/plain": [
              "'ciencias humanas'"
            ]
          },
          "metadata": {
            "tags": []
          },
          "execution_count": 497
        }
      ]
    },
    {
      "cell_type": "code",
      "metadata": {
        "id": "FBe7I50qbfzt"
      },
      "source": [
        "df['formacao'] = df['formacao'].apply(mapear_categoria2)"
      ],
      "execution_count": 498,
      "outputs": []
    },
    {
      "cell_type": "code",
      "metadata": {
        "colab": {
          "base_uri": "https://localhost:8080/",
          "height": 309
        },
        "id": "LTU8a1MoYYCx",
        "outputId": "29ace1a1-6b49-4aac-d5e6-5e5519d03780"
      },
      "source": [
        "df.head()"
      ],
      "execution_count": 499,
      "outputs": [
        {
          "output_type": "execute_result",
          "data": {
            "text/html": [
              "<div>\n",
              "<style scoped>\n",
              "    .dataframe tbody tr th:only-of-type {\n",
              "        vertical-align: middle;\n",
              "    }\n",
              "\n",
              "    .dataframe tbody tr th {\n",
              "        vertical-align: top;\n",
              "    }\n",
              "\n",
              "    .dataframe thead th {\n",
              "        text-align: right;\n",
              "    }\n",
              "</style>\n",
              "<table border=\"1\" class=\"dataframe\">\n",
              "  <thead>\n",
              "    <tr style=\"text-align: right;\">\n",
              "      <th></th>\n",
              "      <th>trauma_doenca</th>\n",
              "      <th>idade_doenca_trauma</th>\n",
              "      <th>tempo_doenca_trauma</th>\n",
              "      <th>sexo</th>\n",
              "      <th>formacao</th>\n",
              "      <th>escolaridade</th>\n",
              "      <th>estado_civil</th>\n",
              "      <th>religiao</th>\n",
              "      <th>outro_idioma</th>\n",
              "      <th>analise_do_contexto</th>\n",
              "      <th>autoconfianca</th>\n",
              "      <th>autocontrole</th>\n",
              "      <th>conquistar_e_manter_pessoas</th>\n",
              "      <th>empatia</th>\n",
              "      <th>leitura_corporal</th>\n",
              "      <th>otimismo_com_a_vida</th>\n",
              "      <th>sentido_da_vida</th>\n",
              "    </tr>\n",
              "  </thead>\n",
              "  <tbody>\n",
              "    <tr>\n",
              "      <th>0</th>\n",
              "      <td>saude-doenca</td>\n",
              "      <td>4.0</td>\n",
              "      <td>3.0</td>\n",
              "      <td>feminino</td>\n",
              "      <td>ciencias humanas</td>\n",
              "      <td>6</td>\n",
              "      <td>casado</td>\n",
              "      <td>catolico</td>\n",
              "      <td>sim</td>\n",
              "      <td>0.92</td>\n",
              "      <td>15.15</td>\n",
              "      <td>17.17</td>\n",
              "      <td>2.78</td>\n",
              "      <td>13.07</td>\n",
              "      <td>7.04</td>\n",
              "      <td>3.79</td>\n",
              "      <td>0.92</td>\n",
              "    </tr>\n",
              "    <tr>\n",
              "      <th>1</th>\n",
              "      <td>saude-doenca</td>\n",
              "      <td>1.0</td>\n",
              "      <td>4.0</td>\n",
              "      <td>masculino</td>\n",
              "      <td>ciencias exatas</td>\n",
              "      <td>6</td>\n",
              "      <td>casado</td>\n",
              "      <td>evangelico</td>\n",
              "      <td>sim</td>\n",
              "      <td>6.03</td>\n",
              "      <td>12.12</td>\n",
              "      <td>18.18</td>\n",
              "      <td>2.78</td>\n",
              "      <td>1.01</td>\n",
              "      <td>2.76</td>\n",
              "      <td>6.06</td>\n",
              "      <td>-4.04</td>\n",
              "    </tr>\n",
              "    <tr>\n",
              "      <th>2</th>\n",
              "      <td>relacoes interpessoais</td>\n",
              "      <td>1.0</td>\n",
              "      <td>4.0</td>\n",
              "      <td>masculino</td>\n",
              "      <td>outras areas</td>\n",
              "      <td>4</td>\n",
              "      <td>solteiro</td>\n",
              "      <td>outro</td>\n",
              "      <td>nao</td>\n",
              "      <td>0.92</td>\n",
              "      <td>3.79</td>\n",
              "      <td>-3.03</td>\n",
              "      <td>-1.98</td>\n",
              "      <td>-0.92</td>\n",
              "      <td>-0.92</td>\n",
              "      <td>4.8</td>\n",
              "      <td>0.92</td>\n",
              "    </tr>\n",
              "    <tr>\n",
              "      <th>3</th>\n",
              "      <td>outros</td>\n",
              "      <td>3.0</td>\n",
              "      <td>4.0</td>\n",
              "      <td>masculino</td>\n",
              "      <td>ciencias humanas</td>\n",
              "      <td>4</td>\n",
              "      <td>solteiro</td>\n",
              "      <td>evangelico</td>\n",
              "      <td>sim</td>\n",
              "      <td>7.04</td>\n",
              "      <td>15.15</td>\n",
              "      <td>17.17</td>\n",
              "      <td>3.79</td>\n",
              "      <td>4.77</td>\n",
              "      <td>0.0</td>\n",
              "      <td>1.77</td>\n",
              "      <td>0.92</td>\n",
              "    </tr>\n",
              "    <tr>\n",
              "      <th>4</th>\n",
              "      <td>outros</td>\n",
              "      <td>3.0</td>\n",
              "      <td>4.0</td>\n",
              "      <td>masculino</td>\n",
              "      <td>outras areas</td>\n",
              "      <td>5</td>\n",
              "      <td>solteiro</td>\n",
              "      <td>evangelico</td>\n",
              "      <td>sim</td>\n",
              "      <td>5.86</td>\n",
              "      <td>6.82</td>\n",
              "      <td>5.81</td>\n",
              "      <td>6.06</td>\n",
              "      <td>4.02</td>\n",
              "      <td>0.0</td>\n",
              "      <td>4.8</td>\n",
              "      <td>5.86</td>\n",
              "    </tr>\n",
              "  </tbody>\n",
              "</table>\n",
              "</div>"
            ],
            "text/plain": [
              "            trauma_doenca  ... sentido_da_vida\n",
              "0            saude-doenca  ...            0.92\n",
              "1            saude-doenca  ...           -4.04\n",
              "2  relacoes interpessoais  ...            0.92\n",
              "3                  outros  ...            0.92\n",
              "4                  outros  ...            5.86\n",
              "\n",
              "[5 rows x 17 columns]"
            ]
          },
          "metadata": {
            "tags": []
          },
          "execution_count": 499
        }
      ]
    },
    {
      "cell_type": "markdown",
      "metadata": {
        "id": "xozOBOhgvr-g"
      },
      "source": [
        "**Manipulação de dados - Texto > Números**\r\n"
      ]
    },
    {
      "cell_type": "code",
      "metadata": {
        "id": "xS5Ws7T6X5v1"
      },
      "source": [
        "#Transformando strings em categorias nominais\r\n",
        "label_encoder = LabelEncoder()\r\n",
        "df['trauma_doenca'] = label_encoder.fit_transform(df['estado_civil'].astype(str))\r\n",
        "df['estado_civil'] = label_encoder.fit_transform(df['estado_civil'].astype(str))\r\n",
        "df['religiao'] = label_encoder.fit_transform(df['religiao'].astype(str))\r\n",
        "df['formacao'] = label_encoder.fit_transform(df['formacao'].astype(str))\r\n",
        "df['idade_doenca_trauma'] = label_encoder.fit_transform(df['idade_doenca_trauma'].astype(str))\r\n",
        "df['tempo_doenca_trauma'] = label_encoder.fit_transform(df['tempo_doenca_trauma'].astype(str))\r\n",
        "df['escolaridade'] = label_encoder.fit_transform(df['escolaridade'].astype(str))"
      ],
      "execution_count": 500,
      "outputs": []
    },
    {
      "cell_type": "code",
      "metadata": {
        "id": "Wmli-XtZvhDO"
      },
      "source": [
        "#Transformando categorias nominais\r\n",
        "df = pd.get_dummies(df, columns=['sexo'])\r\n",
        "df = pd.get_dummies(df, columns=['outro_idioma'])"
      ],
      "execution_count": 501,
      "outputs": []
    },
    {
      "cell_type": "code",
      "metadata": {
        "colab": {
          "base_uri": "https://localhost:8080/",
          "height": 224
        },
        "id": "VGBp8vFhfPB5",
        "outputId": "81d80c2a-4496-4721-c6b5-1976bf20296c"
      },
      "source": [
        "df.head()"
      ],
      "execution_count": 502,
      "outputs": [
        {
          "output_type": "execute_result",
          "data": {
            "text/html": [
              "<div>\n",
              "<style scoped>\n",
              "    .dataframe tbody tr th:only-of-type {\n",
              "        vertical-align: middle;\n",
              "    }\n",
              "\n",
              "    .dataframe tbody tr th {\n",
              "        vertical-align: top;\n",
              "    }\n",
              "\n",
              "    .dataframe thead th {\n",
              "        text-align: right;\n",
              "    }\n",
              "</style>\n",
              "<table border=\"1\" class=\"dataframe\">\n",
              "  <thead>\n",
              "    <tr style=\"text-align: right;\">\n",
              "      <th></th>\n",
              "      <th>trauma_doenca</th>\n",
              "      <th>idade_doenca_trauma</th>\n",
              "      <th>tempo_doenca_trauma</th>\n",
              "      <th>formacao</th>\n",
              "      <th>escolaridade</th>\n",
              "      <th>estado_civil</th>\n",
              "      <th>religiao</th>\n",
              "      <th>analise_do_contexto</th>\n",
              "      <th>autoconfianca</th>\n",
              "      <th>autocontrole</th>\n",
              "      <th>conquistar_e_manter_pessoas</th>\n",
              "      <th>empatia</th>\n",
              "      <th>leitura_corporal</th>\n",
              "      <th>otimismo_com_a_vida</th>\n",
              "      <th>sentido_da_vida</th>\n",
              "      <th>sexo_feminino</th>\n",
              "      <th>sexo_masculino</th>\n",
              "      <th>outro_idioma_nao</th>\n",
              "      <th>outro_idioma_sim</th>\n",
              "    </tr>\n",
              "  </thead>\n",
              "  <tbody>\n",
              "    <tr>\n",
              "      <th>0</th>\n",
              "      <td>0</td>\n",
              "      <td>4</td>\n",
              "      <td>3</td>\n",
              "      <td>2</td>\n",
              "      <td>6</td>\n",
              "      <td>0</td>\n",
              "      <td>0</td>\n",
              "      <td>0.92</td>\n",
              "      <td>15.15</td>\n",
              "      <td>17.17</td>\n",
              "      <td>2.78</td>\n",
              "      <td>13.07</td>\n",
              "      <td>7.04</td>\n",
              "      <td>3.79</td>\n",
              "      <td>0.92</td>\n",
              "      <td>1</td>\n",
              "      <td>0</td>\n",
              "      <td>0</td>\n",
              "      <td>1</td>\n",
              "    </tr>\n",
              "    <tr>\n",
              "      <th>1</th>\n",
              "      <td>0</td>\n",
              "      <td>1</td>\n",
              "      <td>4</td>\n",
              "      <td>1</td>\n",
              "      <td>6</td>\n",
              "      <td>0</td>\n",
              "      <td>2</td>\n",
              "      <td>6.03</td>\n",
              "      <td>12.12</td>\n",
              "      <td>18.18</td>\n",
              "      <td>2.78</td>\n",
              "      <td>1.01</td>\n",
              "      <td>2.76</td>\n",
              "      <td>6.06</td>\n",
              "      <td>-4.04</td>\n",
              "      <td>0</td>\n",
              "      <td>1</td>\n",
              "      <td>0</td>\n",
              "      <td>1</td>\n",
              "    </tr>\n",
              "    <tr>\n",
              "      <th>2</th>\n",
              "      <td>2</td>\n",
              "      <td>1</td>\n",
              "      <td>4</td>\n",
              "      <td>3</td>\n",
              "      <td>4</td>\n",
              "      <td>2</td>\n",
              "      <td>3</td>\n",
              "      <td>0.92</td>\n",
              "      <td>3.79</td>\n",
              "      <td>-3.03</td>\n",
              "      <td>-1.98</td>\n",
              "      <td>-0.92</td>\n",
              "      <td>-0.92</td>\n",
              "      <td>4.8</td>\n",
              "      <td>0.92</td>\n",
              "      <td>0</td>\n",
              "      <td>1</td>\n",
              "      <td>1</td>\n",
              "      <td>0</td>\n",
              "    </tr>\n",
              "    <tr>\n",
              "      <th>3</th>\n",
              "      <td>2</td>\n",
              "      <td>3</td>\n",
              "      <td>4</td>\n",
              "      <td>2</td>\n",
              "      <td>4</td>\n",
              "      <td>2</td>\n",
              "      <td>2</td>\n",
              "      <td>7.04</td>\n",
              "      <td>15.15</td>\n",
              "      <td>17.17</td>\n",
              "      <td>3.79</td>\n",
              "      <td>4.77</td>\n",
              "      <td>0.0</td>\n",
              "      <td>1.77</td>\n",
              "      <td>0.92</td>\n",
              "      <td>0</td>\n",
              "      <td>1</td>\n",
              "      <td>0</td>\n",
              "      <td>1</td>\n",
              "    </tr>\n",
              "    <tr>\n",
              "      <th>4</th>\n",
              "      <td>2</td>\n",
              "      <td>3</td>\n",
              "      <td>4</td>\n",
              "      <td>3</td>\n",
              "      <td>5</td>\n",
              "      <td>2</td>\n",
              "      <td>2</td>\n",
              "      <td>5.86</td>\n",
              "      <td>6.82</td>\n",
              "      <td>5.81</td>\n",
              "      <td>6.06</td>\n",
              "      <td>4.02</td>\n",
              "      <td>0.0</td>\n",
              "      <td>4.8</td>\n",
              "      <td>5.86</td>\n",
              "      <td>0</td>\n",
              "      <td>1</td>\n",
              "      <td>0</td>\n",
              "      <td>1</td>\n",
              "    </tr>\n",
              "  </tbody>\n",
              "</table>\n",
              "</div>"
            ],
            "text/plain": [
              "   trauma_doenca  idade_doenca_trauma  ...  outro_idioma_nao  outro_idioma_sim\n",
              "0              0                    4  ...                 0                 1\n",
              "1              0                    1  ...                 0                 1\n",
              "2              2                    1  ...                 1                 0\n",
              "3              2                    3  ...                 0                 1\n",
              "4              2                    3  ...                 0                 1\n",
              "\n",
              "[5 rows x 19 columns]"
            ]
          },
          "metadata": {
            "tags": []
          },
          "execution_count": 502
        }
      ]
    },
    {
      "cell_type": "code",
      "metadata": {
        "colab": {
          "base_uri": "https://localhost:8080/"
        },
        "id": "Zo0Cy5CSjD0f",
        "outputId": "b2153f31-2f11-4d3d-8564-61fe9ffa1034"
      },
      "source": [
        "df.info()"
      ],
      "execution_count": 503,
      "outputs": [
        {
          "output_type": "stream",
          "text": [
            "<class 'pandas.core.frame.DataFrame'>\n",
            "Int64Index: 2667 entries, 0 to 2777\n",
            "Data columns (total 19 columns):\n",
            " #   Column                       Non-Null Count  Dtype \n",
            "---  ------                       --------------  ----- \n",
            " 0   trauma_doenca                2667 non-null   int64 \n",
            " 1   idade_doenca_trauma          2667 non-null   int64 \n",
            " 2   tempo_doenca_trauma          2667 non-null   int64 \n",
            " 3   formacao                     2667 non-null   int64 \n",
            " 4   escolaridade                 2667 non-null   int64 \n",
            " 5   estado_civil                 2667 non-null   int64 \n",
            " 6   religiao                     2667 non-null   int64 \n",
            " 7   analise_do_contexto          2667 non-null   object\n",
            " 8   autoconfianca                2667 non-null   object\n",
            " 9   autocontrole                 2667 non-null   object\n",
            " 10  conquistar_e_manter_pessoas  2667 non-null   object\n",
            " 11  empatia                      2667 non-null   object\n",
            " 12  leitura_corporal             2667 non-null   object\n",
            " 13  otimismo_com_a_vida          2667 non-null   object\n",
            " 14  sentido_da_vida              2667 non-null   object\n",
            " 15  sexo_feminino                2667 non-null   uint8 \n",
            " 16  sexo_masculino               2667 non-null   uint8 \n",
            " 17  outro_idioma_nao             2667 non-null   uint8 \n",
            " 18  outro_idioma_sim             2667 non-null   uint8 \n",
            "dtypes: int64(7), object(8), uint8(4)\n",
            "memory usage: 343.8+ KB\n"
          ],
          "name": "stdout"
        }
      ]
    },
    {
      "cell_type": "markdown",
      "metadata": {
        "id": "ZDRbbyQY08MK"
      },
      "source": [
        "**Cópia dataframe - Teste para apenas uma área da vida (SV)**\r\n",
        "\r\n",
        "Dataframe duplicado com a finalidade de focar apenas na área da vida \"Sentido de Vida\". Focando nas categorias da escala, será usada a técnica para converter categorias em indicadores."
      ]
    },
    {
      "cell_type": "code",
      "metadata": {
        "colab": {
          "base_uri": "https://localhost:8080/",
          "height": 224
        },
        "id": "-rFhdk0lv1uD",
        "outputId": "3788d3bf-2aa8-4a54-cc5d-227685d6a967"
      },
      "source": [
        "df_bin = df.copy()\r\n",
        "df_bin.head(5)"
      ],
      "execution_count": 504,
      "outputs": [
        {
          "output_type": "execute_result",
          "data": {
            "text/html": [
              "<div>\n",
              "<style scoped>\n",
              "    .dataframe tbody tr th:only-of-type {\n",
              "        vertical-align: middle;\n",
              "    }\n",
              "\n",
              "    .dataframe tbody tr th {\n",
              "        vertical-align: top;\n",
              "    }\n",
              "\n",
              "    .dataframe thead th {\n",
              "        text-align: right;\n",
              "    }\n",
              "</style>\n",
              "<table border=\"1\" class=\"dataframe\">\n",
              "  <thead>\n",
              "    <tr style=\"text-align: right;\">\n",
              "      <th></th>\n",
              "      <th>trauma_doenca</th>\n",
              "      <th>idade_doenca_trauma</th>\n",
              "      <th>tempo_doenca_trauma</th>\n",
              "      <th>formacao</th>\n",
              "      <th>escolaridade</th>\n",
              "      <th>estado_civil</th>\n",
              "      <th>religiao</th>\n",
              "      <th>analise_do_contexto</th>\n",
              "      <th>autoconfianca</th>\n",
              "      <th>autocontrole</th>\n",
              "      <th>conquistar_e_manter_pessoas</th>\n",
              "      <th>empatia</th>\n",
              "      <th>leitura_corporal</th>\n",
              "      <th>otimismo_com_a_vida</th>\n",
              "      <th>sentido_da_vida</th>\n",
              "      <th>sexo_feminino</th>\n",
              "      <th>sexo_masculino</th>\n",
              "      <th>outro_idioma_nao</th>\n",
              "      <th>outro_idioma_sim</th>\n",
              "    </tr>\n",
              "  </thead>\n",
              "  <tbody>\n",
              "    <tr>\n",
              "      <th>0</th>\n",
              "      <td>0</td>\n",
              "      <td>4</td>\n",
              "      <td>3</td>\n",
              "      <td>2</td>\n",
              "      <td>6</td>\n",
              "      <td>0</td>\n",
              "      <td>0</td>\n",
              "      <td>0.92</td>\n",
              "      <td>15.15</td>\n",
              "      <td>17.17</td>\n",
              "      <td>2.78</td>\n",
              "      <td>13.07</td>\n",
              "      <td>7.04</td>\n",
              "      <td>3.79</td>\n",
              "      <td>0.92</td>\n",
              "      <td>1</td>\n",
              "      <td>0</td>\n",
              "      <td>0</td>\n",
              "      <td>1</td>\n",
              "    </tr>\n",
              "    <tr>\n",
              "      <th>1</th>\n",
              "      <td>0</td>\n",
              "      <td>1</td>\n",
              "      <td>4</td>\n",
              "      <td>1</td>\n",
              "      <td>6</td>\n",
              "      <td>0</td>\n",
              "      <td>2</td>\n",
              "      <td>6.03</td>\n",
              "      <td>12.12</td>\n",
              "      <td>18.18</td>\n",
              "      <td>2.78</td>\n",
              "      <td>1.01</td>\n",
              "      <td>2.76</td>\n",
              "      <td>6.06</td>\n",
              "      <td>-4.04</td>\n",
              "      <td>0</td>\n",
              "      <td>1</td>\n",
              "      <td>0</td>\n",
              "      <td>1</td>\n",
              "    </tr>\n",
              "    <tr>\n",
              "      <th>2</th>\n",
              "      <td>2</td>\n",
              "      <td>1</td>\n",
              "      <td>4</td>\n",
              "      <td>3</td>\n",
              "      <td>4</td>\n",
              "      <td>2</td>\n",
              "      <td>3</td>\n",
              "      <td>0.92</td>\n",
              "      <td>3.79</td>\n",
              "      <td>-3.03</td>\n",
              "      <td>-1.98</td>\n",
              "      <td>-0.92</td>\n",
              "      <td>-0.92</td>\n",
              "      <td>4.8</td>\n",
              "      <td>0.92</td>\n",
              "      <td>0</td>\n",
              "      <td>1</td>\n",
              "      <td>1</td>\n",
              "      <td>0</td>\n",
              "    </tr>\n",
              "    <tr>\n",
              "      <th>3</th>\n",
              "      <td>2</td>\n",
              "      <td>3</td>\n",
              "      <td>4</td>\n",
              "      <td>2</td>\n",
              "      <td>4</td>\n",
              "      <td>2</td>\n",
              "      <td>2</td>\n",
              "      <td>7.04</td>\n",
              "      <td>15.15</td>\n",
              "      <td>17.17</td>\n",
              "      <td>3.79</td>\n",
              "      <td>4.77</td>\n",
              "      <td>0.0</td>\n",
              "      <td>1.77</td>\n",
              "      <td>0.92</td>\n",
              "      <td>0</td>\n",
              "      <td>1</td>\n",
              "      <td>0</td>\n",
              "      <td>1</td>\n",
              "    </tr>\n",
              "    <tr>\n",
              "      <th>4</th>\n",
              "      <td>2</td>\n",
              "      <td>3</td>\n",
              "      <td>4</td>\n",
              "      <td>3</td>\n",
              "      <td>5</td>\n",
              "      <td>2</td>\n",
              "      <td>2</td>\n",
              "      <td>5.86</td>\n",
              "      <td>6.82</td>\n",
              "      <td>5.81</td>\n",
              "      <td>6.06</td>\n",
              "      <td>4.02</td>\n",
              "      <td>0.0</td>\n",
              "      <td>4.8</td>\n",
              "      <td>5.86</td>\n",
              "      <td>0</td>\n",
              "      <td>1</td>\n",
              "      <td>0</td>\n",
              "      <td>1</td>\n",
              "    </tr>\n",
              "  </tbody>\n",
              "</table>\n",
              "</div>"
            ],
            "text/plain": [
              "   trauma_doenca  idade_doenca_trauma  ...  outro_idioma_nao  outro_idioma_sim\n",
              "0              0                    4  ...                 0                 1\n",
              "1              0                    1  ...                 0                 1\n",
              "2              2                    1  ...                 1                 0\n",
              "3              2                    3  ...                 0                 1\n",
              "4              2                    3  ...                 0                 1\n",
              "\n",
              "[5 rows x 19 columns]"
            ]
          },
          "metadata": {
            "tags": []
          },
          "execution_count": 504
        }
      ]
    },
    {
      "cell_type": "code",
      "metadata": {
        "id": "6A98rtWhurZ8"
      },
      "source": [
        "df_bin = df_bin.drop(['formacao', 'escolaridade', 'estado_civil', 'religiao', 'outro_idioma_nao', 'outro_idioma_sim', 'sexo_feminino', \r\n",
        "                               'sexo_masculino', 'idade_doenca_trauma', 'tempo_doenca_trauma'], axis=1)"
      ],
      "execution_count": 505,
      "outputs": []
    },
    {
      "cell_type": "code",
      "metadata": {
        "colab": {
          "base_uri": "https://localhost:8080/"
        },
        "id": "c43647Nla-Kp",
        "outputId": "27228dd3-356d-417e-d75e-9b5f15300390"
      },
      "source": [
        "df_bin.info()"
      ],
      "execution_count": 506,
      "outputs": [
        {
          "output_type": "stream",
          "text": [
            "<class 'pandas.core.frame.DataFrame'>\n",
            "Int64Index: 2667 entries, 0 to 2777\n",
            "Data columns (total 9 columns):\n",
            " #   Column                       Non-Null Count  Dtype \n",
            "---  ------                       --------------  ----- \n",
            " 0   trauma_doenca                2667 non-null   int64 \n",
            " 1   analise_do_contexto          2667 non-null   object\n",
            " 2   autoconfianca                2667 non-null   object\n",
            " 3   autocontrole                 2667 non-null   object\n",
            " 4   conquistar_e_manter_pessoas  2667 non-null   object\n",
            " 5   empatia                      2667 non-null   object\n",
            " 6   leitura_corporal             2667 non-null   object\n",
            " 7   otimismo_com_a_vida          2667 non-null   object\n",
            " 8   sentido_da_vida              2667 non-null   object\n",
            "dtypes: int64(1), object(8)\n",
            "memory usage: 208.4+ KB\n"
          ],
          "name": "stdout"
        }
      ]
    },
    {
      "cell_type": "markdown",
      "metadata": {
        "id": "i0KXEwgtY9m9"
      },
      "source": [
        "**Divisão da base entre teste e treino**"
      ]
    },
    {
      "cell_type": "code",
      "metadata": {
        "colab": {
          "base_uri": "https://localhost:8080/",
          "height": 282
        },
        "id": "D_pzAr6fVyeC",
        "outputId": "f94f2ffb-df08-4a9f-a2a9-7ed1f4e7b0d2"
      },
      "source": [
        "df_bin['trauma_doenca'].hist()"
      ],
      "execution_count": 507,
      "outputs": [
        {
          "output_type": "execute_result",
          "data": {
            "text/plain": [
              "<matplotlib.axes._subplots.AxesSubplot at 0x7f5b366e74e0>"
            ]
          },
          "metadata": {
            "tags": []
          },
          "execution_count": 507
        },
        {
          "output_type": "display_data",
          "data": {
            "image/png": "[encoded data removed]",
            "text/plain": [
              "<Figure size 432x288 with 1 Axes>"
            ]
          },
          "metadata": {
            "tags": [],
            "needs_background": "light"
          }
        }
      ]
    },
    {
      "cell_type": "code",
      "metadata": {
        "id": "TCeXt-wUY7zt"
      },
      "source": [
        "## Importando biblioteca para fazer a divisão da base entre teste/treino\r\n",
        "from sklearn.model_selection import train_test_split\r\n",
        "df_train_set, df_test_set = train_test_split(df_bin, test_size=0.25, random_state=42, stratify=df_bin['trauma_doenca'])"
      ],
      "execution_count": 508,
      "outputs": []
    },
    {
      "cell_type": "code",
      "metadata": {
        "id": "rexkwMRbZ4R3"
      },
      "source": [
        "X_train = df_train_set.drop('analise_do_contexto', axis=1)\r\n",
        "y_train = df_train_set['analise_do_contexto']\r\n",
        "\r\n",
        "X_test = df_test_set.drop('analise_do_contexto', axis=1)\r\n",
        "y_test = df_test_set['analise_do_contexto']"
      ],
      "execution_count": 509,
      "outputs": []
    },
    {
      "cell_type": "code",
      "metadata": {
        "colab": {
          "base_uri": "https://localhost:8080/",
          "height": 204
        },
        "id": "CgGZFRp4jLZZ",
        "outputId": "20d97587-99dc-4608-fb76-0045ac8f3c7c"
      },
      "source": [
        "X_train.head()"
      ],
      "execution_count": 510,
      "outputs": [
        {
          "output_type": "execute_result",
          "data": {
            "text/html": [
              "<div>\n",
              "<style scoped>\n",
              "    .dataframe tbody tr th:only-of-type {\n",
              "        vertical-align: middle;\n",
              "    }\n",
              "\n",
              "    .dataframe tbody tr th {\n",
              "        vertical-align: top;\n",
              "    }\n",
              "\n",
              "    .dataframe thead th {\n",
              "        text-align: right;\n",
              "    }\n",
              "</style>\n",
              "<table border=\"1\" class=\"dataframe\">\n",
              "  <thead>\n",
              "    <tr style=\"text-align: right;\">\n",
              "      <th></th>\n",
              "      <th>trauma_doenca</th>\n",
              "      <th>autoconfianca</th>\n",
              "      <th>autocontrole</th>\n",
              "      <th>conquistar_e_manter_pessoas</th>\n",
              "      <th>empatia</th>\n",
              "      <th>leitura_corporal</th>\n",
              "      <th>otimismo_com_a_vida</th>\n",
              "      <th>sentido_da_vida</th>\n",
              "    </tr>\n",
              "  </thead>\n",
              "  <tbody>\n",
              "    <tr>\n",
              "      <th>1003</th>\n",
              "      <td>0</td>\n",
              "      <td>3.79</td>\n",
              "      <td>15.15</td>\n",
              "      <td>4.8</td>\n",
              "      <td>4.77</td>\n",
              "      <td>5.78</td>\n",
              "      <td>15.15</td>\n",
              "      <td>18.33</td>\n",
              "    </tr>\n",
              "    <tr>\n",
              "      <th>333</th>\n",
              "      <td>3</td>\n",
              "      <td>15.15</td>\n",
              "      <td>5.05</td>\n",
              "      <td>9.09</td>\n",
              "      <td>3.77</td>\n",
              "      <td>-0.25</td>\n",
              "      <td>14.14</td>\n",
              "      <td>18.33</td>\n",
              "    </tr>\n",
              "    <tr>\n",
              "      <th>1113</th>\n",
              "      <td>0</td>\n",
              "      <td>-5.05</td>\n",
              "      <td>3.79</td>\n",
              "      <td>20.2</td>\n",
              "      <td>9.05</td>\n",
              "      <td>-5.03</td>\n",
              "      <td>1.01</td>\n",
              "      <td>-9.52</td>\n",
              "    </tr>\n",
              "    <tr>\n",
              "      <th>1869</th>\n",
              "      <td>3</td>\n",
              "      <td>-4.04</td>\n",
              "      <td>-3.03</td>\n",
              "      <td>-2.02</td>\n",
              "      <td>-4.27</td>\n",
              "      <td>0.0</td>\n",
              "      <td>-4.04</td>\n",
              "      <td>0.92</td>\n",
              "    </tr>\n",
              "    <tr>\n",
              "      <th>654</th>\n",
              "      <td>0</td>\n",
              "      <td>8.84</td>\n",
              "      <td>8.84</td>\n",
              "      <td>3.79</td>\n",
              "      <td>5.86</td>\n",
              "      <td>0.0</td>\n",
              "      <td>5.81</td>\n",
              "      <td>5.86</td>\n",
              "    </tr>\n",
              "  </tbody>\n",
              "</table>\n",
              "</div>"
            ],
            "text/plain": [
              "      trauma_doenca autoconfianca  ... otimismo_com_a_vida sentido_da_vida\n",
              "1003              0          3.79  ...               15.15           18.33\n",
              "333               3         15.15  ...               14.14           18.33\n",
              "1113              0         -5.05  ...                1.01           -9.52\n",
              "1869              3         -4.04  ...               -4.04            0.92\n",
              "654               0          8.84  ...                5.81            5.86\n",
              "\n",
              "[5 rows x 8 columns]"
            ]
          },
          "metadata": {
            "tags": []
          },
          "execution_count": 510
        }
      ]
    },
    {
      "cell_type": "markdown",
      "metadata": {
        "id": "gURuZUDAZkx4"
      },
      "source": [
        "## Análise exploratória dos dados"
      ]
    },
    {
      "cell_type": "code",
      "metadata": {
        "colab": {
          "base_uri": "https://localhost:8080/"
        },
        "id": "YJUdeIa4mSMi",
        "outputId": "06563327-71fd-42cc-e80a-c7de5be72f41"
      },
      "source": [
        "#Normalizando os dados\r\n",
        "X_train.columns"
      ],
      "execution_count": 511,
      "outputs": [
        {
          "output_type": "execute_result",
          "data": {
            "text/plain": [
              "Index(['trauma_doenca', 'autoconfianca', 'autocontrole',\n",
              "       'conquistar_e_manter_pessoas', 'empatia', 'leitura_corporal',\n",
              "       'otimismo_com_a_vida', 'sentido_da_vida'],\n",
              "      dtype='object')"
            ]
          },
          "metadata": {
            "tags": []
          },
          "execution_count": 511
        }
      ]
    },
    {
      "cell_type": "code",
      "metadata": {
        "colab": {
          "base_uri": "https://localhost:8080/",
          "height": 204
        },
        "id": "kbu0u8DQmzh2",
        "outputId": "36160be2-5283-4e8d-f165-125b0a265591"
      },
      "source": [
        "num_attributes = X_train.columns\r\n",
        "X_train[num_attributes].head()"
      ],
      "execution_count": 512,
      "outputs": [
        {
          "output_type": "execute_result",
          "data": {
            "text/html": [
              "<div>\n",
              "<style scoped>\n",
              "    .dataframe tbody tr th:only-of-type {\n",
              "        vertical-align: middle;\n",
              "    }\n",
              "\n",
              "    .dataframe tbody tr th {\n",
              "        vertical-align: top;\n",
              "    }\n",
              "\n",
              "    .dataframe thead th {\n",
              "        text-align: right;\n",
              "    }\n",
              "</style>\n",
              "<table border=\"1\" class=\"dataframe\">\n",
              "  <thead>\n",
              "    <tr style=\"text-align: right;\">\n",
              "      <th></th>\n",
              "      <th>trauma_doenca</th>\n",
              "      <th>autoconfianca</th>\n",
              "      <th>autocontrole</th>\n",
              "      <th>conquistar_e_manter_pessoas</th>\n",
              "      <th>empatia</th>\n",
              "      <th>leitura_corporal</th>\n",
              "      <th>otimismo_com_a_vida</th>\n",
              "      <th>sentido_da_vida</th>\n",
              "    </tr>\n",
              "  </thead>\n",
              "  <tbody>\n",
              "    <tr>\n",
              "      <th>1003</th>\n",
              "      <td>0</td>\n",
              "      <td>3.79</td>\n",
              "      <td>15.15</td>\n",
              "      <td>4.8</td>\n",
              "      <td>4.77</td>\n",
              "      <td>5.78</td>\n",
              "      <td>15.15</td>\n",
              "      <td>18.33</td>\n",
              "    </tr>\n",
              "    <tr>\n",
              "      <th>333</th>\n",
              "      <td>3</td>\n",
              "      <td>15.15</td>\n",
              "      <td>5.05</td>\n",
              "      <td>9.09</td>\n",
              "      <td>3.77</td>\n",
              "      <td>-0.25</td>\n",
              "      <td>14.14</td>\n",
              "      <td>18.33</td>\n",
              "    </tr>\n",
              "    <tr>\n",
              "      <th>1113</th>\n",
              "      <td>0</td>\n",
              "      <td>-5.05</td>\n",
              "      <td>3.79</td>\n",
              "      <td>20.2</td>\n",
              "      <td>9.05</td>\n",
              "      <td>-5.03</td>\n",
              "      <td>1.01</td>\n",
              "      <td>-9.52</td>\n",
              "    </tr>\n",
              "    <tr>\n",
              "      <th>1869</th>\n",
              "      <td>3</td>\n",
              "      <td>-4.04</td>\n",
              "      <td>-3.03</td>\n",
              "      <td>-2.02</td>\n",
              "      <td>-4.27</td>\n",
              "      <td>0.0</td>\n",
              "      <td>-4.04</td>\n",
              "      <td>0.92</td>\n",
              "    </tr>\n",
              "    <tr>\n",
              "      <th>654</th>\n",
              "      <td>0</td>\n",
              "      <td>8.84</td>\n",
              "      <td>8.84</td>\n",
              "      <td>3.79</td>\n",
              "      <td>5.86</td>\n",
              "      <td>0.0</td>\n",
              "      <td>5.81</td>\n",
              "      <td>5.86</td>\n",
              "    </tr>\n",
              "  </tbody>\n",
              "</table>\n",
              "</div>"
            ],
            "text/plain": [
              "      trauma_doenca autoconfianca  ... otimismo_com_a_vida sentido_da_vida\n",
              "1003              0          3.79  ...               15.15           18.33\n",
              "333               3         15.15  ...               14.14           18.33\n",
              "1113              0         -5.05  ...                1.01           -9.52\n",
              "1869              3         -4.04  ...               -4.04            0.92\n",
              "654               0          8.84  ...                5.81            5.86\n",
              "\n",
              "[5 rows x 8 columns]"
            ]
          },
          "metadata": {
            "tags": []
          },
          "execution_count": 512
        }
      ]
    },
    {
      "cell_type": "code",
      "metadata": {
        "id": "DevGBdgNnVc2"
      },
      "source": [
        "from sklearn.preprocessing import RobustScaler"
      ],
      "execution_count": 513,
      "outputs": []
    },
    {
      "cell_type": "code",
      "metadata": {
        "colab": {
          "base_uri": "https://localhost:8080/"
        },
        "id": "rvPlwtcLnbt9",
        "outputId": "98571ad0-4451-4667-c14d-82b6ddb2f5df"
      },
      "source": [
        "transformer = RobustScaler()\r\n",
        "transformer.fit(X_train[num_attributes])"
      ],
      "execution_count": 514,
      "outputs": [
        {
          "output_type": "execute_result",
          "data": {
            "text/plain": [
              "RobustScaler(copy=True, quantile_range=(25.0, 75.0), with_centering=True,\n",
              "             with_scaling=True)"
            ]
          },
          "metadata": {
            "tags": []
          },
          "execution_count": 514
        }
      ]
    },
    {
      "cell_type": "code",
      "metadata": {
        "id": "qxeUZUUxnzot"
      },
      "source": [
        "X_train[num_attributes] = transformer.transform(X_train[num_attributes])"
      ],
      "execution_count": 515,
      "outputs": []
    },
    {
      "cell_type": "code",
      "metadata": {
        "colab": {
          "base_uri": "https://localhost:8080/",
          "height": 204
        },
        "id": "mrRTY6AQoPry",
        "outputId": "58c3c95f-26ac-4b84-bdc1-5acbdb47e6b8"
      },
      "source": [
        "X_train[num_attributes].head()"
      ],
      "execution_count": 516,
      "outputs": [
        {
          "output_type": "execute_result",
          "data": {
            "text/html": [
              "<div>\n",
              "<style scoped>\n",
              "    .dataframe tbody tr th:only-of-type {\n",
              "        vertical-align: middle;\n",
              "    }\n",
              "\n",
              "    .dataframe tbody tr th {\n",
              "        vertical-align: top;\n",
              "    }\n",
              "\n",
              "    .dataframe thead th {\n",
              "        text-align: right;\n",
              "    }\n",
              "</style>\n",
              "<table border=\"1\" class=\"dataframe\">\n",
              "  <thead>\n",
              "    <tr style=\"text-align: right;\">\n",
              "      <th></th>\n",
              "      <th>trauma_doenca</th>\n",
              "      <th>autoconfianca</th>\n",
              "      <th>autocontrole</th>\n",
              "      <th>conquistar_e_manter_pessoas</th>\n",
              "      <th>empatia</th>\n",
              "      <th>leitura_corporal</th>\n",
              "      <th>otimismo_com_a_vida</th>\n",
              "      <th>sentido_da_vida</th>\n",
              "    </tr>\n",
              "  </thead>\n",
              "  <tbody>\n",
              "    <tr>\n",
              "      <th>1003</th>\n",
              "      <td>-1.0</td>\n",
              "      <td>-0.310109</td>\n",
              "      <td>1.321075</td>\n",
              "      <td>-0.160063</td>\n",
              "      <td>0.000000</td>\n",
              "      <td>0.343003</td>\n",
              "      <td>0.840684</td>\n",
              "      <td>0.692946</td>\n",
              "    </tr>\n",
              "    <tr>\n",
              "      <th>333</th>\n",
              "      <td>0.5</td>\n",
              "      <td>1.241803</td>\n",
              "      <td>-0.107496</td>\n",
              "      <td>0.519810</td>\n",
              "      <td>-0.142248</td>\n",
              "      <td>-0.686007</td>\n",
              "      <td>0.749775</td>\n",
              "      <td>0.692946</td>\n",
              "    </tr>\n",
              "    <tr>\n",
              "      <th>1113</th>\n",
              "      <td>-1.0</td>\n",
              "      <td>-1.517760</td>\n",
              "      <td>-0.285714</td>\n",
              "      <td>2.280507</td>\n",
              "      <td>0.608819</td>\n",
              "      <td>-1.501706</td>\n",
              "      <td>-0.432043</td>\n",
              "      <td>-1.233057</td>\n",
              "    </tr>\n",
              "    <tr>\n",
              "      <th>1869</th>\n",
              "      <td>0.5</td>\n",
              "      <td>-1.379781</td>\n",
              "      <td>-1.250354</td>\n",
              "      <td>-1.240887</td>\n",
              "      <td>-1.285917</td>\n",
              "      <td>-0.643345</td>\n",
              "      <td>-0.886589</td>\n",
              "      <td>-0.511065</td>\n",
              "    </tr>\n",
              "    <tr>\n",
              "      <th>654</th>\n",
              "      <td>-1.0</td>\n",
              "      <td>0.379781</td>\n",
              "      <td>0.428571</td>\n",
              "      <td>-0.320127</td>\n",
              "      <td>0.155050</td>\n",
              "      <td>-0.643345</td>\n",
              "      <td>0.000000</td>\n",
              "      <td>-0.169433</td>\n",
              "    </tr>\n",
              "  </tbody>\n",
              "</table>\n",
              "</div>"
            ],
            "text/plain": [
              "      trauma_doenca  autoconfianca  ...  otimismo_com_a_vida  sentido_da_vida\n",
              "1003           -1.0      -0.310109  ...             0.840684         0.692946\n",
              "333             0.5       1.241803  ...             0.749775         0.692946\n",
              "1113           -1.0      -1.517760  ...            -0.432043        -1.233057\n",
              "1869            0.5      -1.379781  ...            -0.886589        -0.511065\n",
              "654            -1.0       0.379781  ...             0.000000        -0.169433\n",
              "\n",
              "[5 rows x 8 columns]"
            ]
          },
          "metadata": {
            "tags": []
          },
          "execution_count": 516
        }
      ]
    },
    {
      "cell_type": "code",
      "metadata": {
        "id": "FF8j2jBQp90L"
      },
      "source": [
        "X_test[num_attributes] = transformer.transform(X_test[num_attributes])"
      ],
      "execution_count": 517,
      "outputs": []
    },
    {
      "cell_type": "markdown",
      "metadata": {
        "id": "i5dasxcW68Ro"
      },
      "source": [
        "##Machine Learning"
      ]
    },
    {
      "cell_type": "markdown",
      "metadata": {
        "id": "ijpv3Tl90oCx"
      },
      "source": [
        "Treinando e Avaliando no Conjunto de Treino"
      ]
    },
    {
      "cell_type": "code",
      "metadata": {
        "id": "16RarRbXBH6J"
      },
      "source": [
        "#Regressão Logística\r\n",
        "from sklearn.datasets import load_iris\r\n",
        "from sklearn.linear_model import LogisticRegression"
      ],
      "execution_count": 518,
      "outputs": []
    },
    {
      "cell_type": "code",
      "metadata": {
        "colab": {
          "base_uri": "https://localhost:8080/"
        },
        "id": "_lD5f7RvDJ_V",
        "outputId": "855ca2c1-4337-4861-e8f8-947a3bcead8d"
      },
      "source": [
        "X, y = load_iris(return_X_y=True)\r\n",
        "lreg = LogisticRegression(random_state=0)\r\n",
        "lreg.fit(X_train, y_train)"
      ],
      "execution_count": 519,
      "outputs": [
        {
          "output_type": "stream",
          "text": [
            "/usr/local/lib/python3.6/dist-packages/sklearn/linear_model/_logistic.py:940: ConvergenceWarning: lbfgs failed to converge (status=1):\n",
            "STOP: TOTAL NO. of ITERATIONS REACHED LIMIT.\n",
            "\n",
            "Increase the number of iterations (max_iter) or scale the data as shown in:\n",
            "    https://scikit-learn.org/stable/modules/preprocessing.html\n",
            "Please also refer to the documentation for alternative solver options:\n",
            "    https://scikit-learn.org/stable/modules/linear_model.html#logistic-regression\n",
            "  extra_warning_msg=_LOGISTIC_SOLVER_CONVERGENCE_MSG)\n"
          ],
          "name": "stderr"
        },
        {
          "output_type": "execute_result",
          "data": {
            "text/plain": [
              "LogisticRegression(C=1.0, class_weight=None, dual=False, fit_intercept=True,\n",
              "                   intercept_scaling=1, l1_ratio=None, max_iter=100,\n",
              "                   multi_class='auto', n_jobs=None, penalty='l2',\n",
              "                   random_state=0, solver='lbfgs', tol=0.0001, verbose=0,\n",
              "                   warm_start=False)"
            ]
          },
          "metadata": {
            "tags": []
          },
          "execution_count": 519
        }
      ]
    },
    {
      "cell_type": "code",
      "metadata": {
        "colab": {
          "base_uri": "https://localhost:8080/"
        },
        "id": "zi3F5XhRidDr",
        "outputId": "5ae5af3f-7dc0-4515-fd26-7bc2eaa8195e"
      },
      "source": [
        "lin_reg.predict(X_test.head(10))"
      ],
      "execution_count": 535,
      "outputs": [
        {
          "output_type": "execute_result",
          "data": {
            "text/plain": [
              "array(['4.02', '5.03', '5.03', '13.07', '3.02', '0.92', '0.92', '5.86',\n",
              "       '0.92', '0.92'], dtype=object)"
            ]
          },
          "metadata": {
            "tags": []
          },
          "execution_count": 535
        }
      ]
    },
    {
      "cell_type": "code",
      "metadata": {
        "id": "630p-j-w0API"
      },
      "source": [
        "#Arvore de Decisão\r\n",
        "from sklearn.tree import DecisionTreeRegressor"
      ],
      "execution_count": 521,
      "outputs": []
    },
    {
      "cell_type": "code",
      "metadata": {
        "id": "RBuzW39G1AAV"
      },
      "source": [
        "tree_reg = DecisionTreeRegressor()"
      ],
      "execution_count": 522,
      "outputs": []
    },
    {
      "cell_type": "code",
      "metadata": {
        "colab": {
          "base_uri": "https://localhost:8080/"
        },
        "id": "TF_V3KZi1MZu",
        "outputId": "680a6f99-0e69-4325-f3f6-4f76792f5eae"
      },
      "source": [
        "tree_reg.fit(X_train, y_train)"
      ],
      "execution_count": 523,
      "outputs": [
        {
          "output_type": "execute_result",
          "data": {
            "text/plain": [
              "DecisionTreeRegressor(ccp_alpha=0.0, criterion='mse', max_depth=None,\n",
              "                      max_features=None, max_leaf_nodes=None,\n",
              "                      min_impurity_decrease=0.0, min_impurity_split=None,\n",
              "                      min_samples_leaf=1, min_samples_split=2,\n",
              "                      min_weight_fraction_leaf=0.0, presort='deprecated',\n",
              "                      random_state=None, splitter='best')"
            ]
          },
          "metadata": {
            "tags": []
          },
          "execution_count": 523
        }
      ]
    },
    {
      "cell_type": "code",
      "metadata": {
        "id": "YuAjAzQC1PMN"
      },
      "source": [
        "y_prediction_train = tree_reg.predict(X_train)"
      ],
      "execution_count": 524,
      "outputs": []
    },
    {
      "cell_type": "code",
      "metadata": {
        "colab": {
          "base_uri": "https://localhost:8080/"
        },
        "id": "Sl8FEgug1mSG",
        "outputId": "4ef23e7f-c88b-40f1-ff3f-3c52e9de1c82"
      },
      "source": [
        "#Arvore de decisão para treino\r\n",
        "tree_rnse = np.sqrt(mean_squared_error(y_train, y_prediction_train))\r\n",
        "tree_rnse"
      ],
      "execution_count": 525,
      "outputs": [
        {
          "output_type": "execute_result",
          "data": {
            "text/plain": [
              "1.4475537224895362e-17"
            ]
          },
          "metadata": {
            "tags": []
          },
          "execution_count": 525
        }
      ]
    },
    {
      "cell_type": "code",
      "metadata": {
        "colab": {
          "base_uri": "https://localhost:8080/"
        },
        "id": "41slN0I11n5d",
        "outputId": "b4ed1bf2-7323-4be4-f0a9-863c350969a2"
      },
      "source": [
        "#Arvore de decisão para teste\r\n",
        "y_prediction_test = tree_reg.predict(X_test)\r\n",
        "np.sqrt(mean_squared_error(y_test, y_prediction_test))"
      ],
      "execution_count": 526,
      "outputs": [
        {
          "output_type": "execute_result",
          "data": {
            "text/plain": [
              "5.116841112299242"
            ]
          },
          "metadata": {
            "tags": []
          },
          "execution_count": 526
        }
      ]
    },
    {
      "cell_type": "markdown",
      "metadata": {
        "id": "9JVccKcz3HhJ"
      },
      "source": [
        "Estimativa com validação cruzada"
      ]
    },
    {
      "cell_type": "code",
      "metadata": {
        "id": "lefMeMhf3Ktm"
      },
      "source": [
        "from sklearn.model_selection import cross_val_score\r\n",
        "score = cross_val_score(tree_reg, X_train, y_train, scoring='neg_mean_squared_error', cv=10)\r\n",
        "tree_error = np.sqrt(-score)"
      ],
      "execution_count": 536,
      "outputs": []
    },
    {
      "cell_type": "code",
      "metadata": {
        "colab": {
          "base_uri": "https://localhost:8080/"
        },
        "id": "L3LHc2mS64Nd",
        "outputId": "e3d402b1-7781-4a65-9ae6-9bc28f4fda47"
      },
      "source": [
        "np.mean(tree_error)"
      ],
      "execution_count": 530,
      "outputs": [
        {
          "output_type": "execute_result",
          "data": {
            "text/plain": [
              "5.171959969601529"
            ]
          },
          "metadata": {
            "tags": []
          },
          "execution_count": 530
        }
      ]
    },
    {
      "cell_type": "code",
      "metadata": {
        "colab": {
          "base_uri": "https://localhost:8080/"
        },
        "id": "Jm7MbX1n7Umm",
        "outputId": "a6bfefea-0501-445a-b2d7-00d2fba73742"
      },
      "source": [
        "np.std(tree_error)"
      ],
      "execution_count": 531,
      "outputs": [
        {
          "output_type": "execute_result",
          "data": {
            "text/plain": [
              "0.20619692732759307"
            ]
          },
          "metadata": {
            "tags": []
          },
          "execution_count": 531
        }
      ]
    },
    {
      "cell_type": "code",
      "metadata": {
        "colab": {
          "base_uri": "https://localhost:8080/"
        },
        "id": "8gLMVmgX7X9x",
        "outputId": "49e74c61-0117-4a70-dbcd-aedec336548f"
      },
      "source": [
        "#Replicando para regressao linear\r\n",
        "score = cross_val_score(lin_reg, X_train, y_train, scoring='neg_mean_squared_error', cv=10)\r\n",
        "lr_error = np.sqrt(-score)"
      ],
      "execution_count": 532,
      "outputs": [
        {
          "output_type": "stream",
          "text": [
            "/usr/local/lib/python3.6/dist-packages/sklearn/model_selection/_split.py:667: UserWarning: The least populated class in y has only 1 members, which is less than n_splits=10.\n",
            "  % (min_groups, self.n_splits)), UserWarning)\n",
            "/usr/local/lib/python3.6/dist-packages/sklearn/linear_model/_logistic.py:940: ConvergenceWarning: lbfgs failed to converge (status=1):\n",
            "STOP: TOTAL NO. of ITERATIONS REACHED LIMIT.\n",
            "\n",
            "Increase the number of iterations (max_iter) or scale the data as shown in:\n",
            "    https://scikit-learn.org/stable/modules/preprocessing.html\n",
            "Please also refer to the documentation for alternative solver options:\n",
            "    https://scikit-learn.org/stable/modules/linear_model.html#logistic-regression\n",
            "  extra_warning_msg=_LOGISTIC_SOLVER_CONVERGENCE_MSG)\n",
            "/usr/local/lib/python3.6/dist-packages/sklearn/linear_model/_logistic.py:940: ConvergenceWarning: lbfgs failed to converge (status=1):\n",
            "STOP: TOTAL NO. of ITERATIONS REACHED LIMIT.\n",
            "\n",
            "Increase the number of iterations (max_iter) or scale the data as shown in:\n",
            "    https://scikit-learn.org/stable/modules/preprocessing.html\n",
            "Please also refer to the documentation for alternative solver options:\n",
            "    https://scikit-learn.org/stable/modules/linear_model.html#logistic-regression\n",
            "  extra_warning_msg=_LOGISTIC_SOLVER_CONVERGENCE_MSG)\n",
            "/usr/local/lib/python3.6/dist-packages/sklearn/linear_model/_logistic.py:940: ConvergenceWarning: lbfgs failed to converge (status=1):\n",
            "STOP: TOTAL NO. of ITERATIONS REACHED LIMIT.\n",
            "\n",
            "Increase the number of iterations (max_iter) or scale the data as shown in:\n",
            "    https://scikit-learn.org/stable/modules/preprocessing.html\n",
            "Please also refer to the documentation for alternative solver options:\n",
            "    https://scikit-learn.org/stable/modules/linear_model.html#logistic-regression\n",
            "  extra_warning_msg=_LOGISTIC_SOLVER_CONVERGENCE_MSG)\n",
            "/usr/local/lib/python3.6/dist-packages/sklearn/linear_model/_logistic.py:940: ConvergenceWarning: lbfgs failed to converge (status=1):\n",
            "STOP: TOTAL NO. of ITERATIONS REACHED LIMIT.\n",
            "\n",
            "Increase the number of iterations (max_iter) or scale the data as shown in:\n",
            "    https://scikit-learn.org/stable/modules/preprocessing.html\n",
            "Please also refer to the documentation for alternative solver options:\n",
            "    https://scikit-learn.org/stable/modules/linear_model.html#logistic-regression\n",
            "  extra_warning_msg=_LOGISTIC_SOLVER_CONVERGENCE_MSG)\n",
            "/usr/local/lib/python3.6/dist-packages/sklearn/linear_model/_logistic.py:940: ConvergenceWarning: lbfgs failed to converge (status=1):\n",
            "STOP: TOTAL NO. of ITERATIONS REACHED LIMIT.\n",
            "\n",
            "Increase the number of iterations (max_iter) or scale the data as shown in:\n",
            "    https://scikit-learn.org/stable/modules/preprocessing.html\n",
            "Please also refer to the documentation for alternative solver options:\n",
            "    https://scikit-learn.org/stable/modules/linear_model.html#logistic-regression\n",
            "  extra_warning_msg=_LOGISTIC_SOLVER_CONVERGENCE_MSG)\n",
            "/usr/local/lib/python3.6/dist-packages/sklearn/linear_model/_logistic.py:940: ConvergenceWarning: lbfgs failed to converge (status=1):\n",
            "STOP: TOTAL NO. of ITERATIONS REACHED LIMIT.\n",
            "\n",
            "Increase the number of iterations (max_iter) or scale the data as shown in:\n",
            "    https://scikit-learn.org/stable/modules/preprocessing.html\n",
            "Please also refer to the documentation for alternative solver options:\n",
            "    https://scikit-learn.org/stable/modules/linear_model.html#logistic-regression\n",
            "  extra_warning_msg=_LOGISTIC_SOLVER_CONVERGENCE_MSG)\n",
            "/usr/local/lib/python3.6/dist-packages/sklearn/linear_model/_logistic.py:940: ConvergenceWarning: lbfgs failed to converge (status=1):\n",
            "STOP: TOTAL NO. of ITERATIONS REACHED LIMIT.\n",
            "\n",
            "Increase the number of iterations (max_iter) or scale the data as shown in:\n",
            "    https://scikit-learn.org/stable/modules/preprocessing.html\n",
            "Please also refer to the documentation for alternative solver options:\n",
            "    https://scikit-learn.org/stable/modules/linear_model.html#logistic-regression\n",
            "  extra_warning_msg=_LOGISTIC_SOLVER_CONVERGENCE_MSG)\n",
            "/usr/local/lib/python3.6/dist-packages/sklearn/linear_model/_logistic.py:940: ConvergenceWarning: lbfgs failed to converge (status=1):\n",
            "STOP: TOTAL NO. of ITERATIONS REACHED LIMIT.\n",
            "\n",
            "Increase the number of iterations (max_iter) or scale the data as shown in:\n",
            "    https://scikit-learn.org/stable/modules/preprocessing.html\n",
            "Please also refer to the documentation for alternative solver options:\n",
            "    https://scikit-learn.org/stable/modules/linear_model.html#logistic-regression\n",
            "  extra_warning_msg=_LOGISTIC_SOLVER_CONVERGENCE_MSG)\n",
            "/usr/local/lib/python3.6/dist-packages/sklearn/linear_model/_logistic.py:940: ConvergenceWarning: lbfgs failed to converge (status=1):\n",
            "STOP: TOTAL NO. of ITERATIONS REACHED LIMIT.\n",
            "\n",
            "Increase the number of iterations (max_iter) or scale the data as shown in:\n",
            "    https://scikit-learn.org/stable/modules/preprocessing.html\n",
            "Please also refer to the documentation for alternative solver options:\n",
            "    https://scikit-learn.org/stable/modules/linear_model.html#logistic-regression\n",
            "  extra_warning_msg=_LOGISTIC_SOLVER_CONVERGENCE_MSG)\n",
            "/usr/local/lib/python3.6/dist-packages/sklearn/linear_model/_logistic.py:940: ConvergenceWarning: lbfgs failed to converge (status=1):\n",
            "STOP: TOTAL NO. of ITERATIONS REACHED LIMIT.\n",
            "\n",
            "Increase the number of iterations (max_iter) or scale the data as shown in:\n",
            "    https://scikit-learn.org/stable/modules/preprocessing.html\n",
            "Please also refer to the documentation for alternative solver options:\n",
            "    https://scikit-learn.org/stable/modules/linear_model.html#logistic-regression\n",
            "  extra_warning_msg=_LOGISTIC_SOLVER_CONVERGENCE_MSG)\n"
          ],
          "name": "stderr"
        }
      ]
    },
    {
      "cell_type": "code",
      "metadata": {
        "id": "Dbc6VaVg7zJ-",
        "colab": {
          "base_uri": "https://localhost:8080/"
        },
        "outputId": "ec0c4739-a088-465e-ce50-b1ef6559f1fa"
      },
      "source": [
        "np.mean(lr_error)"
      ],
      "execution_count": 533,
      "outputs": [
        {
          "output_type": "execute_result",
          "data": {
            "text/plain": [
              "4.372718321940157"
            ]
          },
          "metadata": {
            "tags": []
          },
          "execution_count": 533
        }
      ]
    },
    {
      "cell_type": "code",
      "metadata": {
        "id": "noIVyqOZ8QZf",
        "colab": {
          "base_uri": "https://localhost:8080/"
        },
        "outputId": "f4121463-626b-4354-b32e-a31e1a22d576"
      },
      "source": [
        "np.std(lr_error)"
      ],
      "execution_count": 534,
      "outputs": [
        {
          "output_type": "execute_result",
          "data": {
            "text/plain": [
              "0.13400868243833317"
            ]
          },
          "metadata": {
            "tags": []
          },
          "execution_count": 534
        }
      ]
    },
    {
      "cell_type": "markdown",
      "metadata": {
        "id": "WWaTdpxfKSpb"
      },
      "source": [
        "Métricas para avaliação"
      ]
    },
    {
      "cell_type": "code",
      "metadata": {
        "id": "TevKrfoa8Wxj"
      },
      "source": [
        "#Matriz de Confusão\r\n",
        "from sklearn.metrics import confusion_matrix"
      ],
      "execution_count": 538,
      "outputs": []
    },
    {
      "cell_type": "code",
      "metadata": {
        "colab": {
          "base_uri": "https://localhost:8080/",
          "height": 306
        },
        "id": "ncjRaQZ3I-z5",
        "outputId": "5f3f5171-13c6-4382-a1a2-0bfc924cb610"
      },
      "source": [
        "confusion_matrix(y_test, y_prediction_test)"
      ],
      "execution_count": 539,
      "outputs": [
        {
          "output_type": "error",
          "ename": "ValueError",
          "evalue": "ignored",
          "traceback": [
            "\u001b[0;31m---------------------------------------------------------------------------\u001b[0m",
            "\u001b[0;31mValueError\u001b[0m                                Traceback (most recent call last)",
            "\u001b[0;32m<ipython-input-539-872e174ab445>\u001b[0m in \u001b[0;36m<module>\u001b[0;34m()\u001b[0m\n\u001b[0;32m----> 1\u001b[0;31m \u001b[0mconfusion_matrix\u001b[0m\u001b[0;34m(\u001b[0m\u001b[0my_test\u001b[0m\u001b[0;34m,\u001b[0m \u001b[0my_prediction_test\u001b[0m\u001b[0;34m)\u001b[0m\u001b[0;34m\u001b[0m\u001b[0;34m\u001b[0m\u001b[0m\n\u001b[0m",
            "\u001b[0;32m/usr/local/lib/python3.6/dist-packages/sklearn/metrics/_classification.py\u001b[0m in \u001b[0;36mconfusion_matrix\u001b[0;34m(y_true, y_pred, labels, sample_weight, normalize)\u001b[0m\n\u001b[1;32m    266\u001b[0m \u001b[0;34m\u001b[0m\u001b[0m\n\u001b[1;32m    267\u001b[0m     \"\"\"\n\u001b[0;32m--> 268\u001b[0;31m     \u001b[0my_type\u001b[0m\u001b[0;34m,\u001b[0m \u001b[0my_true\u001b[0m\u001b[0;34m,\u001b[0m \u001b[0my_pred\u001b[0m \u001b[0;34m=\u001b[0m \u001b[0m_check_targets\u001b[0m\u001b[0;34m(\u001b[0m\u001b[0my_true\u001b[0m\u001b[0;34m,\u001b[0m \u001b[0my_pred\u001b[0m\u001b[0;34m)\u001b[0m\u001b[0;34m\u001b[0m\u001b[0;34m\u001b[0m\u001b[0m\n\u001b[0m\u001b[1;32m    269\u001b[0m     \u001b[0;32mif\u001b[0m \u001b[0my_type\u001b[0m \u001b[0;32mnot\u001b[0m \u001b[0;32min\u001b[0m \u001b[0;34m(\u001b[0m\u001b[0;34m\"binary\"\u001b[0m\u001b[0;34m,\u001b[0m \u001b[0;34m\"multiclass\"\u001b[0m\u001b[0;34m)\u001b[0m\u001b[0;34m:\u001b[0m\u001b[0;34m\u001b[0m\u001b[0;34m\u001b[0m\u001b[0m\n\u001b[1;32m    270\u001b[0m         \u001b[0;32mraise\u001b[0m \u001b[0mValueError\u001b[0m\u001b[0;34m(\u001b[0m\u001b[0;34m\"%s is not supported\"\u001b[0m \u001b[0;34m%\u001b[0m \u001b[0my_type\u001b[0m\u001b[0;34m)\u001b[0m\u001b[0;34m\u001b[0m\u001b[0;34m\u001b[0m\u001b[0m\n",
            "\u001b[0;32m/usr/local/lib/python3.6/dist-packages/sklearn/metrics/_classification.py\u001b[0m in \u001b[0;36m_check_targets\u001b[0;34m(y_true, y_pred)\u001b[0m\n\u001b[1;32m     88\u001b[0m     \u001b[0;32mif\u001b[0m \u001b[0mlen\u001b[0m\u001b[0;34m(\u001b[0m\u001b[0my_type\u001b[0m\u001b[0;34m)\u001b[0m \u001b[0;34m>\u001b[0m \u001b[0;36m1\u001b[0m\u001b[0;34m:\u001b[0m\u001b[0;34m\u001b[0m\u001b[0;34m\u001b[0m\u001b[0m\n\u001b[1;32m     89\u001b[0m         raise ValueError(\"Classification metrics can't handle a mix of {0} \"\n\u001b[0;32m---> 90\u001b[0;31m                          \"and {1} targets\".format(type_true, type_pred))\n\u001b[0m\u001b[1;32m     91\u001b[0m \u001b[0;34m\u001b[0m\u001b[0m\n\u001b[1;32m     92\u001b[0m     \u001b[0;31m# We can't have more than one value on y_type => The set is no more needed\u001b[0m\u001b[0;34m\u001b[0m\u001b[0;34m\u001b[0m\u001b[0;34m\u001b[0m\u001b[0m\n",
            "\u001b[0;31mValueError\u001b[0m: Classification metrics can't handle a mix of multiclass and continuous targets"
          ]
        }
      ]
    },
    {
      "cell_type": "code",
      "metadata": {
        "id": "nLE_svc2JM-Z"
      },
      "source": [
        ""
      ],
      "execution_count": null,
      "outputs": []
    }
  ]
}