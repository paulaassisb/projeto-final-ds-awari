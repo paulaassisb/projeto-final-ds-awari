{
  "nbformat": 4,
  "nbformat_minor": 0,
  "metadata": {
    "colab": {
      "name": "Projeto Awari - Paula Assis.ipynb",
      "provenance": [],
      "mount_file_id": "133Ub0WhxuzQdt5mU67TDGsmuhKAKROLD",
      "authorship_tag": "ABX9TyM3phi9UQY+Rugv4DwAle6g",
      "include_colab_link": true
    },
    "kernelspec": {
      "name": "python3",
      "display_name": "Python 3"
    }
  },
  "cells": [
    {
      "cell_type": "markdown",
      "metadata": {
        "id": "view-in-github",
        "colab_type": "text"
      },
      "source": [
        "<a href=\"https://colab.research.google.com/github/paulaassisb/projeto-final-ds-awari/blob/main/Projeto_Awari_Paula_Assis.ipynb\" target=\"_parent\"><img src=\"https://colab.research.google.com/assets/colab-badge.svg\" alt=\"Open In Colab\"/></a>"
      ]
    },
    {
      "cell_type": "code",
      "metadata": {
        "id": "4pOl2MQF0_t7"
      },
      "source": [
        "## Importação de bibliotecas\n",
        "import pandas as pd\n",
        "from pandas import Series,DataFrame\n",
        "import numpy as np\n",
        "import re\n",
        "import unicodedata\n",
        "from nltk.corpus import stopwords\n",
        "## import matplotlib.pyplot as plt"
      ],
      "execution_count": 2386,
      "outputs": []
    },
    {
      "cell_type": "code",
      "metadata": {
        "colab": {
          "base_uri": "https://localhost:8080/"
        },
        "id": "SeapCwKX2xKM",
        "outputId": "70e343c7-3bea-4ae0-ca0d-b79c1e3abfd8"
      },
      "source": [
        "## Importando arquivo da coleta de dados\n",
        "url = 'https://raw.githubusercontent.com/paulaassisb/projeto-final-ds-awari/main/coleta_dados_quest_projeto_final.csv'\n",
        "dados_quest = pd.read_csv(url)\n",
        "print(f'Número de linhas: {len(dados_quest)}')\n",
        "print(f'Número de colunas: {len(dados_quest.columns)}')\n"
      ],
      "execution_count": 2387,
      "outputs": [
        {
          "output_type": "stream",
          "text": [
            "Número de linhas: 2780\n",
            "Número de colunas: 21\n"
          ],
          "name": "stdout"
        }
      ]
    },
    {
      "cell_type": "code",
      "metadata": {
        "id": "S_RMOM4j3dg1"
      },
      "source": [
        "## Transformando em DataFrame para visualização e manipulação dos dados\n",
        "df = pd.DataFrame(dados_quest)"
      ],
      "execution_count": 2388,
      "outputs": []
    },
    {
      "cell_type": "code",
      "metadata": {
        "id": "Beh6Midb7_BV",
        "colab": {
          "base_uri": "https://localhost:8080/",
          "height": 547
        },
        "outputId": "f97b0daa-4fc2-4072-baff-0c95cc51cac0"
      },
      "source": [
        "df.head()"
      ],
      "execution_count": 2389,
      "outputs": [
        {
          "output_type": "execute_result",
          "data": {
            "text/html": [
              "<div>\n",
              "<style scoped>\n",
              "    .dataframe tbody tr th:only-of-type {\n",
              "        vertical-align: middle;\n",
              "    }\n",
              "\n",
              "    .dataframe tbody tr th {\n",
              "        vertical-align: top;\n",
              "    }\n",
              "\n",
              "    .dataframe thead th {\n",
              "        text-align: right;\n",
              "    }\n",
              "</style>\n",
              "<table border=\"1\" class=\"dataframe\">\n",
              "  <thead>\n",
              "    <tr style=\"text-align: right;\">\n",
              "      <th></th>\n",
              "      <th>Numero do Sujeito</th>\n",
              "      <th>1a. Doença</th>\n",
              "      <th>Idade 1a. Doença</th>\n",
              "      <th>Tempo 1a Doença</th>\n",
              "      <th>Sexo</th>\n",
              "      <th>UF Nascimento</th>\n",
              "      <th>UF</th>\n",
              "      <th>Formação</th>\n",
              "      <th>Atividade</th>\n",
              "      <th>Escolaridade</th>\n",
              "      <th>Estado Civil</th>\n",
              "      <th>Religião</th>\n",
              "      <th>Outro Idioma</th>\n",
              "      <th>Análise do Contexto</th>\n",
              "      <th>Autoconfiança</th>\n",
              "      <th>Autocontrole</th>\n",
              "      <th>Conquistar e Manter Pessoas</th>\n",
              "      <th>Empatia</th>\n",
              "      <th>Leitura Corporal</th>\n",
              "      <th>Otimismo com a Vida</th>\n",
              "      <th>Sentido da Vida</th>\n",
              "    </tr>\n",
              "  </thead>\n",
              "  <tbody>\n",
              "    <tr>\n",
              "      <th>0</th>\n",
              "      <td>13531</td>\n",
              "      <td>depressão</td>\n",
              "      <td>31 - 49 anos</td>\n",
              "      <td>Um ano</td>\n",
              "      <td>Feminino</td>\n",
              "      <td>SP</td>\n",
              "      <td>SP</td>\n",
              "      <td>Administradora</td>\n",
              "      <td>Gerente de Compras</td>\n",
              "      <td>Pós-Graduação</td>\n",
              "      <td>Casado</td>\n",
              "      <td>Católico</td>\n",
              "      <td>Sim</td>\n",
              "      <td>Boa no estresse (PC-P)</td>\n",
              "      <td>Fraca no estresse (PC-I)</td>\n",
              "      <td>Fraca no estresse (PC-I)</td>\n",
              "      <td>Boa diante do impacto do estresse (PC-P)</td>\n",
              "      <td>Moderada no estresse (PC-I)</td>\n",
              "      <td>Excelente no estresse</td>\n",
              "      <td>Forte no estresse (PC-P)</td>\n",
              "      <td>Boa no estresse (PC-P)</td>\n",
              "    </tr>\n",
              "    <tr>\n",
              "      <th>1</th>\n",
              "      <td>13532</td>\n",
              "      <td>enfermidade que me levou a 15 dias de hospital...</td>\n",
              "      <td>7 - 12 anos</td>\n",
              "      <td>Mais de um ano</td>\n",
              "      <td>Masculino</td>\n",
              "      <td>SP</td>\n",
              "      <td>SP</td>\n",
              "      <td>Arquiteto</td>\n",
              "      <td>NaN</td>\n",
              "      <td>Pós-Graduação</td>\n",
              "      <td>Casado</td>\n",
              "      <td>Evangélico</td>\n",
              "      <td>Sim</td>\n",
              "      <td>Excelente no estresse</td>\n",
              "      <td>Moderada no estresse (PC-I)</td>\n",
              "      <td>Fraca no estresse (PC-I)</td>\n",
              "      <td>Boa diante do impacto do estresse (PC-P)</td>\n",
              "      <td>Boa no estresse (PC-P)</td>\n",
              "      <td>Boa no estresse (PC-P)</td>\n",
              "      <td>Excelente no estresse</td>\n",
              "      <td>Moderada no estresse (PC-P)</td>\n",
              "    </tr>\n",
              "    <tr>\n",
              "      <th>2</th>\n",
              "      <td>13533</td>\n",
              "      <td>Violência dentro de casa</td>\n",
              "      <td>7 - 12 anos</td>\n",
              "      <td>Mais de um ano</td>\n",
              "      <td>Masculino</td>\n",
              "      <td>SP</td>\n",
              "      <td>SP</td>\n",
              "      <td>NaN</td>\n",
              "      <td>Pesquisa e leitura de livros</td>\n",
              "      <td>Superior Completo</td>\n",
              "      <td>Solteiro</td>\n",
              "      <td>Outro</td>\n",
              "      <td>Não</td>\n",
              "      <td>Boa no estresse (PC-P)</td>\n",
              "      <td>Forte no estresse (PC-P)</td>\n",
              "      <td>Moderada no estresse (PC-P)</td>\n",
              "      <td>Boa diante do impacto do estresse (PC-P)</td>\n",
              "      <td>Boa no estresse (PC-P)</td>\n",
              "      <td>Moderada no estresse (PC-P)</td>\n",
              "      <td>Excelente no estresse</td>\n",
              "      <td>Boa no estresse (PC-P)</td>\n",
              "    </tr>\n",
              "    <tr>\n",
              "      <th>3</th>\n",
              "      <td>13534</td>\n",
              "      <td>NaN</td>\n",
              "      <td>NaN</td>\n",
              "      <td>NaN</td>\n",
              "      <td>Masculino</td>\n",
              "      <td>SP</td>\n",
              "      <td>SP</td>\n",
              "      <td>Administração de Empresas</td>\n",
              "      <td>Analista de Mercado</td>\n",
              "      <td>Superior Completo</td>\n",
              "      <td>Solteiro</td>\n",
              "      <td>Evangélico</td>\n",
              "      <td>Sim</td>\n",
              "      <td>Excelente no estresse</td>\n",
              "      <td>Fraca no estresse (PC-I)</td>\n",
              "      <td>Fraca no estresse (PC-I)</td>\n",
              "      <td>Forte diante do impacto do estresse (PC-P)</td>\n",
              "      <td>Excelente no estresse</td>\n",
              "      <td>Boa no estresse (PC-P)</td>\n",
              "      <td>Boa no estresse (PC-P)</td>\n",
              "      <td>Boa no estresse (PC-P)</td>\n",
              "    </tr>\n",
              "    <tr>\n",
              "      <th>4</th>\n",
              "      <td>13535</td>\n",
              "      <td>Conhecer a comunidade quilombola Pedro Cubas</td>\n",
              "      <td>13 - 17 anos</td>\n",
              "      <td>Mais de um ano</td>\n",
              "      <td>Masculino</td>\n",
              "      <td>SP</td>\n",
              "      <td>SP</td>\n",
              "      <td>NaN</td>\n",
              "      <td>NaN</td>\n",
              "      <td>Superior Incompleto</td>\n",
              "      <td>Solteiro</td>\n",
              "      <td>Evangélico</td>\n",
              "      <td>Sim</td>\n",
              "      <td>Excelente no estresse</td>\n",
              "      <td>Excelente face ao estresse</td>\n",
              "      <td>Excelente no estresse</td>\n",
              "      <td>Excelente face ao impacto do estresse (PC-E)</td>\n",
              "      <td>Forte no estresse (PC-P)</td>\n",
              "      <td>Boa no estresse (PC-P)</td>\n",
              "      <td>Excelente no estresse</td>\n",
              "      <td>Excelente no estresse</td>\n",
              "    </tr>\n",
              "  </tbody>\n",
              "</table>\n",
              "</div>"
            ],
            "text/plain": [
              "   Numero do Sujeito  ...              Sentido da Vida\n",
              "0              13531  ...       Boa no estresse (PC-P)\n",
              "1              13532  ...  Moderada no estresse (PC-P)\n",
              "2              13533  ...       Boa no estresse (PC-P)\n",
              "3              13534  ...       Boa no estresse (PC-P)\n",
              "4              13535  ...        Excelente no estresse\n",
              "\n",
              "[5 rows x 21 columns]"
            ]
          },
          "metadata": {
            "tags": []
          },
          "execution_count": 2389
        }
      ]
    },
    {
      "cell_type": "code",
      "metadata": {
        "colab": {
          "base_uri": "https://localhost:8080/"
        },
        "id": "gFSeagyZE29i",
        "outputId": "cf9a8dfd-fdff-4154-8bea-3e5908e0a265"
      },
      "source": [
        "## Verificação de dados duplicados\n",
        "duplicados = df.duplicated()\n",
        "print(duplicados)"
      ],
      "execution_count": 2390,
      "outputs": [
        {
          "output_type": "stream",
          "text": [
            "0       False\n",
            "1       False\n",
            "2       False\n",
            "3       False\n",
            "4       False\n",
            "        ...  \n",
            "2775    False\n",
            "2776    False\n",
            "2777    False\n",
            "2778    False\n",
            "2779    False\n",
            "Length: 2780, dtype: bool\n"
          ],
          "name": "stdout"
        }
      ]
    },
    {
      "cell_type": "markdown",
      "metadata": {
        "id": "Z7jCBxxr2fdT"
      },
      "source": [
        "\n",
        "**Transformando as colunas**"
      ]
    },
    {
      "cell_type": "code",
      "metadata": {
        "id": "mmXqQyLS1IaW",
        "colab": {
          "base_uri": "https://localhost:8080/"
        },
        "outputId": "d3b5bb62-67b6-410d-80be-97a03b980e05"
      },
      "source": [
        "df.columns"
      ],
      "execution_count": 2391,
      "outputs": [
        {
          "output_type": "execute_result",
          "data": {
            "text/plain": [
              "Index(['Numero do Sujeito', '1a. Doença', 'Idade 1a. Doença',\n",
              "       'Tempo 1a Doença', 'Sexo', 'UF Nascimento', 'UF', 'Formação',\n",
              "       'Atividade', 'Escolaridade', 'Estado Civil', 'Religião', 'Outro Idioma',\n",
              "       'Análise do Contexto', 'Autoconfiança', 'Autocontrole',\n",
              "       'Conquistar e Manter Pessoas', 'Empatia', 'Leitura Corporal',\n",
              "       'Otimismo com a Vida', 'Sentido da Vida'],\n",
              "      dtype='object')"
            ]
          },
          "metadata": {
            "tags": []
          },
          "execution_count": 2391
        }
      ]
    },
    {
      "cell_type": "code",
      "metadata": {
        "id": "zn8yJYKt0Tww"
      },
      "source": [
        "## Nomes das colunas (todos em minúsculo e sem espaço)\n",
        "df.columns.str.lower()\n",
        "df.columns = df.columns.str.lower().str.replace(' ', '_')"
      ],
      "execution_count": 2392,
      "outputs": []
    },
    {
      "cell_type": "code",
      "metadata": {
        "id": "5B_5u8g71izG"
      },
      "source": [
        "## Renomear colunas relacionadas a doença/trauma\n",
        "df = df.rename(columns={'1a._doença': 'trauma_doenca', 'idade_1a._doença': 'idade_doenca_trauma', 'tempo_1a_doença': 'tempo_doenca_trauma', \n",
        "                        'formação': 'formacao', 'religião': 'religiao', 'análise_do_contexto': 'analise_do_contexto', 'autoconfiança': 'autoconfianca'})"
      ],
      "execution_count": 2393,
      "outputs": []
    },
    {
      "cell_type": "code",
      "metadata": {
        "id": "igdZ5KSicBRa"
      },
      "source": [
        "#Removendo colunas não necessárias\r\n",
        "df = df.drop(columns=['numero_do_sujeito'])"
      ],
      "execution_count": 2394,
      "outputs": []
    },
    {
      "cell_type": "code",
      "metadata": {
        "id": "QLnJ8xC7cMR5"
      },
      "source": [
        "df = df.drop(columns=['atividade'])"
      ],
      "execution_count": 2395,
      "outputs": []
    },
    {
      "cell_type": "markdown",
      "metadata": {
        "id": "iqHK1sv4Vw1g"
      },
      "source": [
        "**Tratamento de valores nulos (NaN)**"
      ]
    },
    {
      "cell_type": "code",
      "metadata": {
        "id": "5TEnp4g4XxO9"
      },
      "source": [
        "df = df.dropna(subset=['trauma_doenca', 'idade_doenca_trauma', 'tempo_doenca_trauma'])"
      ],
      "execution_count": 2396,
      "outputs": []
    },
    {
      "cell_type": "markdown",
      "metadata": {
        "id": "Y-iP9kGfYpEJ"
      },
      "source": [
        "**Transformando objetos em categorias**"
      ]
    },
    {
      "cell_type": "code",
      "metadata": {
        "id": "e7rfSpFMYyZj"
      },
      "source": [
        "#Transformando strings em categorias numéricas\r\n",
        "df['sexo'].replace(to_replace = ['Masculino', 'Feminino'], value =[1,2], inplace=True)\r\n",
        "df['tempo_doenca_trauma'].replace(to_replace = ['Alguns dias', 'Semanas', 'Meses', 'Um ano', 'Mais de um ano'], value =[1,2,3,4,5], inplace=True)\r\n",
        "df['idade_doenca_trauma'].replace(to_replace = ['Até 6 anos', '7 - 12 anos', '13 - 17 anos', '18 - 30 anos', '31 - 49 anos', 'Acima'],\r\n",
        "                                  value =[1,2,3,4,5,6], inplace=True)\r\n",
        "df['outro_idioma'].replace(to_replace = ['Não', 'Sim'], value =[1,2], inplace=True)"
      ],
      "execution_count": 2397,
      "outputs": []
    },
    {
      "cell_type": "code",
      "metadata": {
        "colab": {
          "base_uri": "https://localhost:8080/",
          "height": 821
        },
        "id": "jNZJwa89Y3U2",
        "outputId": "54445ca9-e82e-4e38-88de-35297f7ad31f"
      },
      "source": [
        "#Aplicando a moda em valores nulos nas colunas Idade e Tempo de duração da doença ou trauma\r\n",
        "df['tempo_doenca_trauma']=df['tempo_doenca_trauma'].fillna(df['tempo_doenca_trauma'].mode()[0])\r\n",
        "df['idade_doenca_trauma']=df['idade_doenca_trauma'].fillna(df['idade_doenca_trauma'].mode()[0])\r\n",
        "df.head(10)"
      ],
      "execution_count": 2398,
      "outputs": [
        {
          "output_type": "execute_result",
          "data": {
            "text/html": [
              "<div>\n",
              "<style scoped>\n",
              "    .dataframe tbody tr th:only-of-type {\n",
              "        vertical-align: middle;\n",
              "    }\n",
              "\n",
              "    .dataframe tbody tr th {\n",
              "        vertical-align: top;\n",
              "    }\n",
              "\n",
              "    .dataframe thead th {\n",
              "        text-align: right;\n",
              "    }\n",
              "</style>\n",
              "<table border=\"1\" class=\"dataframe\">\n",
              "  <thead>\n",
              "    <tr style=\"text-align: right;\">\n",
              "      <th></th>\n",
              "      <th>trauma_doenca</th>\n",
              "      <th>idade_doenca_trauma</th>\n",
              "      <th>tempo_doenca_trauma</th>\n",
              "      <th>sexo</th>\n",
              "      <th>uf_nascimento</th>\n",
              "      <th>uf</th>\n",
              "      <th>formacao</th>\n",
              "      <th>escolaridade</th>\n",
              "      <th>estado_civil</th>\n",
              "      <th>religiao</th>\n",
              "      <th>outro_idioma</th>\n",
              "      <th>analise_do_contexto</th>\n",
              "      <th>autoconfianca</th>\n",
              "      <th>autocontrole</th>\n",
              "      <th>conquistar_e_manter_pessoas</th>\n",
              "      <th>empatia</th>\n",
              "      <th>leitura_corporal</th>\n",
              "      <th>otimismo_com_a_vida</th>\n",
              "      <th>sentido_da_vida</th>\n",
              "    </tr>\n",
              "  </thead>\n",
              "  <tbody>\n",
              "    <tr>\n",
              "      <th>0</th>\n",
              "      <td>depressão</td>\n",
              "      <td>5</td>\n",
              "      <td>4</td>\n",
              "      <td>2</td>\n",
              "      <td>SP</td>\n",
              "      <td>SP</td>\n",
              "      <td>Administradora</td>\n",
              "      <td>Pós-Graduação</td>\n",
              "      <td>Casado</td>\n",
              "      <td>Católico</td>\n",
              "      <td>2</td>\n",
              "      <td>Boa no estresse (PC-P)</td>\n",
              "      <td>Fraca no estresse (PC-I)</td>\n",
              "      <td>Fraca no estresse (PC-I)</td>\n",
              "      <td>Boa diante do impacto do estresse (PC-P)</td>\n",
              "      <td>Moderada no estresse (PC-I)</td>\n",
              "      <td>Excelente no estresse</td>\n",
              "      <td>Forte no estresse (PC-P)</td>\n",
              "      <td>Boa no estresse (PC-P)</td>\n",
              "    </tr>\n",
              "    <tr>\n",
              "      <th>1</th>\n",
              "      <td>enfermidade que me levou a 15 dias de hospital...</td>\n",
              "      <td>2</td>\n",
              "      <td>5</td>\n",
              "      <td>1</td>\n",
              "      <td>SP</td>\n",
              "      <td>SP</td>\n",
              "      <td>Arquiteto</td>\n",
              "      <td>Pós-Graduação</td>\n",
              "      <td>Casado</td>\n",
              "      <td>Evangélico</td>\n",
              "      <td>2</td>\n",
              "      <td>Excelente no estresse</td>\n",
              "      <td>Moderada no estresse (PC-I)</td>\n",
              "      <td>Fraca no estresse (PC-I)</td>\n",
              "      <td>Boa diante do impacto do estresse (PC-P)</td>\n",
              "      <td>Boa no estresse (PC-P)</td>\n",
              "      <td>Boa no estresse (PC-P)</td>\n",
              "      <td>Excelente no estresse</td>\n",
              "      <td>Moderada no estresse (PC-P)</td>\n",
              "    </tr>\n",
              "    <tr>\n",
              "      <th>2</th>\n",
              "      <td>Violência dentro de casa</td>\n",
              "      <td>2</td>\n",
              "      <td>5</td>\n",
              "      <td>1</td>\n",
              "      <td>SP</td>\n",
              "      <td>SP</td>\n",
              "      <td>NaN</td>\n",
              "      <td>Superior Completo</td>\n",
              "      <td>Solteiro</td>\n",
              "      <td>Outro</td>\n",
              "      <td>1</td>\n",
              "      <td>Boa no estresse (PC-P)</td>\n",
              "      <td>Forte no estresse (PC-P)</td>\n",
              "      <td>Moderada no estresse (PC-P)</td>\n",
              "      <td>Boa diante do impacto do estresse (PC-P)</td>\n",
              "      <td>Boa no estresse (PC-P)</td>\n",
              "      <td>Moderada no estresse (PC-P)</td>\n",
              "      <td>Excelente no estresse</td>\n",
              "      <td>Boa no estresse (PC-P)</td>\n",
              "    </tr>\n",
              "    <tr>\n",
              "      <th>4</th>\n",
              "      <td>Conhecer a comunidade quilombola Pedro Cubas</td>\n",
              "      <td>3</td>\n",
              "      <td>5</td>\n",
              "      <td>1</td>\n",
              "      <td>SP</td>\n",
              "      <td>SP</td>\n",
              "      <td>NaN</td>\n",
              "      <td>Superior Incompleto</td>\n",
              "      <td>Solteiro</td>\n",
              "      <td>Evangélico</td>\n",
              "      <td>2</td>\n",
              "      <td>Excelente no estresse</td>\n",
              "      <td>Excelente face ao estresse</td>\n",
              "      <td>Excelente no estresse</td>\n",
              "      <td>Excelente face ao impacto do estresse (PC-E)</td>\n",
              "      <td>Forte no estresse (PC-P)</td>\n",
              "      <td>Boa no estresse (PC-P)</td>\n",
              "      <td>Excelente no estresse</td>\n",
              "      <td>Excelente no estresse</td>\n",
              "    </tr>\n",
              "    <tr>\n",
              "      <th>5</th>\n",
              "      <td>Câncer na minha mãe.</td>\n",
              "      <td>3</td>\n",
              "      <td>5</td>\n",
              "      <td>2</td>\n",
              "      <td>SP</td>\n",
              "      <td>SP</td>\n",
              "      <td>Propaganga e Marketing</td>\n",
              "      <td>Superior Completo</td>\n",
              "      <td>Solteiro</td>\n",
              "      <td>Católico</td>\n",
              "      <td>2</td>\n",
              "      <td>Boa no estresse (PC-P)</td>\n",
              "      <td>Boa no estresse (PC-P)</td>\n",
              "      <td>Boa no estresse (PC-P)</td>\n",
              "      <td>Excelente face ao impacto do estresse (PC-E)</td>\n",
              "      <td>Boa no estresse (PC-P)</td>\n",
              "      <td>Boa no estresse (PC-P)</td>\n",
              "      <td>Moderada no estresse (PC-P)</td>\n",
              "      <td>Boa no estresse (PC-P)</td>\n",
              "    </tr>\n",
              "    <tr>\n",
              "      <th>6</th>\n",
              "      <td>cancer maligno na tireoide</td>\n",
              "      <td>5</td>\n",
              "      <td>2</td>\n",
              "      <td>2</td>\n",
              "      <td>SP</td>\n",
              "      <td>SP</td>\n",
              "      <td>NaN</td>\n",
              "      <td>5ª a 9ª série</td>\n",
              "      <td>Casado</td>\n",
              "      <td>Evangélico</td>\n",
              "      <td>1</td>\n",
              "      <td>Excelente no estresse</td>\n",
              "      <td>Excelente face ao estresse</td>\n",
              "      <td>Forte no estresse (PC-I)</td>\n",
              "      <td>Boa face ao impacto do estresse (PC-I)</td>\n",
              "      <td>Boa no estresse (PC-I)</td>\n",
              "      <td>Excelente no estresse</td>\n",
              "      <td>Excelente no estresse</td>\n",
              "      <td>Forte no estresse (PC-P)</td>\n",
              "    </tr>\n",
              "    <tr>\n",
              "      <th>7</th>\n",
              "      <td>Tumor na cabeça</td>\n",
              "      <td>4</td>\n",
              "      <td>5</td>\n",
              "      <td>2</td>\n",
              "      <td>SP</td>\n",
              "      <td>SP</td>\n",
              "      <td>Relações Publicas</td>\n",
              "      <td>Superior Completo</td>\n",
              "      <td>Casado</td>\n",
              "      <td>Outro</td>\n",
              "      <td>1</td>\n",
              "      <td>Forte no estresse (PC-P)</td>\n",
              "      <td>Moderada no estresse (PC-I)</td>\n",
              "      <td>Excelente no estresse</td>\n",
              "      <td>Moderada diante do impacto do estresse (PC-I)</td>\n",
              "      <td>Excelente no estresse</td>\n",
              "      <td>Boa no estresse (PC-I)</td>\n",
              "      <td>Excelente no estresse</td>\n",
              "      <td>Excelente no estresse</td>\n",
              "    </tr>\n",
              "    <tr>\n",
              "      <th>8</th>\n",
              "      <td>Crises familiares e quase separação dos meus pais</td>\n",
              "      <td>4</td>\n",
              "      <td>5</td>\n",
              "      <td>2</td>\n",
              "      <td>SP</td>\n",
              "      <td>SP</td>\n",
              "      <td>PROFESSORA</td>\n",
              "      <td>Superior Completo</td>\n",
              "      <td>Casado</td>\n",
              "      <td>Evangélico</td>\n",
              "      <td>2</td>\n",
              "      <td>Boa no estresse (PC-P)</td>\n",
              "      <td>Fraca no estresse (PC-I)</td>\n",
              "      <td>Excelente no estresse</td>\n",
              "      <td>Forte diante do impacto do estresse (PC-I)</td>\n",
              "      <td>Boa no estresse (PC-I)</td>\n",
              "      <td>Boa no estresse (PC-I)</td>\n",
              "      <td>Moderada no estresse (PC-I)</td>\n",
              "      <td>Fraca no estresse (PC-I)</td>\n",
              "    </tr>\n",
              "    <tr>\n",
              "      <th>9</th>\n",
              "      <td>Desemprego do pai</td>\n",
              "      <td>4</td>\n",
              "      <td>5</td>\n",
              "      <td>1</td>\n",
              "      <td>SP</td>\n",
              "      <td>SP</td>\n",
              "      <td>Comercial</td>\n",
              "      <td>Pós-Graduação</td>\n",
              "      <td>Casado</td>\n",
              "      <td>Evangélico</td>\n",
              "      <td>2</td>\n",
              "      <td>Excelente no estresse</td>\n",
              "      <td>Boa no estresse (PC-P)</td>\n",
              "      <td>Forte no estresse (PC-P)</td>\n",
              "      <td>Moderada diante do impacto do estresse (PC-P)</td>\n",
              "      <td>Moderada no estresse (PC-P)</td>\n",
              "      <td>Boa no estresse (PC-I)</td>\n",
              "      <td>Moderada no estresse (PC-P)</td>\n",
              "      <td>Moderada no estresse (PC-P)</td>\n",
              "    </tr>\n",
              "    <tr>\n",
              "      <th>10</th>\n",
              "      <td>sequestro relâmpago na adolescência</td>\n",
              "      <td>4</td>\n",
              "      <td>3</td>\n",
              "      <td>2</td>\n",
              "      <td>SP</td>\n",
              "      <td>SP</td>\n",
              "      <td>Executiva de Contas (Comercial)</td>\n",
              "      <td>Pós-Graduação</td>\n",
              "      <td>Solteiro</td>\n",
              "      <td>Evangélico</td>\n",
              "      <td>2</td>\n",
              "      <td>Excelente no estresse</td>\n",
              "      <td>Fraca no estresse (PC-I)</td>\n",
              "      <td>Excelente no estresse</td>\n",
              "      <td>Fraca diante do impacto do estresse (PC-I)</td>\n",
              "      <td>Excelente no estresse</td>\n",
              "      <td>Forte no estresse (PC-I)</td>\n",
              "      <td>Excelente no estresse</td>\n",
              "      <td>Moderada no estresse (PC-I)</td>\n",
              "    </tr>\n",
              "  </tbody>\n",
              "</table>\n",
              "</div>"
            ],
            "text/plain": [
              "                                        trauma_doenca  ...              sentido_da_vida\n",
              "0                                           depressão  ...       Boa no estresse (PC-P)\n",
              "1   enfermidade que me levou a 15 dias de hospital...  ...  Moderada no estresse (PC-P)\n",
              "2                            Violência dentro de casa  ...       Boa no estresse (PC-P)\n",
              "4        Conhecer a comunidade quilombola Pedro Cubas  ...        Excelente no estresse\n",
              "5                                Câncer na minha mãe.  ...       Boa no estresse (PC-P)\n",
              "6                          cancer maligno na tireoide  ...     Forte no estresse (PC-P)\n",
              "7                                     Tumor na cabeça  ...        Excelente no estresse\n",
              "8   Crises familiares e quase separação dos meus pais  ...     Fraca no estresse (PC-I)\n",
              "9                                   Desemprego do pai  ...  Moderada no estresse (PC-P)\n",
              "10                sequestro relâmpago na adolescência  ...  Moderada no estresse (PC-I)\n",
              "\n",
              "[10 rows x 19 columns]"
            ]
          },
          "metadata": {
            "tags": []
          },
          "execution_count": 2398
        }
      ]
    },
    {
      "cell_type": "markdown",
      "metadata": {
        "id": "Xa3S5D_kWNzx"
      },
      "source": [
        "**Padronização do dataframe**\r\n"
      ]
    },
    {
      "cell_type": "code",
      "metadata": {
        "colab": {
          "base_uri": "https://localhost:8080/",
          "height": 380
        },
        "id": "dxr7eHYxmk-K",
        "outputId": "2f922b5d-5994-4d95-946c-ec753a341fb4"
      },
      "source": [
        "#Padronizando dataframe em minúsculo e sem acentuação\n",
        "\n",
        "for column in df.columns:\n",
        "  df[column] = df[column].astype(str).str.lower()\n",
        "  \n",
        "cols = df.select_dtypes(include=[np.object]).columns\n",
        "df[cols] = df[cols].apply(lambda x: x.str.normalize('NFKD').str.encode('ascii', errors='ignore').str.decode('utf-8'))\n",
        "df.head(4)"
      ],
      "execution_count": 2399,
      "outputs": [
        {
          "output_type": "execute_result",
          "data": {
            "text/html": [
              "<div>\n",
              "<style scoped>\n",
              "    .dataframe tbody tr th:only-of-type {\n",
              "        vertical-align: middle;\n",
              "    }\n",
              "\n",
              "    .dataframe tbody tr th {\n",
              "        vertical-align: top;\n",
              "    }\n",
              "\n",
              "    .dataframe thead th {\n",
              "        text-align: right;\n",
              "    }\n",
              "</style>\n",
              "<table border=\"1\" class=\"dataframe\">\n",
              "  <thead>\n",
              "    <tr style=\"text-align: right;\">\n",
              "      <th></th>\n",
              "      <th>trauma_doenca</th>\n",
              "      <th>idade_doenca_trauma</th>\n",
              "      <th>tempo_doenca_trauma</th>\n",
              "      <th>sexo</th>\n",
              "      <th>uf_nascimento</th>\n",
              "      <th>uf</th>\n",
              "      <th>formacao</th>\n",
              "      <th>escolaridade</th>\n",
              "      <th>estado_civil</th>\n",
              "      <th>religiao</th>\n",
              "      <th>outro_idioma</th>\n",
              "      <th>analise_do_contexto</th>\n",
              "      <th>autoconfianca</th>\n",
              "      <th>autocontrole</th>\n",
              "      <th>conquistar_e_manter_pessoas</th>\n",
              "      <th>empatia</th>\n",
              "      <th>leitura_corporal</th>\n",
              "      <th>otimismo_com_a_vida</th>\n",
              "      <th>sentido_da_vida</th>\n",
              "    </tr>\n",
              "  </thead>\n",
              "  <tbody>\n",
              "    <tr>\n",
              "      <th>0</th>\n",
              "      <td>depressao</td>\n",
              "      <td>5</td>\n",
              "      <td>4</td>\n",
              "      <td>2</td>\n",
              "      <td>sp</td>\n",
              "      <td>sp</td>\n",
              "      <td>administradora</td>\n",
              "      <td>pos-graduacao</td>\n",
              "      <td>casado</td>\n",
              "      <td>catolico</td>\n",
              "      <td>2</td>\n",
              "      <td>boa no estresse (pc-p)</td>\n",
              "      <td>fraca no estresse (pc-i)</td>\n",
              "      <td>fraca no estresse (pc-i)</td>\n",
              "      <td>boa diante do impacto do estresse (pc-p)</td>\n",
              "      <td>moderada no estresse (pc-i)</td>\n",
              "      <td>excelente no estresse</td>\n",
              "      <td>forte no estresse (pc-p)</td>\n",
              "      <td>boa no estresse (pc-p)</td>\n",
              "    </tr>\n",
              "    <tr>\n",
              "      <th>1</th>\n",
              "      <td>enfermidade que me levou a 15 dias de hospital...</td>\n",
              "      <td>2</td>\n",
              "      <td>5</td>\n",
              "      <td>1</td>\n",
              "      <td>sp</td>\n",
              "      <td>sp</td>\n",
              "      <td>arquiteto</td>\n",
              "      <td>pos-graduacao</td>\n",
              "      <td>casado</td>\n",
              "      <td>evangelico</td>\n",
              "      <td>2</td>\n",
              "      <td>excelente no estresse</td>\n",
              "      <td>moderada no estresse (pc-i)</td>\n",
              "      <td>fraca no estresse (pc-i)</td>\n",
              "      <td>boa diante do impacto do estresse (pc-p)</td>\n",
              "      <td>boa no estresse (pc-p)</td>\n",
              "      <td>boa no estresse (pc-p)</td>\n",
              "      <td>excelente no estresse</td>\n",
              "      <td>moderada no estresse (pc-p)</td>\n",
              "    </tr>\n",
              "    <tr>\n",
              "      <th>2</th>\n",
              "      <td>violencia dentro de casa</td>\n",
              "      <td>2</td>\n",
              "      <td>5</td>\n",
              "      <td>1</td>\n",
              "      <td>sp</td>\n",
              "      <td>sp</td>\n",
              "      <td>nan</td>\n",
              "      <td>superior completo</td>\n",
              "      <td>solteiro</td>\n",
              "      <td>outro</td>\n",
              "      <td>1</td>\n",
              "      <td>boa no estresse (pc-p)</td>\n",
              "      <td>forte no estresse (pc-p)</td>\n",
              "      <td>moderada no estresse (pc-p)</td>\n",
              "      <td>boa diante do impacto do estresse (pc-p)</td>\n",
              "      <td>boa no estresse (pc-p)</td>\n",
              "      <td>moderada no estresse (pc-p)</td>\n",
              "      <td>excelente no estresse</td>\n",
              "      <td>boa no estresse (pc-p)</td>\n",
              "    </tr>\n",
              "    <tr>\n",
              "      <th>4</th>\n",
              "      <td>conhecer a comunidade quilombola pedro cubas</td>\n",
              "      <td>3</td>\n",
              "      <td>5</td>\n",
              "      <td>1</td>\n",
              "      <td>sp</td>\n",
              "      <td>sp</td>\n",
              "      <td>nan</td>\n",
              "      <td>superior incompleto</td>\n",
              "      <td>solteiro</td>\n",
              "      <td>evangelico</td>\n",
              "      <td>2</td>\n",
              "      <td>excelente no estresse</td>\n",
              "      <td>excelente face ao estresse</td>\n",
              "      <td>excelente no estresse</td>\n",
              "      <td>excelente face ao impacto do estresse (pc-e)</td>\n",
              "      <td>forte no estresse (pc-p)</td>\n",
              "      <td>boa no estresse (pc-p)</td>\n",
              "      <td>excelente no estresse</td>\n",
              "      <td>excelente no estresse</td>\n",
              "    </tr>\n",
              "  </tbody>\n",
              "</table>\n",
              "</div>"
            ],
            "text/plain": [
              "                                       trauma_doenca  ...              sentido_da_vida\n",
              "0                                          depressao  ...       boa no estresse (pc-p)\n",
              "1  enfermidade que me levou a 15 dias de hospital...  ...  moderada no estresse (pc-p)\n",
              "2                           violencia dentro de casa  ...       boa no estresse (pc-p)\n",
              "4       conhecer a comunidade quilombola pedro cubas  ...        excelente no estresse\n",
              "\n",
              "[4 rows x 19 columns]"
            ]
          },
          "metadata": {
            "tags": []
          },
          "execution_count": 2399
        }
      ]
    },
    {
      "cell_type": "markdown",
      "metadata": {
        "id": "Abwx6WgcLD6_"
      },
      "source": [
        "**Padronizando coluna \"Trauma ou Doença\"**"
      ]
    },
    {
      "cell_type": "code",
      "metadata": {
        "id": "NIWpw-BwRjtP"
      },
      "source": [
        "stopwords = ['a', 'minha', 'que', 'me', 'de', 'e', 'na', 'quase', 'dos', 'do', 'meus', 'da', 'aos', 'um', 'numa', 'teve', 'enquanto', 'meu', \r\n",
        "             'sem', 'no', 'para', 'primeira', 'com', 'muito', 'fui', 'durante', 'uma', 'em', 'por', 'o', 'quando', 'eu', 'tive']"
      ],
      "execution_count": 2400,
      "outputs": []
    },
    {
      "cell_type": "code",
      "metadata": {
        "id": "-E5UIeKt5N9m"
      },
      "source": [
        "def removestopword (texto):\r\n",
        "  semstop = [p for p in texto.split() if p not in stopwords]\r\n",
        "  return ' '.join(semstop)"
      ],
      "execution_count": 2401,
      "outputs": []
    },
    {
      "cell_type": "code",
      "metadata": {
        "id": "jppatKt86Ub7"
      },
      "source": [
        "df['trauma_doenca'] = df['trauma_doenca'].apply(removestopword)"
      ],
      "execution_count": 2402,
      "outputs": []
    },
    {
      "cell_type": "code",
      "metadata": {
        "id": "8y0Ka6oEIU-x"
      },
      "source": [
        "CATEGORIAS = {'acidente': ['acidente', 'acicente', 'queda', 'capotamento', 'atrolepamento', 'batida', 'atropelamento', 'afogamento', 'carro', 'moto',\r\n",
        "              'atropelado'],\r\n",
        "\r\n",
        "              'vicios': ['alcool', 'bebida', 'alcolismo', 'alcoolismo', 'drogas', 'vicio'],\r\n",
        "\r\n",
        "              'violencia domestica ou urbana': ['violencia', 'VIOLÊNCIA', 'violência', 'sequestro', 'arma', 'baleado', 'assassinato', 'agressor',\r\n",
        "              'assalto', 'assaltada', 'pedofilia', 'estupro', 'abuso', 'abusado'],\r\n",
        "\r\n",
        "              'doencas leves ou virais': ['enfermidade', 'pneumonia', 'tumor', 'labirintite', 'corte', 'cirurgia', \r\n",
        "              'vesicula', 'queimadura', 'fratura', 'chron', 'hernia', 'hepatite', 'disco', 'bronquite', 'apendicite', 'caxumba', 'tireoide',\r\n",
        "              'hipertensao', 'torci', 'artrodese', 'gordura', 'lesao', 'sarampo', 'narcolepsia', 'tenorrafia', 'disfuncao', 'condropatia',\r\n",
        "              'asma', 'dor', 'gastrite', 'internacao', 'infarto', 'febre', 'meningite', 'obesidade', 'alzhimer', 'anemia', 'neurolofica',\r\n",
        "              'neurologico', 'doenca', 'avc', 'visicula', 'ernia', 'cardiaco', 'edema', 'presao', 'tibia', 'renal', 'operacao', 'braco', 'adoecimento',\r\n",
        "              'basite', 'lombares', 'dengue', 'coluna', 'menigite', 'audicao', 'infeccao', 'pericardite', 'catarata', ' inflamacao',\r\n",
        "              'operei', 'convulsao', 'abcesso', 'artrite', 'trombose', 'catapora', 'infarte', 'epilepsia', 'torcao', 'deslocar', 'inflamacao', 'renais',\r\n",
        "              'quebrei', 'tireoide', 'micose', 'clavicula', 'fraturei', 'diabete', 'prielonefrite', 'rcp', 'cisto', 'amputacao', 'toxoplasmose',\r\n",
        "              'comvulcao', 'hemorragia', 'derbuculoce', 'deboculose', 'operasao', 'viral', 'virus', 'internado', 'toc', 'traumatismo', 'alergia',\r\n",
        "              'enxaqueca', 'apendice', 'verme', 'visual', 'pylori', 'cardiaca', 'garganta', 'cicatriz', 'sifiles', 'bacteria',\r\n",
        "              'gagueira', 'salmonela', 'eclampsia', 'retina', 'gripe', 'taquicardia', 'ictiose', 'entalado', 'endometriose', 'denque', 'quebraduras', \r\n",
        "              'quebrado', 'osso', 'quebrar', 'joelho', 'tornozelo'],\r\n",
        "\r\n",
        "              'doencas graves': ['cancer', 'hiv', 'tuberculose',  'cardiopatia', 'esclerose'],\r\n",
        "\r\n",
        "              'divorcio': ['separacao', 'divorcio', 'separaram', 'conjugal', 'relacionamento', 'traicao'],\r\n",
        "\r\n",
        "              'morte': ['falecimento', 'morte', 'falaceu', 'ente', 'perdas', 'perda', 'obito', 'perca', 'perde', 'falecido'],\r\n",
        "\r\n",
        "              'transtornos ou sindromes': ['ansiedade', 'depressao', 'panico', 'estresse', 'traumatico', 'suicidio', 'disturbio', 'perdi', 'mutilacoes',\r\n",
        "              'sociais', 'rejeicao', 'burnout', 'bulimia'],\r\n",
        "\r\n",
        "              'gravidez/maternidade': ['gravidez', 'aborto', 'feto'],\r\n",
        "\r\n",
        "              'outros': ['trabalho', 'escola', 'vestibular', 'preso', 'financeiras', 'desemprego', 'desligado', 'interpessoais', 'namoro', 'nenhuma resposta',\r\n",
        "                         'nenhuma', 'nenhum', 'nao houve', '2010', 'nao considero', 'nada', 'nao ha', 'nao recordo', 'ca', 'i', 'nao', '']}"
      ],
      "execution_count": 2403,
      "outputs": []
    },
    {
      "cell_type": "code",
      "metadata": {
        "colab": {
          "base_uri": "https://localhost:8080/"
        },
        "id": "wgbICJN3hxsm",
        "outputId": "bc97e292-0474-43c5-ff73-cd9d658bd76a"
      },
      "source": [
        "CATEGORIAS.keys()"
      ],
      "execution_count": 2404,
      "outputs": [
        {
          "output_type": "execute_result",
          "data": {
            "text/plain": [
              "dict_keys(['acidente', 'vicios', 'violencia domestica ou urbana', 'doencas leves ou virais', 'doencas graves', 'divorcio', 'morte', 'transtornos ou sindromes', 'gravidez/maternidade', 'outros'])"
            ]
          },
          "metadata": {
            "tags": []
          },
          "execution_count": 2404
        }
      ]
    },
    {
      "cell_type": "code",
      "metadata": {
        "id": "qpm6m1v0ewCq"
      },
      "source": [
        "def procurar_palavra(lista_palavras, sentenca):\r\n",
        "  palavra_presente=False\r\n",
        "  for palavra in lista_palavras:\r\n",
        "    if palavra in sentenca:\r\n",
        "      palavra_presente=True\r\n",
        "  return palavra_presente\r\n",
        "\r\n",
        "def mapear_categoria(sentenca):\r\n",
        "  for cat in CATEGORIAS.keys():\r\n",
        "    if procurar_palavra(CATEGORIAS[cat], sentenca):\r\n",
        "      return cat \r\n",
        "  return sentenca"
      ],
      "execution_count": 2405,
      "outputs": []
    },
    {
      "cell_type": "code",
      "metadata": {
        "colab": {
          "base_uri": "https://localhost:8080/",
          "height": 35
        },
        "id": "p5sz1aZLg4Tn",
        "outputId": "2bcfbeb9-aaca-4195-cdd3-088b36ca8b8c"
      },
      "source": [
        "sentenca = 'violencia dentro casa'\r\n",
        "mapear_categoria(sentenca)"
      ],
      "execution_count": 2406,
      "outputs": [
        {
          "output_type": "execute_result",
          "data": {
            "application/vnd.google.colaboratory.intrinsic+json": {
              "type": "string"
            },
            "text/plain": [
              "'violencia domestica ou urbana'"
            ]
          },
          "metadata": {
            "tags": []
          },
          "execution_count": 2406
        }
      ]
    },
    {
      "cell_type": "code",
      "metadata": {
        "id": "Mkgi73O2hVKN"
      },
      "source": [
        "df['trauma_doenca'] = df['trauma_doenca'].apply(mapear_categoria)"
      ],
      "execution_count": 2407,
      "outputs": []
    },
    {
      "cell_type": "markdown",
      "metadata": {
        "id": "Yt-79efvavuR"
      },
      "source": [
        "**Padronizando coluna \"Formação\"**\r\n",
        "\r\n"
      ]
    },
    {
      "cell_type": "code",
      "metadata": {
        "id": "yF-JCiE6Q3JS"
      },
      "source": [
        "df['formacao'] = df['formacao'].apply(removestopword)"
      ],
      "execution_count": 2408,
      "outputs": []
    },
    {
      "cell_type": "code",
      "metadata": {
        "id": "sDIfrJTSbHkA"
      },
      "source": [
        "CAT_FORMACAO = {'militar': ['militar', 'molitar', 'bombeito', 'bombeiro', 'bombeira', 'bombeiros', 'oficial', 'defesa civil', 'bm', 'seguranca', 'cbmdf'],\r\n",
        "                'administracao de empresas': ['administradora', 'administracao', 'administrador', 'adm', 'rh', 'empresarial', 'empresaria', 'aministracao',\r\n",
        "                'secretaria', 'empresario', 'escritorio', 'negocios', 'secretariado', 'recursos humanos', 'internacionais', 'gestao'],\r\n",
        "                'comunicacao': ['propaganga', 'marketing', 'relacoes publicas', 'comunicacao', 'grafica', 'artes', 'designer', 'publicitario', 'publicitaria',\r\n",
        "                                'fotografo', 'comunicadora', 'jornalismo', 'telecomunicacoes', 'radiologia', 'jornalista', 'imprensa', 'artes', 'design',\r\n",
        "                                'publicidade'],\r\n",
        "                'pedagogia': ['professor', 'professora', 'pedagogia', 'letras', 'pedagogo', 'pedagoga'],\r\n",
        "                'ciencias contabeis': ['contador', 'contadora', 'contabeis', 'economicas', 'contabil', 'contabilista'],\r\n",
        "                'saude': ['medico', 'medica', 'medicina', 'enfermeiro', 'enfermeira', 'enfermagem', 'nutricionista', 'nutricao', 'neurocirurgiao',\r\n",
        "                          'farmaceutica', 'clinica', 'biomedicina', 'cirurgia', 'optometria'],\r\n",
        "                'arquitetura': ['arquiteto', 'arquiteta', 'arquitetura'],\r\n",
        "                'filosofia': ['filosofia', 'filosofo', 'filosofa'],\r\n",
        "                'fisica': ['fisico'],\r\n",
        "                'historia': ['historia'],\r\n",
        "                'geografia': ['geografo', 'geografia'],\r\n",
        "                'quimica': ['quimica', 'quimico'],\r\n",
        "                'engenharia': ['engenharia', 'engenheiro', 'engenheira', 'eng'],\r\n",
        "                'estudante': ['estudante', 'estudanta', 'estudanti', 'estudar', 'escola'],\r\n",
        "                'psicologia': ['psicologa', 'psicologo', 'psicologia', 'psicanalista', 'terapia'],\r\n",
        "                'economia': ['economia', 'financas', 'economista', 'estatistico'],\r\n",
        "                'direito': ['advoga', 'advocacia', 'direito', 'advogada', 'advogado'],\r\n",
        "                'tecnologia': ['ti', 'informatica', 'computacao', 'redes', 'sistemas', 'informacao', 'dados', 'sistema', 'desenvolvedor'],\r\n",
        "                'outras areas': ['comercial', 'compradora', 'contas', 'odontologia', 'odontologia', 'testador quest', 'metalurgico', 'ambiental', 'pos',\r\n",
        "                                 'grau', 'escultor', 'turimologa', 'turismologo', 'oceanografa', 'assistente', 'superior', 'seminarista', 'agro',\r\n",
        "                                 'elitricista', 'logistica', 'gastronomia', 'aprendiz', 'mallet', 'operacoes', 'vendas', 'musico', 'coml', 'podologa',\r\n",
        "                                 'manicure', 'corretora', 'bancario', 'gerente', 'massoterapeuta', 'biologo', 'biologia', 'turismo', 'arte', 'mecanico',\r\n",
        "                                 'mecanica', 'fisioterapeuta', 'juridica', 'educador fisico', 'educacao fisica', 'operadora', 'vendedora', 'eletronica',\r\n",
        "                                 'cfo', 'teologia', 'funcionario', 'qualidade', 'teologo', 'condutor.', 'pianista', 'funcionaria', 'nao', 'n', \r\n",
        "                                 'nenhuma', 'nenhum']}"
      ],
      "execution_count": 2409,
      "outputs": []
    },
    {
      "cell_type": "code",
      "metadata": {
        "colab": {
          "base_uri": "https://localhost:8080/"
        },
        "id": "popFMoeobTfv",
        "outputId": "970aca51-4778-423a-94fb-218b3f441c8a"
      },
      "source": [
        "CAT_FORMACAO.keys()"
      ],
      "execution_count": 2410,
      "outputs": [
        {
          "output_type": "execute_result",
          "data": {
            "text/plain": [
              "dict_keys(['militar', 'administracao de empresas', 'comunicacao', 'pedagogia', 'ciencias contabeis', 'saude', 'arquitetura', 'filosofia', 'fisica', 'historia', 'geografia', 'quimica', 'engenharia', 'estudante', 'psicologia', 'economia', 'direito', 'tecnologia', 'outras areas'])"
            ]
          },
          "metadata": {
            "tags": []
          },
          "execution_count": 2410
        }
      ]
    },
    {
      "cell_type": "code",
      "metadata": {
        "id": "dx5faX78bWg0"
      },
      "source": [
        "def procurar_palavra(lista_palavras, sentenca_form):\r\n",
        "  palavra_presente=False\r\n",
        "  for palavra in lista_palavras:\r\n",
        "    if palavra in sentenca_form:\r\n",
        "      palavra_presente=True\r\n",
        "  return palavra_presente\r\n",
        "\r\n",
        "def mapear_categoria(sentenca_form):\r\n",
        "  for cat in CAT_FORMACAO.keys():\r\n",
        "    if procurar_palavra(CAT_FORMACAO[cat], sentenca_form):\r\n",
        "      return cat \r\n",
        "  return sentenca_form"
      ],
      "execution_count": 2411,
      "outputs": []
    },
    {
      "cell_type": "code",
      "metadata": {
        "colab": {
          "base_uri": "https://localhost:8080/",
          "height": 35
        },
        "id": "QTzET7mLbaDd",
        "outputId": "8d7b2cbc-3934-4c82-ccd9-fb4454e63f33"
      },
      "source": [
        "sentenca = 'violencia dentro casa'\r\n",
        "mapear_categoria(sentenca)"
      ],
      "execution_count": 2412,
      "outputs": [
        {
          "output_type": "execute_result",
          "data": {
            "application/vnd.google.colaboratory.intrinsic+json": {
              "type": "string"
            },
            "text/plain": [
              "'outras areas'"
            ]
          },
          "metadata": {
            "tags": []
          },
          "execution_count": 2412
        }
      ]
    },
    {
      "cell_type": "code",
      "metadata": {
        "id": "FBe7I50qbfzt"
      },
      "source": [
        "df['formacao'] = df['formacao'].apply(mapear_categoria)"
      ],
      "execution_count": 2413,
      "outputs": []
    },
    {
      "cell_type": "code",
      "metadata": {
        "colab": {
          "base_uri": "https://localhost:8080/"
        },
        "id": "ZpFqmIIQckAj",
        "outputId": "7f95239d-8789-4c3f-d7e5-ae2b3d73bbbd"
      },
      "source": [
        "df.info()"
      ],
      "execution_count": 2414,
      "outputs": [
        {
          "output_type": "stream",
          "text": [
            "<class 'pandas.core.frame.DataFrame'>\n",
            "Int64Index: 2103 entries, 0 to 2740\n",
            "Data columns (total 19 columns):\n",
            " #   Column                       Non-Null Count  Dtype \n",
            "---  ------                       --------------  ----- \n",
            " 0   trauma_doenca                2103 non-null   object\n",
            " 1   idade_doenca_trauma          2103 non-null   object\n",
            " 2   tempo_doenca_trauma          2103 non-null   object\n",
            " 3   sexo                         2103 non-null   object\n",
            " 4   uf_nascimento                2103 non-null   object\n",
            " 5   uf                           2103 non-null   object\n",
            " 6   formacao                     2103 non-null   object\n",
            " 7   escolaridade                 2103 non-null   object\n",
            " 8   estado_civil                 2103 non-null   object\n",
            " 9   religiao                     2103 non-null   object\n",
            " 10  outro_idioma                 2103 non-null   object\n",
            " 11  analise_do_contexto          2103 non-null   object\n",
            " 12  autoconfianca                2103 non-null   object\n",
            " 13  autocontrole                 2103 non-null   object\n",
            " 14  conquistar_e_manter_pessoas  2103 non-null   object\n",
            " 15  empatia                      2103 non-null   object\n",
            " 16  leitura_corporal             2103 non-null   object\n",
            " 17  otimismo_com_a_vida          2103 non-null   object\n",
            " 18  sentido_da_vida              2103 non-null   object\n",
            "dtypes: object(19)\n",
            "memory usage: 328.6+ KB\n"
          ],
          "name": "stdout"
        }
      ]
    },
    {
      "cell_type": "code",
      "metadata": {
        "id": "wDn3CsN5c7F6"
      },
      "source": [
        ""
      ],
      "execution_count": 2414,
      "outputs": []
    }
  ]
}