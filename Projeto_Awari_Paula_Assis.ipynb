{
  "nbformat": 4,
  "nbformat_minor": 0,
  "metadata": {
    "colab": {
      "name": "Projeto Awari - Paula Assis.ipynb",
      "provenance": [],
      "mount_file_id": "133Ub0WhxuzQdt5mU67TDGsmuhKAKROLD",
      "authorship_tag": "ABX9TyMjj7reR5OWr9Sq6ljv887t",
      "include_colab_link": true
    },
    "kernelspec": {
      "name": "python3",
      "display_name": "Python 3"
    }
  },
  "cells": [
    {
      "cell_type": "markdown",
      "metadata": {
        "id": "view-in-github",
        "colab_type": "text"
      },
      "source": [
        "<a href=\"https://colab.research.google.com/github/paulaassisb/projeto-final-ds-awari/blob/main/Projeto_Awari_Paula_Assis.ipynb\" target=\"_parent\"><img src=\"https://colab.research.google.com/assets/colab-badge.svg\" alt=\"Open In Colab\"/></a>"
      ]
    },
    {
      "cell_type": "code",
      "metadata": {
        "id": "4pOl2MQF0_t7"
      },
      "source": [
        "## Importação de bibliotecas\n",
        "import pandas as pd\n",
        "from pandas import Series,DataFrame\n",
        "import numpy as np\n",
        "import re\n",
        "import unicodedata\n",
        "from nltk.corpus import stopwords\n",
        "from sklearn.preprocessing import LabelEncoder\n",
        "## import matplotlib.pyplot as plt"
      ],
      "execution_count": 697,
      "outputs": []
    },
    {
      "cell_type": "code",
      "metadata": {
        "colab": {
          "base_uri": "https://localhost:8080/"
        },
        "id": "SeapCwKX2xKM",
        "outputId": "c877b76b-d273-4fe5-dd45-2704b00c362d"
      },
      "source": [
        "## Importando arquivo da coleta de dados\n",
        "url = 'https://raw.githubusercontent.com/paulaassisb/projeto-final-ds-awari/main/coleta_dados_quest_projeto_final.csv'\n",
        "dados_quest = pd.read_csv(url)\n",
        "print(f'Número de linhas: {len(dados_quest)}')\n",
        "print(f'Número de colunas: {len(dados_quest.columns)}')\n"
      ],
      "execution_count": 698,
      "outputs": [
        {
          "output_type": "stream",
          "text": [
            "Número de linhas: 2780\n",
            "Número de colunas: 21\n"
          ],
          "name": "stdout"
        }
      ]
    },
    {
      "cell_type": "code",
      "metadata": {
        "id": "S_RMOM4j3dg1"
      },
      "source": [
        "## Transformando em DataFrame para visualização e manipulação dos dados\n",
        "df = pd.DataFrame(dados_quest)"
      ],
      "execution_count": 699,
      "outputs": []
    },
    {
      "cell_type": "code",
      "metadata": {
        "id": "Beh6Midb7_BV",
        "colab": {
          "base_uri": "https://localhost:8080/",
          "height": 547
        },
        "outputId": "ec3fe18e-37c4-4d32-ac8a-2886e43a8b9d"
      },
      "source": [
        "df.head()"
      ],
      "execution_count": 700,
      "outputs": [
        {
          "output_type": "execute_result",
          "data": {
            "text/html": [
              "<div>\n",
              "<style scoped>\n",
              "    .dataframe tbody tr th:only-of-type {\n",
              "        vertical-align: middle;\n",
              "    }\n",
              "\n",
              "    .dataframe tbody tr th {\n",
              "        vertical-align: top;\n",
              "    }\n",
              "\n",
              "    .dataframe thead th {\n",
              "        text-align: right;\n",
              "    }\n",
              "</style>\n",
              "<table border=\"1\" class=\"dataframe\">\n",
              "  <thead>\n",
              "    <tr style=\"text-align: right;\">\n",
              "      <th></th>\n",
              "      <th>Numero do Sujeito</th>\n",
              "      <th>1a. Doença</th>\n",
              "      <th>Idade 1a. Doença</th>\n",
              "      <th>Tempo 1a Doença</th>\n",
              "      <th>Sexo</th>\n",
              "      <th>UF Nascimento</th>\n",
              "      <th>UF</th>\n",
              "      <th>Formação</th>\n",
              "      <th>Atividade</th>\n",
              "      <th>Escolaridade</th>\n",
              "      <th>Estado Civil</th>\n",
              "      <th>Religião</th>\n",
              "      <th>Outro Idioma</th>\n",
              "      <th>Análise do Contexto</th>\n",
              "      <th>Autoconfiança</th>\n",
              "      <th>Autocontrole</th>\n",
              "      <th>Conquistar e Manter Pessoas</th>\n",
              "      <th>Empatia</th>\n",
              "      <th>Leitura Corporal</th>\n",
              "      <th>Otimismo com a Vida</th>\n",
              "      <th>Sentido da Vida</th>\n",
              "    </tr>\n",
              "  </thead>\n",
              "  <tbody>\n",
              "    <tr>\n",
              "      <th>0</th>\n",
              "      <td>13531</td>\n",
              "      <td>depressão</td>\n",
              "      <td>31 - 49 anos</td>\n",
              "      <td>Um ano</td>\n",
              "      <td>Feminino</td>\n",
              "      <td>SP</td>\n",
              "      <td>SP</td>\n",
              "      <td>Administradora</td>\n",
              "      <td>Gerente de Compras</td>\n",
              "      <td>Pós-Graduação</td>\n",
              "      <td>Casado</td>\n",
              "      <td>Católico</td>\n",
              "      <td>Sim</td>\n",
              "      <td>Boa no estresse (PC-P)</td>\n",
              "      <td>Fraca no estresse (PC-I)</td>\n",
              "      <td>Fraca no estresse (PC-I)</td>\n",
              "      <td>Boa diante do impacto do estresse (PC-P)</td>\n",
              "      <td>Moderada no estresse (PC-I)</td>\n",
              "      <td>Excelente no estresse</td>\n",
              "      <td>Forte no estresse (PC-P)</td>\n",
              "      <td>Boa no estresse (PC-P)</td>\n",
              "    </tr>\n",
              "    <tr>\n",
              "      <th>1</th>\n",
              "      <td>13532</td>\n",
              "      <td>enfermidade que me levou a 15 dias de hospital...</td>\n",
              "      <td>7 - 12 anos</td>\n",
              "      <td>Mais de um ano</td>\n",
              "      <td>Masculino</td>\n",
              "      <td>SP</td>\n",
              "      <td>SP</td>\n",
              "      <td>Arquiteto</td>\n",
              "      <td>NaN</td>\n",
              "      <td>Pós-Graduação</td>\n",
              "      <td>Casado</td>\n",
              "      <td>Evangélico</td>\n",
              "      <td>Sim</td>\n",
              "      <td>Excelente no estresse</td>\n",
              "      <td>Moderada no estresse (PC-I)</td>\n",
              "      <td>Fraca no estresse (PC-I)</td>\n",
              "      <td>Boa diante do impacto do estresse (PC-P)</td>\n",
              "      <td>Boa no estresse (PC-P)</td>\n",
              "      <td>Boa no estresse (PC-P)</td>\n",
              "      <td>Excelente no estresse</td>\n",
              "      <td>Moderada no estresse (PC-P)</td>\n",
              "    </tr>\n",
              "    <tr>\n",
              "      <th>2</th>\n",
              "      <td>13533</td>\n",
              "      <td>Violência dentro de casa</td>\n",
              "      <td>7 - 12 anos</td>\n",
              "      <td>Mais de um ano</td>\n",
              "      <td>Masculino</td>\n",
              "      <td>SP</td>\n",
              "      <td>SP</td>\n",
              "      <td>NaN</td>\n",
              "      <td>Pesquisa e leitura de livros</td>\n",
              "      <td>Superior Completo</td>\n",
              "      <td>Solteiro</td>\n",
              "      <td>Outro</td>\n",
              "      <td>Não</td>\n",
              "      <td>Boa no estresse (PC-P)</td>\n",
              "      <td>Forte no estresse (PC-P)</td>\n",
              "      <td>Moderada no estresse (PC-P)</td>\n",
              "      <td>Boa diante do impacto do estresse (PC-P)</td>\n",
              "      <td>Boa no estresse (PC-P)</td>\n",
              "      <td>Moderada no estresse (PC-P)</td>\n",
              "      <td>Excelente no estresse</td>\n",
              "      <td>Boa no estresse (PC-P)</td>\n",
              "    </tr>\n",
              "    <tr>\n",
              "      <th>3</th>\n",
              "      <td>13534</td>\n",
              "      <td>NaN</td>\n",
              "      <td>NaN</td>\n",
              "      <td>NaN</td>\n",
              "      <td>Masculino</td>\n",
              "      <td>SP</td>\n",
              "      <td>SP</td>\n",
              "      <td>Administração de Empresas</td>\n",
              "      <td>Analista de Mercado</td>\n",
              "      <td>Superior Completo</td>\n",
              "      <td>Solteiro</td>\n",
              "      <td>Evangélico</td>\n",
              "      <td>Sim</td>\n",
              "      <td>Excelente no estresse</td>\n",
              "      <td>Fraca no estresse (PC-I)</td>\n",
              "      <td>Fraca no estresse (PC-I)</td>\n",
              "      <td>Forte diante do impacto do estresse (PC-P)</td>\n",
              "      <td>Excelente no estresse</td>\n",
              "      <td>Boa no estresse (PC-P)</td>\n",
              "      <td>Boa no estresse (PC-P)</td>\n",
              "      <td>Boa no estresse (PC-P)</td>\n",
              "    </tr>\n",
              "    <tr>\n",
              "      <th>4</th>\n",
              "      <td>13535</td>\n",
              "      <td>Conhecer a comunidade quilombola Pedro Cubas</td>\n",
              "      <td>13 - 17 anos</td>\n",
              "      <td>Mais de um ano</td>\n",
              "      <td>Masculino</td>\n",
              "      <td>SP</td>\n",
              "      <td>SP</td>\n",
              "      <td>NaN</td>\n",
              "      <td>NaN</td>\n",
              "      <td>Superior Incompleto</td>\n",
              "      <td>Solteiro</td>\n",
              "      <td>Evangélico</td>\n",
              "      <td>Sim</td>\n",
              "      <td>Excelente no estresse</td>\n",
              "      <td>Excelente face ao estresse</td>\n",
              "      <td>Excelente no estresse</td>\n",
              "      <td>Excelente face ao impacto do estresse (PC-E)</td>\n",
              "      <td>Forte no estresse (PC-P)</td>\n",
              "      <td>Boa no estresse (PC-P)</td>\n",
              "      <td>Excelente no estresse</td>\n",
              "      <td>Excelente no estresse</td>\n",
              "    </tr>\n",
              "  </tbody>\n",
              "</table>\n",
              "</div>"
            ],
            "text/plain": [
              "   Numero do Sujeito  ...              Sentido da Vida\n",
              "0              13531  ...       Boa no estresse (PC-P)\n",
              "1              13532  ...  Moderada no estresse (PC-P)\n",
              "2              13533  ...       Boa no estresse (PC-P)\n",
              "3              13534  ...       Boa no estresse (PC-P)\n",
              "4              13535  ...        Excelente no estresse\n",
              "\n",
              "[5 rows x 21 columns]"
            ]
          },
          "metadata": {
            "tags": []
          },
          "execution_count": 700
        }
      ]
    },
    {
      "cell_type": "code",
      "metadata": {
        "colab": {
          "base_uri": "https://localhost:8080/"
        },
        "id": "gFSeagyZE29i",
        "outputId": "c72e8914-79db-43e5-d5ce-7dc919dbef56"
      },
      "source": [
        "## Verificação de dados duplicados\n",
        "duplicados = df.duplicated()\n",
        "print(duplicados)"
      ],
      "execution_count": 701,
      "outputs": [
        {
          "output_type": "stream",
          "text": [
            "0       False\n",
            "1       False\n",
            "2       False\n",
            "3       False\n",
            "4       False\n",
            "        ...  \n",
            "2775    False\n",
            "2776    False\n",
            "2777    False\n",
            "2778    False\n",
            "2779    False\n",
            "Length: 2780, dtype: bool\n"
          ],
          "name": "stdout"
        }
      ]
    },
    {
      "cell_type": "markdown",
      "metadata": {
        "id": "Z7jCBxxr2fdT"
      },
      "source": [
        "\n",
        "**Transformando as colunas**"
      ]
    },
    {
      "cell_type": "code",
      "metadata": {
        "id": "mmXqQyLS1IaW",
        "colab": {
          "base_uri": "https://localhost:8080/"
        },
        "outputId": "e07c7a0f-6d43-4ccd-913f-336c35e63600"
      },
      "source": [
        "df.columns"
      ],
      "execution_count": 702,
      "outputs": [
        {
          "output_type": "execute_result",
          "data": {
            "text/plain": [
              "Index(['Numero do Sujeito', '1a. Doença', 'Idade 1a. Doença',\n",
              "       'Tempo 1a Doença', 'Sexo', 'UF Nascimento', 'UF', 'Formação',\n",
              "       'Atividade', 'Escolaridade', 'Estado Civil', 'Religião', 'Outro Idioma',\n",
              "       'Análise do Contexto', 'Autoconfiança', 'Autocontrole',\n",
              "       'Conquistar e Manter Pessoas', 'Empatia', 'Leitura Corporal',\n",
              "       'Otimismo com a Vida', 'Sentido da Vida'],\n",
              "      dtype='object')"
            ]
          },
          "metadata": {
            "tags": []
          },
          "execution_count": 702
        }
      ]
    },
    {
      "cell_type": "code",
      "metadata": {
        "id": "zn8yJYKt0Tww"
      },
      "source": [
        "## Nomes das colunas (todos em minúsculo e sem espaço)\n",
        "df.columns.str.lower()\n",
        "df.columns = df.columns.str.lower().str.replace(' ', '_')"
      ],
      "execution_count": 703,
      "outputs": []
    },
    {
      "cell_type": "code",
      "metadata": {
        "id": "5B_5u8g71izG"
      },
      "source": [
        "## Renomear colunas relacionadas a doença/trauma\n",
        "df = df.rename(columns={'1a._doença': 'trauma_doenca', 'idade_1a._doença': 'idade_doenca_trauma', 'tempo_1a_doença': 'tempo_doenca_trauma', \n",
        "                        'formação': 'formacao', 'religião': 'religiao', 'análise_do_contexto': 'analise_do_contexto', 'autoconfiança': 'autoconfianca'})"
      ],
      "execution_count": 704,
      "outputs": []
    },
    {
      "cell_type": "code",
      "metadata": {
        "id": "igdZ5KSicBRa"
      },
      "source": [
        "#Removendo colunas não necessárias\r\n",
        "df = df.drop(columns=['numero_do_sujeito', 'atividade'])"
      ],
      "execution_count": 705,
      "outputs": []
    },
    {
      "cell_type": "markdown",
      "metadata": {
        "id": "iqHK1sv4Vw1g"
      },
      "source": [
        "**Tratamento de valores nulos (NaN)**"
      ]
    },
    {
      "cell_type": "code",
      "metadata": {
        "id": "5TEnp4g4XxO9"
      },
      "source": [
        "df = df.dropna(subset=['trauma_doenca', 'idade_doenca_trauma', 'tempo_doenca_trauma'])"
      ],
      "execution_count": 706,
      "outputs": []
    },
    {
      "cell_type": "markdown",
      "metadata": {
        "id": "Y-iP9kGfYpEJ"
      },
      "source": [
        "**Transformando objetos em categorias**"
      ]
    },
    {
      "cell_type": "code",
      "metadata": {
        "colab": {
          "base_uri": "https://localhost:8080/"
        },
        "id": "L9cr9PReTTg5",
        "outputId": "eee9705e-d55c-4c94-a4ce-6144eda1ff01"
      },
      "source": [
        "for feature in df.columns:\r\n",
        "    print('The feature is {} and number of categories are {}'.format(feature,len(df[feature].unique())))"
      ],
      "execution_count": 707,
      "outputs": [
        {
          "output_type": "stream",
          "text": [
            "The feature is trauma_doenca and number of categories are 1722\n",
            "The feature is idade_doenca_trauma and number of categories are 6\n",
            "The feature is tempo_doenca_trauma and number of categories are 5\n",
            "The feature is sexo and number of categories are 2\n",
            "The feature is uf_nascimento and number of categories are 27\n",
            "The feature is uf and number of categories are 23\n",
            "The feature is formacao and number of categories are 721\n",
            "The feature is escolaridade and number of categories are 7\n",
            "The feature is estado_civil and number of categories are 5\n",
            "The feature is religiao and number of categories are 4\n",
            "The feature is outro_idioma and number of categories are 2\n",
            "The feature is analise_do_contexto and number of categories are 20\n",
            "The feature is autoconfianca and number of categories are 22\n",
            "The feature is autocontrole and number of categories are 24\n",
            "The feature is conquistar_e_manter_pessoas and number of categories are 22\n",
            "The feature is empatia and number of categories are 23\n",
            "The feature is leitura_corporal and number of categories are 24\n",
            "The feature is otimismo_com_a_vida and number of categories are 23\n",
            "The feature is sentido_da_vida and number of categories are 23\n"
          ],
          "name": "stdout"
        }
      ]
    },
    {
      "cell_type": "code",
      "metadata": {
        "id": "e7rfSpFMYyZj"
      },
      "source": [
        "#Transformando objetos em strings\r\n",
        "# label_encoder = LabelEncoder() - não funcionou como esperado, porque classifica por ordem alfabética\r\n",
        "\r\n",
        "escolaridade = {'1ª a 4ª série': 0, '5ª a 9ª série': 1, 'Ensino Médio': 2, 'Técnico': 3, 'Superior Completo': 4, 'Superior Incompleto': 5, 'Pós-Graduação': 6}\r\n",
        "df ['escolaridade'] = df.escolaridade.map (escolaridade)"
      ],
      "execution_count": 708,
      "outputs": []
    },
    {
      "cell_type": "code",
      "metadata": {
        "id": "i_cwm4ZMlnYN"
      },
      "source": [
        "idade_doenca_trauma = {'Até 6 anos': 0, '7 - 12 anos': 1, '13 - 17 anos': 2, '18 - 30 anos':3, '31 - 49 anos': 4, 'Acima': 5}\r\n",
        "df ['idade_doenca_trauma'] = df.idade_doenca_trauma.map (idade_doenca_trauma)"
      ],
      "execution_count": 709,
      "outputs": []
    },
    {
      "cell_type": "code",
      "metadata": {
        "id": "1GeetmtFmLwu"
      },
      "source": [
        "tempo_doenca_trauma = {'Alguns dias': 0, 'Semanas': 1, 'Meses': 2, 'Um ano': 3, 'Mais de um ano': 4}\r\n",
        "df ['tempo_doenca_trauma'] = df.tempo_doenca_trauma.map (tempo_doenca_trauma)"
      ],
      "execution_count": 710,
      "outputs": []
    },
    {
      "cell_type": "code",
      "metadata": {
        "id": "jNZJwa89Y3U2"
      },
      "source": [
        "#Aplicando a moda em valores nulos nas colunas Idade e Tempo de duração da doença ou trauma\r\n",
        "df['tempo_doenca_trauma']=df['tempo_doenca_trauma'].fillna(df['tempo_doenca_trauma'].mode()[0])\r\n",
        "df['idade_doenca_trauma']=df['idade_doenca_trauma'].fillna(df['idade_doenca_trauma'].mode()[0])"
      ],
      "execution_count": 711,
      "outputs": []
    },
    {
      "cell_type": "markdown",
      "metadata": {
        "id": "Xa3S5D_kWNzx"
      },
      "source": [
        "**Padronização do dataframe**\r\n"
      ]
    },
    {
      "cell_type": "code",
      "metadata": {
        "id": "dxr7eHYxmk-K"
      },
      "source": [
        "#Padronizando dataframe em minúsculo e sem acentuação\n",
        "\n",
        "for column in df.columns:\n",
        "  df[column] = df[column].astype(str).str.lower()\n",
        "  \n",
        "cols = df.select_dtypes(include=[np.object]).columns\n",
        "df[cols] = df[cols].apply(lambda x: x.str.normalize('NFKD').str.encode('ascii', errors='ignore').str.decode('utf-8'))"
      ],
      "execution_count": 712,
      "outputs": []
    },
    {
      "cell_type": "markdown",
      "metadata": {
        "id": "Abwx6WgcLD6_"
      },
      "source": [
        "**Padronizando coluna \"Trauma ou Doença\"**"
      ]
    },
    {
      "cell_type": "code",
      "metadata": {
        "id": "NIWpw-BwRjtP"
      },
      "source": [
        "stopwords = ['a', 'minha', 'que', 'me', 'de', 'e', 'na', 'quase', 'dos', 'do', 'meus', 'da', 'aos', 'um', 'numa', 'teve', 'enquanto', 'meu', \r\n",
        "             'sem', 'no', 'para', 'primeira', 'com', 'muito', 'fui', 'durante', 'uma', 'em', 'por', 'o', 'quando', 'eu', 'tive']"
      ],
      "execution_count": 713,
      "outputs": []
    },
    {
      "cell_type": "code",
      "metadata": {
        "id": "-E5UIeKt5N9m"
      },
      "source": [
        "def removestopword (texto):\r\n",
        "  semstop = [p for p in texto.split() if p not in stopwords]\r\n",
        "  return ' '.join(semstop)"
      ],
      "execution_count": 714,
      "outputs": []
    },
    {
      "cell_type": "code",
      "metadata": {
        "id": "jppatKt86Ub7"
      },
      "source": [
        "df['trauma_doenca'] = df['trauma_doenca'].apply(removestopword)"
      ],
      "execution_count": 715,
      "outputs": []
    },
    {
      "cell_type": "code",
      "metadata": {
        "id": "8y0Ka6oEIU-x"
      },
      "source": [
        "CATEGORIAS = {'acidente': ['acidente', 'acicente', 'queda', 'capotamento', 'atrolepamento', 'batida', 'atropelamento', 'afogamento', 'carro', 'moto',\r\n",
        "              'atropelado'],\r\n",
        "\r\n",
        "              'vicios': ['alcool', 'bebida', 'alcolismo', 'alcoolismo', 'drogas', 'vicio'],\r\n",
        "\r\n",
        "              'violencia domestica ou urbana': ['violencia', 'VIOLÊNCIA', 'violência', 'sequestro', 'arma', 'baleado', 'assassinato', 'agressor',\r\n",
        "              'assalto', 'assaltada', 'pedofilia', 'estupro', 'abuso', 'abusado'],\r\n",
        "\r\n",
        "              'doencas leves ou virais': ['enfermidade', 'pneumonia', 'tumor', 'labirintite', 'corte', 'cirurgia', \r\n",
        "              'vesicula', 'queimadura', 'fratura', 'chron', 'hernia', 'hepatite', 'disco', 'bronquite', 'apendicite', 'caxumba', 'tireoide',\r\n",
        "              'hipertensao', 'torci', 'artrodese', 'gordura', 'lesao', 'sarampo', 'narcolepsia', 'tenorrafia', 'disfuncao', 'condropatia',\r\n",
        "              'asma', 'dor', 'gastrite', 'internacao', 'infarto', 'febre', 'meningite', 'obesidade', 'alzhimer', 'anemia', 'neurolofica',\r\n",
        "              'neurologico', 'doenca', 'avc', 'visicula', 'ernia', 'cardiaco', 'edema', 'presao', 'tibia', 'renal', 'operacao', 'braco', 'adoecimento',\r\n",
        "              'basite', 'lombares', 'dengue', 'coluna', 'menigite', 'audicao', 'infeccao', 'pericardite', 'catarata', ' inflamacao',\r\n",
        "              'operei', 'convulsao', 'abcesso', 'artrite', 'trombose', 'catapora', 'infarte', 'epilepsia', 'torcao', 'deslocar', 'inflamacao', 'renais',\r\n",
        "              'quebrei', 'tireoide', 'micose', 'clavicula', 'fraturei', 'diabete', 'prielonefrite', 'rcp', 'cisto', 'amputacao', 'toxoplasmose',\r\n",
        "              'comvulcao', 'hemorragia', 'derbuculoce', 'deboculose', 'operasao', 'viral', 'virus', 'internado', 'toc', 'traumatismo', 'alergia',\r\n",
        "              'enxaqueca', 'apendice', 'verme', 'visual', 'pylori', 'cardiaca', 'garganta', 'cicatriz', 'sifiles', 'bacteria',\r\n",
        "              'gagueira', 'salmonela', 'eclampsia', 'retina', 'gripe', 'taquicardia', 'ictiose', 'entalado', 'endometriose', 'denque', 'quebraduras', \r\n",
        "              'quebrado', 'osso', 'quebrar', 'joelho', 'tornozelo'],\r\n",
        "\r\n",
        "              'doencas graves': ['cancer', 'hiv', 'tuberculose',  'cardiopatia', 'esclerose'],\r\n",
        "\r\n",
        "              'divorcio': ['separacao', 'divorcio', 'separaram', 'conjugal', 'relacionamento', 'traicao'],\r\n",
        "\r\n",
        "              'morte': ['falecimento', 'morte', 'falaceu', 'ente', 'perdas', 'perda', 'obito', 'perca', 'perde', 'falecido'],\r\n",
        "\r\n",
        "              'transtornos ou sindromes': ['ansiedade', 'depressao', 'panico', 'estresse', 'traumatico', 'suicidio', 'disturbio', 'perdi', 'mutilacoes',\r\n",
        "              'sociais', 'rejeicao', 'burnout', 'bulimia'],\r\n",
        "\r\n",
        "              'gravidez/maternidade': ['gravidez', 'aborto', 'feto'],\r\n",
        "\r\n",
        "              'outros': ['trabalho', 'escola', 'vestibular', 'preso', 'financeiras', 'desemprego', 'desligado', 'interpessoais', 'namoro', 'nenhuma resposta',\r\n",
        "                         'nenhuma', 'nenhum', 'nao houve', '2010', 'nao considero', 'nada', 'nao ha', 'nao recordo', 'ca', 'i', 'nao', '']}"
      ],
      "execution_count": 716,
      "outputs": []
    },
    {
      "cell_type": "code",
      "metadata": {
        "colab": {
          "base_uri": "https://localhost:8080/"
        },
        "id": "wgbICJN3hxsm",
        "outputId": "97f3bf3a-0091-4ced-f98f-fccb3dbfa147"
      },
      "source": [
        "CATEGORIAS.keys()"
      ],
      "execution_count": 717,
      "outputs": [
        {
          "output_type": "execute_result",
          "data": {
            "text/plain": [
              "dict_keys(['acidente', 'vicios', 'violencia domestica ou urbana', 'doencas leves ou virais', 'doencas graves', 'divorcio', 'morte', 'transtornos ou sindromes', 'gravidez/maternidade', 'outros'])"
            ]
          },
          "metadata": {
            "tags": []
          },
          "execution_count": 717
        }
      ]
    },
    {
      "cell_type": "code",
      "metadata": {
        "id": "qpm6m1v0ewCq"
      },
      "source": [
        "def procurar_palavra(lista_palavras, sentenca):\r\n",
        "  palavra_presente=False\r\n",
        "  for palavra in lista_palavras:\r\n",
        "    if palavra in sentenca:\r\n",
        "      palavra_presente=True\r\n",
        "  return palavra_presente\r\n",
        "\r\n",
        "def mapear_categoria(sentenca):\r\n",
        "  for cat in CATEGORIAS.keys():\r\n",
        "    if procurar_palavra(CATEGORIAS[cat], sentenca):\r\n",
        "      return cat \r\n",
        "  return sentenca"
      ],
      "execution_count": 718,
      "outputs": []
    },
    {
      "cell_type": "code",
      "metadata": {
        "colab": {
          "base_uri": "https://localhost:8080/",
          "height": 35
        },
        "id": "p5sz1aZLg4Tn",
        "outputId": "260aecd7-ddb7-4078-df25-dbd65773e09a"
      },
      "source": [
        "sentenca = 'violencia dentro casa'\r\n",
        "mapear_categoria(sentenca)"
      ],
      "execution_count": 719,
      "outputs": [
        {
          "output_type": "execute_result",
          "data": {
            "application/vnd.google.colaboratory.intrinsic+json": {
              "type": "string"
            },
            "text/plain": [
              "'violencia domestica ou urbana'"
            ]
          },
          "metadata": {
            "tags": []
          },
          "execution_count": 719
        }
      ]
    },
    {
      "cell_type": "code",
      "metadata": {
        "id": "Mkgi73O2hVKN"
      },
      "source": [
        "df['trauma_doenca'] = df['trauma_doenca'].apply(mapear_categoria)"
      ],
      "execution_count": 720,
      "outputs": []
    },
    {
      "cell_type": "markdown",
      "metadata": {
        "id": "Yt-79efvavuR"
      },
      "source": [
        "**Padronizando coluna \"Formação\"**"
      ]
    },
    {
      "cell_type": "code",
      "metadata": {
        "id": "yF-JCiE6Q3JS"
      },
      "source": [
        "df['formacao'] = df['formacao'].apply(removestopword)"
      ],
      "execution_count": 721,
      "outputs": []
    },
    {
      "cell_type": "code",
      "metadata": {
        "id": "sDIfrJTSbHkA"
      },
      "source": [
        "CAT_FORMACAO = {'militar': ['militar', 'molitar', 'bombeito', 'bombeiro', 'bombeira', 'bombeiros', 'oficial', 'defesa civil', 'bm', 'seguranca', 'cbmdf'],\r\n",
        "                \r\n",
        "                'administracao de empresas': ['administradora', 'administracao', 'administrador', 'adm', 'rh', 'empresarial', 'empresaria', 'aministracao',\r\n",
        "                'secretaria', 'empresario', 'escritorio', 'negocios', 'secretariado', 'recursos humanos', 'internacionais', 'gestao', 'exterior', 'gestora'],\r\n",
        "\r\n",
        "                'comunicacao': ['propaganga', 'marketing', 'relacoes publicas', 'comunicacao', 'grafica', 'artes', 'designer', 'publicitario', 'publicitaria',\r\n",
        "                'fotografo', 'comunicadora', 'jornalismo', 'telecomunicacoes', 'radiologia', 'jornalista', 'imprensa', 'artes', 'design',\r\n",
        "                'publicidade'],\r\n",
        "                \r\n",
        "                'pedagogia': ['professor', 'professora', 'pedagogia', 'letras', 'pedagogo', 'pedagoga', 'pedagogica', 'pedadogia', 'pedagogica'],\r\n",
        "\r\n",
        "                'ciencias contabeis': ['contador', 'contadora', 'contabeis', 'economicas', 'contabil', 'contabilista'],\r\n",
        "\r\n",
        "                'saude': ['medico', 'medica', 'medicina', 'enfermeiro', 'enfermeira', 'enfermagem', 'nutricionista', 'nutricao', 'neurocirurgiao',\r\n",
        "                'farmaceutica', 'clinica', 'biomedicina', 'cirurgia', 'optometria'],\r\n",
        "                \r\n",
        "                'arquitetura': ['arquiteto', 'arquiteta', 'arquitetura'],\r\n",
        "\r\n",
        "                'ciencias humanas': ['historia', 'geografo', 'geografia', 'filosofia', 'filosofo', 'filosofa', 'sociologo', 'filosifia'],\r\n",
        "\r\n",
        "                'ciencias exatas': ['quimica', 'quimico', 'fisico'],\r\n",
        "\r\n",
        "                'engenharia': ['engenharia', 'engenheiro', 'engenheira', 'eng'],\r\n",
        "\r\n",
        "                'estudante': ['estudante', 'estudanta', 'estudanti', 'estudar', 'escola'],\r\n",
        "\r\n",
        "                'psicologia': ['psicologa', 'psicologo', 'psicologia', 'psicanalista', 'terapia', 'psicolgia'],\r\n",
        "\r\n",
        "                'economia': ['economia', 'financas', 'economista', 'estatistico'],\r\n",
        "\r\n",
        "                'direito': ['advoga', 'advocacia', 'direito', 'advogada', 'advogado'],\r\n",
        "\r\n",
        "                'tecnologia': ['ti', 'informatica', 'computacao', 'redes', 'sistemas', 'informacao', 'dados', 'sistema', 'desenvolvedor', 'programador'],\r\n",
        "\r\n",
        "                'outras areas': ['comercial', 'compradora', 'contas', 'odontologia', 'odontologia', 'testador quest', 'metalurgico', 'ambiental', 'pos',\r\n",
        "                'grau', 'escultor', 'turimologa', 'turismologo', 'oceanografa', 'assistente', 'superior', 'seminarista', 'agro',\r\n",
        "                'elitricista', 'logistica', 'gastronomia', 'aprendiz', 'mallet', 'operacoes', 'vendas', 'musico', 'coml', 'podologa',\r\n",
        "                'manicure', 'corretora', 'bancario', 'gerente', 'massoterapeuta', 'biologo', 'biologia', 'turismo', 'arte', 'mecanico',\r\n",
        "                'mecanica', 'fisioterapeuta', 'juridica', 'educador fisico', 'educacao fisica', 'operadora', 'vendedora', 'eletronica',\r\n",
        "                'cfo', 'teologia', 'funcionario', 'qualidade', 'teologo', 'condutor.', 'pianista', 'funcionaria', 'nao', 'n', 'nenhuma', 'nenhum',\r\n",
        "                'barista', 'biologa', 'cabeleireiro', 'cabelereira', 'coach',  'comprador', 'corretor', 'costureira', 'moda', 'decoradora',\r\n",
        "                'doutorado', 'fisiva', 'estagiario', 'farmacia', 'filosifia', 'graduacao', 'graducao', 'hotelaria', 'lavrador', 'maestro', 'magisterio',\r\n",
        "                'mba', 'mercadologa', 'mestrado', 'moda', 'motorista', 'musica', 'musicista', 'radialista', 'servidor', 'social', 'taxista', 'tradutora',\r\n",
        "                'soldador', 'sim', 'sueprior', 'solteira', '****']}"
      ],
      "execution_count": 722,
      "outputs": []
    },
    {
      "cell_type": "code",
      "metadata": {
        "colab": {
          "base_uri": "https://localhost:8080/"
        },
        "id": "popFMoeobTfv",
        "outputId": "abaa5e81-1a3d-4661-d470-22065b198cd2"
      },
      "source": [
        "CAT_FORMACAO.keys()"
      ],
      "execution_count": 723,
      "outputs": [
        {
          "output_type": "execute_result",
          "data": {
            "text/plain": [
              "dict_keys(['militar', 'administracao de empresas', 'comunicacao', 'pedagogia', 'ciencias contabeis', 'saude', 'arquitetura', 'ciencias humanas', 'ciencias exatas', 'engenharia', 'estudante', 'psicologia', 'economia', 'direito', 'tecnologia', 'outras areas'])"
            ]
          },
          "metadata": {
            "tags": []
          },
          "execution_count": 723
        }
      ]
    },
    {
      "cell_type": "code",
      "metadata": {
        "id": "dx5faX78bWg0"
      },
      "source": [
        "def procurar_palavra_form(lista_palavras_form, sentenca_form):\r\n",
        "  palavra_presente_form=False\r\n",
        "  for palavra_form in lista_palavras_form:\r\n",
        "    if palavra_form in sentenca_form:\r\n",
        "      palavra_presente_form=True\r\n",
        "  return palavra_presente_form\r\n",
        "\r\n",
        "def mapear_categoria2(sentenca_form):\r\n",
        "  for categ in CAT_FORMACAO.keys():\r\n",
        "    if procurar_palavra_form(CAT_FORMACAO[categ], sentenca_form):\r\n",
        "      return categ\r\n",
        "  return sentenca_form"
      ],
      "execution_count": 724,
      "outputs": []
    },
    {
      "cell_type": "code",
      "metadata": {
        "colab": {
          "base_uri": "https://localhost:8080/",
          "height": 35
        },
        "id": "QTzET7mLbaDd",
        "outputId": "01f631eb-cac7-46de-d310-298abd107b63"
      },
      "source": [
        "sentenca_form = 'administradora'\r\n",
        "mapear_categoria2(sentenca_form)"
      ],
      "execution_count": 725,
      "outputs": [
        {
          "output_type": "execute_result",
          "data": {
            "application/vnd.google.colaboratory.intrinsic+json": {
              "type": "string"
            },
            "text/plain": [
              "'administracao de empresas'"
            ]
          },
          "metadata": {
            "tags": []
          },
          "execution_count": 725
        }
      ]
    },
    {
      "cell_type": "code",
      "metadata": {
        "id": "FBe7I50qbfzt"
      },
      "source": [
        "df['formacao'] = df['formacao'].apply(mapear_categoria2)"
      ],
      "execution_count": 726,
      "outputs": []
    },
    {
      "cell_type": "markdown",
      "metadata": {
        "id": "xozOBOhgvr-g"
      },
      "source": [
        "**Manipulação de dados - Texto > Números**\r\n"
      ]
    },
    {
      "cell_type": "code",
      "metadata": {
        "id": "2c5bXxB0f9BU"
      },
      "source": [
        "#Transformando strings em categorias nominais\r\n",
        "label_encoder = LabelEncoder()\r\n",
        "df['trauma_doenca'] = label_encoder.fit_transform(df['trauma_doenca'].astype(str))\r\n",
        "df['estado_civil'] = label_encoder.fit_transform(df['estado_civil'].astype(str))\r\n",
        "df['religiao'] = label_encoder.fit_transform(df['religiao'].astype(str))\r\n",
        "df['formacao'] = label_encoder.fit_transform(df['formacao'].astype(str))\r\n",
        "df['idade_doenca_trauma'] = label_encoder.fit_transform(df['idade_doenca_trauma'].astype(str))\r\n",
        "df['tempo_doenca_trauma'] = label_encoder.fit_transform(df['tempo_doenca_trauma'].astype(str))\r\n",
        "df['escolaridade'] = label_encoder.fit_transform(df['escolaridade'].astype(str))"
      ],
      "execution_count": 727,
      "outputs": []
    },
    {
      "cell_type": "code",
      "metadata": {
        "id": "Wmli-XtZvhDO"
      },
      "source": [
        "#Transformando categorias nominais\r\n",
        "df = pd.get_dummies(df, columns=['sexo'])\r\n",
        "df = pd.get_dummies(df, columns=['outro_idioma'])"
      ],
      "execution_count": 728,
      "outputs": []
    },
    {
      "cell_type": "code",
      "metadata": {
        "colab": {
          "base_uri": "https://localhost:8080/",
          "height": 411
        },
        "id": "VGBp8vFhfPB5",
        "outputId": "4068c721-0ea6-4560-9c8c-4ac6e6709f6f"
      },
      "source": [
        "df.head()"
      ],
      "execution_count": 729,
      "outputs": [
        {
          "output_type": "execute_result",
          "data": {
            "text/html": [
              "<div>\n",
              "<style scoped>\n",
              "    .dataframe tbody tr th:only-of-type {\n",
              "        vertical-align: middle;\n",
              "    }\n",
              "\n",
              "    .dataframe tbody tr th {\n",
              "        vertical-align: top;\n",
              "    }\n",
              "\n",
              "    .dataframe thead th {\n",
              "        text-align: right;\n",
              "    }\n",
              "</style>\n",
              "<table border=\"1\" class=\"dataframe\">\n",
              "  <thead>\n",
              "    <tr style=\"text-align: right;\">\n",
              "      <th></th>\n",
              "      <th>trauma_doenca</th>\n",
              "      <th>idade_doenca_trauma</th>\n",
              "      <th>tempo_doenca_trauma</th>\n",
              "      <th>uf_nascimento</th>\n",
              "      <th>uf</th>\n",
              "      <th>formacao</th>\n",
              "      <th>escolaridade</th>\n",
              "      <th>estado_civil</th>\n",
              "      <th>religiao</th>\n",
              "      <th>analise_do_contexto</th>\n",
              "      <th>autoconfianca</th>\n",
              "      <th>autocontrole</th>\n",
              "      <th>conquistar_e_manter_pessoas</th>\n",
              "      <th>empatia</th>\n",
              "      <th>leitura_corporal</th>\n",
              "      <th>otimismo_com_a_vida</th>\n",
              "      <th>sentido_da_vida</th>\n",
              "      <th>sexo_feminino</th>\n",
              "      <th>sexo_masculino</th>\n",
              "      <th>outro_idioma_nao</th>\n",
              "      <th>outro_idioma_sim</th>\n",
              "    </tr>\n",
              "  </thead>\n",
              "  <tbody>\n",
              "    <tr>\n",
              "      <th>0</th>\n",
              "      <td>7</td>\n",
              "      <td>4</td>\n",
              "      <td>3</td>\n",
              "      <td>sp</td>\n",
              "      <td>sp</td>\n",
              "      <td>0</td>\n",
              "      <td>6</td>\n",
              "      <td>0</td>\n",
              "      <td>0</td>\n",
              "      <td>boa no estresse (pc-p)</td>\n",
              "      <td>fraca no estresse (pc-i)</td>\n",
              "      <td>fraca no estresse (pc-i)</td>\n",
              "      <td>boa diante do impacto do estresse (pc-p)</td>\n",
              "      <td>moderada no estresse (pc-i)</td>\n",
              "      <td>excelente no estresse</td>\n",
              "      <td>forte no estresse (pc-p)</td>\n",
              "      <td>boa no estresse (pc-p)</td>\n",
              "      <td>1</td>\n",
              "      <td>0</td>\n",
              "      <td>0</td>\n",
              "      <td>1</td>\n",
              "    </tr>\n",
              "    <tr>\n",
              "      <th>1</th>\n",
              "      <td>3</td>\n",
              "      <td>1</td>\n",
              "      <td>4</td>\n",
              "      <td>sp</td>\n",
              "      <td>sp</td>\n",
              "      <td>1</td>\n",
              "      <td>6</td>\n",
              "      <td>0</td>\n",
              "      <td>2</td>\n",
              "      <td>excelente no estresse</td>\n",
              "      <td>moderada no estresse (pc-i)</td>\n",
              "      <td>fraca no estresse (pc-i)</td>\n",
              "      <td>boa diante do impacto do estresse (pc-p)</td>\n",
              "      <td>boa no estresse (pc-p)</td>\n",
              "      <td>boa no estresse (pc-p)</td>\n",
              "      <td>excelente no estresse</td>\n",
              "      <td>moderada no estresse (pc-p)</td>\n",
              "      <td>0</td>\n",
              "      <td>1</td>\n",
              "      <td>0</td>\n",
              "      <td>1</td>\n",
              "    </tr>\n",
              "    <tr>\n",
              "      <th>2</th>\n",
              "      <td>9</td>\n",
              "      <td>1</td>\n",
              "      <td>4</td>\n",
              "      <td>sp</td>\n",
              "      <td>sp</td>\n",
              "      <td>12</td>\n",
              "      <td>4</td>\n",
              "      <td>2</td>\n",
              "      <td>3</td>\n",
              "      <td>boa no estresse (pc-p)</td>\n",
              "      <td>forte no estresse (pc-p)</td>\n",
              "      <td>moderada no estresse (pc-p)</td>\n",
              "      <td>boa diante do impacto do estresse (pc-p)</td>\n",
              "      <td>boa no estresse (pc-p)</td>\n",
              "      <td>moderada no estresse (pc-p)</td>\n",
              "      <td>excelente no estresse</td>\n",
              "      <td>boa no estresse (pc-p)</td>\n",
              "      <td>0</td>\n",
              "      <td>1</td>\n",
              "      <td>1</td>\n",
              "      <td>0</td>\n",
              "    </tr>\n",
              "    <tr>\n",
              "      <th>4</th>\n",
              "      <td>6</td>\n",
              "      <td>2</td>\n",
              "      <td>4</td>\n",
              "      <td>sp</td>\n",
              "      <td>sp</td>\n",
              "      <td>12</td>\n",
              "      <td>5</td>\n",
              "      <td>2</td>\n",
              "      <td>2</td>\n",
              "      <td>excelente no estresse</td>\n",
              "      <td>excelente face ao estresse</td>\n",
              "      <td>excelente no estresse</td>\n",
              "      <td>excelente face ao impacto do estresse (pc-e)</td>\n",
              "      <td>forte no estresse (pc-p)</td>\n",
              "      <td>boa no estresse (pc-p)</td>\n",
              "      <td>excelente no estresse</td>\n",
              "      <td>excelente no estresse</td>\n",
              "      <td>0</td>\n",
              "      <td>1</td>\n",
              "      <td>0</td>\n",
              "      <td>1</td>\n",
              "    </tr>\n",
              "    <tr>\n",
              "      <th>5</th>\n",
              "      <td>2</td>\n",
              "      <td>2</td>\n",
              "      <td>4</td>\n",
              "      <td>sp</td>\n",
              "      <td>sp</td>\n",
              "      <td>5</td>\n",
              "      <td>4</td>\n",
              "      <td>2</td>\n",
              "      <td>0</td>\n",
              "      <td>boa no estresse (pc-p)</td>\n",
              "      <td>boa no estresse (pc-p)</td>\n",
              "      <td>boa no estresse (pc-p)</td>\n",
              "      <td>excelente face ao impacto do estresse (pc-e)</td>\n",
              "      <td>boa no estresse (pc-p)</td>\n",
              "      <td>boa no estresse (pc-p)</td>\n",
              "      <td>moderada no estresse (pc-p)</td>\n",
              "      <td>boa no estresse (pc-p)</td>\n",
              "      <td>1</td>\n",
              "      <td>0</td>\n",
              "      <td>0</td>\n",
              "      <td>1</td>\n",
              "    </tr>\n",
              "  </tbody>\n",
              "</table>\n",
              "</div>"
            ],
            "text/plain": [
              "   trauma_doenca  idade_doenca_trauma  ...  outro_idioma_nao outro_idioma_sim\n",
              "0              7                    4  ...                 0                1\n",
              "1              3                    1  ...                 0                1\n",
              "2              9                    1  ...                 1                0\n",
              "4              6                    2  ...                 0                1\n",
              "5              2                    2  ...                 0                1\n",
              "\n",
              "[5 rows x 21 columns]"
            ]
          },
          "metadata": {
            "tags": []
          },
          "execution_count": 729
        }
      ]
    },
    {
      "cell_type": "code",
      "metadata": {
        "colab": {
          "base_uri": "https://localhost:8080/"
        },
        "id": "Zo0Cy5CSjD0f",
        "outputId": "713a18ff-b199-44c3-dcdf-dd996a0063da"
      },
      "source": [
        "df.info()"
      ],
      "execution_count": 730,
      "outputs": [
        {
          "output_type": "stream",
          "text": [
            "<class 'pandas.core.frame.DataFrame'>\n",
            "Int64Index: 2103 entries, 0 to 2740\n",
            "Data columns (total 21 columns):\n",
            " #   Column                       Non-Null Count  Dtype \n",
            "---  ------                       --------------  ----- \n",
            " 0   trauma_doenca                2103 non-null   int64 \n",
            " 1   idade_doenca_trauma          2103 non-null   int64 \n",
            " 2   tempo_doenca_trauma          2103 non-null   int64 \n",
            " 3   uf_nascimento                2103 non-null   object\n",
            " 4   uf                           2103 non-null   object\n",
            " 5   formacao                     2103 non-null   int64 \n",
            " 6   escolaridade                 2103 non-null   int64 \n",
            " 7   estado_civil                 2103 non-null   int64 \n",
            " 8   religiao                     2103 non-null   int64 \n",
            " 9   analise_do_contexto          2103 non-null   object\n",
            " 10  autoconfianca                2103 non-null   object\n",
            " 11  autocontrole                 2103 non-null   object\n",
            " 12  conquistar_e_manter_pessoas  2103 non-null   object\n",
            " 13  empatia                      2103 non-null   object\n",
            " 14  leitura_corporal             2103 non-null   object\n",
            " 15  otimismo_com_a_vida          2103 non-null   object\n",
            " 16  sentido_da_vida              2103 non-null   object\n",
            " 17  sexo_feminino                2103 non-null   uint8 \n",
            " 18  sexo_masculino               2103 non-null   uint8 \n",
            " 19  outro_idioma_nao             2103 non-null   uint8 \n",
            " 20  outro_idioma_sim             2103 non-null   uint8 \n",
            "dtypes: int64(7), object(10), uint8(4)\n",
            "memory usage: 303.9+ KB\n"
          ],
          "name": "stdout"
        }
      ]
    },
    {
      "cell_type": "markdown",
      "metadata": {
        "id": "ZDRbbyQY08MK"
      },
      "source": [
        "**Cópia dataframe - Teste para apenas uma área da vida (SV)**\r\n",
        "\r\n",
        "Dataframe duplicado com a finalidade de focar apenas na área da vida \"Sentido de Vida\". Focando nas categorias da escala, será usada a técnica para converter categorias em indicadores."
      ]
    },
    {
      "cell_type": "code",
      "metadata": {
        "colab": {
          "base_uri": "https://localhost:8080/",
          "height": 779
        },
        "id": "-rFhdk0lv1uD",
        "outputId": "9f4d5e50-f000-4805-a953-d2df050893ae"
      },
      "source": [
        "df_bin = df.copy()\r\n",
        "df_bin"
      ],
      "execution_count": 731,
      "outputs": [
        {
          "output_type": "execute_result",
          "data": {
            "text/html": [
              "<div>\n",
              "<style scoped>\n",
              "    .dataframe tbody tr th:only-of-type {\n",
              "        vertical-align: middle;\n",
              "    }\n",
              "\n",
              "    .dataframe tbody tr th {\n",
              "        vertical-align: top;\n",
              "    }\n",
              "\n",
              "    .dataframe thead th {\n",
              "        text-align: right;\n",
              "    }\n",
              "</style>\n",
              "<table border=\"1\" class=\"dataframe\">\n",
              "  <thead>\n",
              "    <tr style=\"text-align: right;\">\n",
              "      <th></th>\n",
              "      <th>trauma_doenca</th>\n",
              "      <th>idade_doenca_trauma</th>\n",
              "      <th>tempo_doenca_trauma</th>\n",
              "      <th>uf_nascimento</th>\n",
              "      <th>uf</th>\n",
              "      <th>formacao</th>\n",
              "      <th>escolaridade</th>\n",
              "      <th>estado_civil</th>\n",
              "      <th>religiao</th>\n",
              "      <th>analise_do_contexto</th>\n",
              "      <th>autoconfianca</th>\n",
              "      <th>autocontrole</th>\n",
              "      <th>conquistar_e_manter_pessoas</th>\n",
              "      <th>empatia</th>\n",
              "      <th>leitura_corporal</th>\n",
              "      <th>otimismo_com_a_vida</th>\n",
              "      <th>sentido_da_vida</th>\n",
              "      <th>sexo_feminino</th>\n",
              "      <th>sexo_masculino</th>\n",
              "      <th>outro_idioma_nao</th>\n",
              "      <th>outro_idioma_sim</th>\n",
              "    </tr>\n",
              "  </thead>\n",
              "  <tbody>\n",
              "    <tr>\n",
              "      <th>0</th>\n",
              "      <td>7</td>\n",
              "      <td>4</td>\n",
              "      <td>3</td>\n",
              "      <td>sp</td>\n",
              "      <td>sp</td>\n",
              "      <td>0</td>\n",
              "      <td>6</td>\n",
              "      <td>0</td>\n",
              "      <td>0</td>\n",
              "      <td>boa no estresse (pc-p)</td>\n",
              "      <td>fraca no estresse (pc-i)</td>\n",
              "      <td>fraca no estresse (pc-i)</td>\n",
              "      <td>boa diante do impacto do estresse (pc-p)</td>\n",
              "      <td>moderada no estresse (pc-i)</td>\n",
              "      <td>excelente no estresse</td>\n",
              "      <td>forte no estresse (pc-p)</td>\n",
              "      <td>boa no estresse (pc-p)</td>\n",
              "      <td>1</td>\n",
              "      <td>0</td>\n",
              "      <td>0</td>\n",
              "      <td>1</td>\n",
              "    </tr>\n",
              "    <tr>\n",
              "      <th>1</th>\n",
              "      <td>3</td>\n",
              "      <td>1</td>\n",
              "      <td>4</td>\n",
              "      <td>sp</td>\n",
              "      <td>sp</td>\n",
              "      <td>1</td>\n",
              "      <td>6</td>\n",
              "      <td>0</td>\n",
              "      <td>2</td>\n",
              "      <td>excelente no estresse</td>\n",
              "      <td>moderada no estresse (pc-i)</td>\n",
              "      <td>fraca no estresse (pc-i)</td>\n",
              "      <td>boa diante do impacto do estresse (pc-p)</td>\n",
              "      <td>boa no estresse (pc-p)</td>\n",
              "      <td>boa no estresse (pc-p)</td>\n",
              "      <td>excelente no estresse</td>\n",
              "      <td>moderada no estresse (pc-p)</td>\n",
              "      <td>0</td>\n",
              "      <td>1</td>\n",
              "      <td>0</td>\n",
              "      <td>1</td>\n",
              "    </tr>\n",
              "    <tr>\n",
              "      <th>2</th>\n",
              "      <td>9</td>\n",
              "      <td>1</td>\n",
              "      <td>4</td>\n",
              "      <td>sp</td>\n",
              "      <td>sp</td>\n",
              "      <td>12</td>\n",
              "      <td>4</td>\n",
              "      <td>2</td>\n",
              "      <td>3</td>\n",
              "      <td>boa no estresse (pc-p)</td>\n",
              "      <td>forte no estresse (pc-p)</td>\n",
              "      <td>moderada no estresse (pc-p)</td>\n",
              "      <td>boa diante do impacto do estresse (pc-p)</td>\n",
              "      <td>boa no estresse (pc-p)</td>\n",
              "      <td>moderada no estresse (pc-p)</td>\n",
              "      <td>excelente no estresse</td>\n",
              "      <td>boa no estresse (pc-p)</td>\n",
              "      <td>0</td>\n",
              "      <td>1</td>\n",
              "      <td>1</td>\n",
              "      <td>0</td>\n",
              "    </tr>\n",
              "    <tr>\n",
              "      <th>4</th>\n",
              "      <td>6</td>\n",
              "      <td>2</td>\n",
              "      <td>4</td>\n",
              "      <td>sp</td>\n",
              "      <td>sp</td>\n",
              "      <td>12</td>\n",
              "      <td>5</td>\n",
              "      <td>2</td>\n",
              "      <td>2</td>\n",
              "      <td>excelente no estresse</td>\n",
              "      <td>excelente face ao estresse</td>\n",
              "      <td>excelente no estresse</td>\n",
              "      <td>excelente face ao impacto do estresse (pc-e)</td>\n",
              "      <td>forte no estresse (pc-p)</td>\n",
              "      <td>boa no estresse (pc-p)</td>\n",
              "      <td>excelente no estresse</td>\n",
              "      <td>excelente no estresse</td>\n",
              "      <td>0</td>\n",
              "      <td>1</td>\n",
              "      <td>0</td>\n",
              "      <td>1</td>\n",
              "    </tr>\n",
              "    <tr>\n",
              "      <th>5</th>\n",
              "      <td>2</td>\n",
              "      <td>2</td>\n",
              "      <td>4</td>\n",
              "      <td>sp</td>\n",
              "      <td>sp</td>\n",
              "      <td>5</td>\n",
              "      <td>4</td>\n",
              "      <td>2</td>\n",
              "      <td>0</td>\n",
              "      <td>boa no estresse (pc-p)</td>\n",
              "      <td>boa no estresse (pc-p)</td>\n",
              "      <td>boa no estresse (pc-p)</td>\n",
              "      <td>excelente face ao impacto do estresse (pc-e)</td>\n",
              "      <td>boa no estresse (pc-p)</td>\n",
              "      <td>boa no estresse (pc-p)</td>\n",
              "      <td>moderada no estresse (pc-p)</td>\n",
              "      <td>boa no estresse (pc-p)</td>\n",
              "      <td>1</td>\n",
              "      <td>0</td>\n",
              "      <td>0</td>\n",
              "      <td>1</td>\n",
              "    </tr>\n",
              "    <tr>\n",
              "      <th>...</th>\n",
              "      <td>...</td>\n",
              "      <td>...</td>\n",
              "      <td>...</td>\n",
              "      <td>...</td>\n",
              "      <td>...</td>\n",
              "      <td>...</td>\n",
              "      <td>...</td>\n",
              "      <td>...</td>\n",
              "      <td>...</td>\n",
              "      <td>...</td>\n",
              "      <td>...</td>\n",
              "      <td>...</td>\n",
              "      <td>...</td>\n",
              "      <td>...</td>\n",
              "      <td>...</td>\n",
              "      <td>...</td>\n",
              "      <td>...</td>\n",
              "      <td>...</td>\n",
              "      <td>...</td>\n",
              "      <td>...</td>\n",
              "      <td>...</td>\n",
              "    </tr>\n",
              "    <tr>\n",
              "      <th>2735</th>\n",
              "      <td>6</td>\n",
              "      <td>2</td>\n",
              "      <td>2</td>\n",
              "      <td>pr</td>\n",
              "      <td>pr</td>\n",
              "      <td>15</td>\n",
              "      <td>6</td>\n",
              "      <td>2</td>\n",
              "      <td>3</td>\n",
              "      <td>boa face ao estresse (pc-p)</td>\n",
              "      <td>excelaancia face ao estresse</td>\n",
              "      <td>forte face ao estresse (pc-p)</td>\n",
              "      <td>forte face ao estresse (pc-i)</td>\n",
              "      <td>excelaancia face ao estresse</td>\n",
              "      <td>excelaancia face ao estresse</td>\n",
              "      <td>moderada face ao estresse (pc-i)</td>\n",
              "      <td>forte face ao estresse (pc- i)</td>\n",
              "      <td>1</td>\n",
              "      <td>0</td>\n",
              "      <td>0</td>\n",
              "      <td>1</td>\n",
              "    </tr>\n",
              "    <tr>\n",
              "      <th>2736</th>\n",
              "      <td>2</td>\n",
              "      <td>3</td>\n",
              "      <td>2</td>\n",
              "      <td>pr</td>\n",
              "      <td>pr</td>\n",
              "      <td>15</td>\n",
              "      <td>4</td>\n",
              "      <td>2</td>\n",
              "      <td>2</td>\n",
              "      <td>boa face ao estresse (pc-p)</td>\n",
              "      <td>boa face ao estresse (pc-i)</td>\n",
              "      <td>excelaancia face ao estresse</td>\n",
              "      <td>excelaancia face ao estresse</td>\n",
              "      <td>excelaancia face ao estresse</td>\n",
              "      <td>excelaancia face ao estresse</td>\n",
              "      <td>fraca face ao estresse (pc-i)</td>\n",
              "      <td>boa face ao estresse (pc-i)</td>\n",
              "      <td>1</td>\n",
              "      <td>0</td>\n",
              "      <td>1</td>\n",
              "      <td>0</td>\n",
              "    </tr>\n",
              "    <tr>\n",
              "      <th>2737</th>\n",
              "      <td>5</td>\n",
              "      <td>4</td>\n",
              "      <td>4</td>\n",
              "      <td>pr</td>\n",
              "      <td>pr</td>\n",
              "      <td>15</td>\n",
              "      <td>3</td>\n",
              "      <td>0</td>\n",
              "      <td>0</td>\n",
              "      <td>excelente face ao estresse</td>\n",
              "      <td>boa face ao estresse (pc-p)</td>\n",
              "      <td>boa face ao estresse (pc-i)</td>\n",
              "      <td>forte face ao estresse (pc-p)</td>\n",
              "      <td>boa face ao estresse (pc-p)</td>\n",
              "      <td>forte face ao estresse (pc-i)</td>\n",
              "      <td>boa face ao estresse (pc-p)</td>\n",
              "      <td>excelaancia face ao estresse</td>\n",
              "      <td>1</td>\n",
              "      <td>0</td>\n",
              "      <td>1</td>\n",
              "      <td>0</td>\n",
              "    </tr>\n",
              "    <tr>\n",
              "      <th>2738</th>\n",
              "      <td>0</td>\n",
              "      <td>3</td>\n",
              "      <td>2</td>\n",
              "      <td>pr</td>\n",
              "      <td>pr</td>\n",
              "      <td>15</td>\n",
              "      <td>5</td>\n",
              "      <td>0</td>\n",
              "      <td>2</td>\n",
              "      <td>boa face ao estresse (pc-p)</td>\n",
              "      <td>boa face ao estresse (pc-p)</td>\n",
              "      <td>boa face ao estresse (pc-p)</td>\n",
              "      <td>boa face ao estresse (pc-p)</td>\n",
              "      <td>boa face ao estresse (pc-p)</td>\n",
              "      <td>boa face ao estresse(pc-p)</td>\n",
              "      <td>excelente face ao estresse</td>\n",
              "      <td>boa face ao estresse (pc-p)</td>\n",
              "      <td>1</td>\n",
              "      <td>0</td>\n",
              "      <td>1</td>\n",
              "      <td>0</td>\n",
              "    </tr>\n",
              "    <tr>\n",
              "      <th>2740</th>\n",
              "      <td>5</td>\n",
              "      <td>3</td>\n",
              "      <td>3</td>\n",
              "      <td>pr</td>\n",
              "      <td>pr</td>\n",
              "      <td>15</td>\n",
              "      <td>3</td>\n",
              "      <td>2</td>\n",
              "      <td>0</td>\n",
              "      <td>boa face ao estresse (pc-p)</td>\n",
              "      <td>moderada face ao estresse (pc-p)</td>\n",
              "      <td>boa face ao estresse (pc-p)</td>\n",
              "      <td>excelaancia face ao estresse</td>\n",
              "      <td>boa face ao estresse (pc-p)</td>\n",
              "      <td>forte face ao estresse (pc-i)</td>\n",
              "      <td>boa face ao estresse (pc-p)</td>\n",
              "      <td>boa face ao estresse (pc-p)</td>\n",
              "      <td>1</td>\n",
              "      <td>0</td>\n",
              "      <td>1</td>\n",
              "      <td>0</td>\n",
              "    </tr>\n",
              "  </tbody>\n",
              "</table>\n",
              "<p>2103 rows × 21 columns</p>\n",
              "</div>"
            ],
            "text/plain": [
              "      trauma_doenca  idade_doenca_trauma  ...  outro_idioma_nao outro_idioma_sim\n",
              "0                 7                    4  ...                 0                1\n",
              "1                 3                    1  ...                 0                1\n",
              "2                 9                    1  ...                 1                0\n",
              "4                 6                    2  ...                 0                1\n",
              "5                 2                    2  ...                 0                1\n",
              "...             ...                  ...  ...               ...              ...\n",
              "2735              6                    2  ...                 0                1\n",
              "2736              2                    3  ...                 1                0\n",
              "2737              5                    4  ...                 1                0\n",
              "2738              0                    3  ...                 1                0\n",
              "2740              5                    3  ...                 1                0\n",
              "\n",
              "[2103 rows x 21 columns]"
            ]
          },
          "metadata": {
            "tags": []
          },
          "execution_count": 731
        }
      ]
    },
    {
      "cell_type": "code",
      "metadata": {
        "id": "7nLZVmij1iNL"
      },
      "source": [
        "SENTIDO_DE_VIDA = {'sv_boa_pcp': ['boa no estresse (pc-p)', 'boa face ao estresse (pc-p)'],\r\n",
        "      'sv_boa_pci': ['boa no estresse (pc-i)', 'boa face ao estresse (pc-i)'],\r\n",
        "      'equilibrio': ['excelaancia face ao estresse', 'excelente face ao estresse', 'excelente no estresse'],\r\n",
        "      'sv_forte_pci': ['forte face ao estresse (pc-i)', 'forte diante do estresse (pc-i)', 'forte no estresse (pc-i)', 'forte face ao estresse (pc- i)'],\r\n",
        "      'sv_forte_pcp': ['forte no estresse (pc-p)', 'forte face ao estresse (pc-p)', 'forte diante do estresse (pc-p)'],\r\n",
        "      'sv_fraca_pci': ['fraca no estresse (pc-i)', 'fraca face ao estresse (pc-i)', 'fraca diante do estresse (pc-i)'],\r\n",
        "      'sv_fraca_pcp': ['fraca no estresse (pc-p)', 'fraca face ao estresse (pc-p)'],\r\n",
        "      'sv_moderada_pcp': ['moderada no estresse (pc-p)', 'moderada perante o estresse (pc-p)', 'moderada face ao estresse (pc-p)'],\r\n",
        "      'sv_moderada_pci': ['moderada no estresse (pc-i)', 'moderada perante o estresse (pc-i)', 'moderada face ao estresse (pc-i)']}"
      ],
      "execution_count": 732,
      "outputs": []
    },
    {
      "cell_type": "code",
      "metadata": {
        "colab": {
          "base_uri": "https://localhost:8080/"
        },
        "id": "Iyls39T45L8-",
        "outputId": "49ee2702-34d4-42e2-c82c-9d8ddac13ba8"
      },
      "source": [
        "SENTIDO_DE_VIDA.keys()"
      ],
      "execution_count": 733,
      "outputs": [
        {
          "output_type": "execute_result",
          "data": {
            "text/plain": [
              "dict_keys(['sv_boa_pcp', 'sv_boa_pci', 'equilibrio', 'sv_forte_pci', 'sv_forte_pcp', 'sv_fraca_pci', 'sv_fraca_pcp', 'sv_moderada_pcp', 'sv_moderada_pci'])"
            ]
          },
          "metadata": {
            "tags": []
          },
          "execution_count": 733
        }
      ]
    },
    {
      "cell_type": "code",
      "metadata": {
        "id": "UlrkdFT77ajV"
      },
      "source": [
        "def procurar_palavra_sv(lista_palavras_sv, sentenca_sv):\r\n",
        "  palavra_presente_sv=False\r\n",
        "  for palavra_sv in lista_palavras_sv:\r\n",
        "    if palavra_sv in sentenca_sv:\r\n",
        "      palavra_presente_sv=True\r\n",
        "  return palavra_presente_sv\r\n",
        "\r\n",
        "def mapear_categoria_sv(sentenca_sv):\r\n",
        "  for categ_sv in SENTIDO_DE_VIDA.keys():\r\n",
        "    if procurar_palavra_sv(SENTIDO_DE_VIDA[categ_sv], sentenca_sv):\r\n",
        "      return categ_sv\r\n",
        "  return sentenca_sv"
      ],
      "execution_count": 734,
      "outputs": []
    },
    {
      "cell_type": "code",
      "metadata": {
        "colab": {
          "base_uri": "https://localhost:8080/",
          "height": 35
        },
        "id": "j0z7-j6V71mX",
        "outputId": "d3e3d9eb-ea24-4876-f615-a599f9eccc01"
      },
      "source": [
        "sentenca_sv = 'excelente no estresse'\r\n",
        "mapear_categoria_sv(sentenca_sv)"
      ],
      "execution_count": 735,
      "outputs": [
        {
          "output_type": "execute_result",
          "data": {
            "application/vnd.google.colaboratory.intrinsic+json": {
              "type": "string"
            },
            "text/plain": [
              "'equilibrio'"
            ]
          },
          "metadata": {
            "tags": []
          },
          "execution_count": 735
        }
      ]
    },
    {
      "cell_type": "code",
      "metadata": {
        "id": "ZjEeq2RC8B4K"
      },
      "source": [
        "df_bin['sentido_da_vida'] = df_bin['sentido_da_vida'].apply(mapear_categoria_sv)"
      ],
      "execution_count": 736,
      "outputs": []
    },
    {
      "cell_type": "code",
      "metadata": {
        "id": "4cGwRJZq02Om"
      },
      "source": [
        "df_bin = pd.get_dummies(df_bin, columns=['sentido_da_vida'])"
      ],
      "execution_count": 737,
      "outputs": []
    },
    {
      "cell_type": "code",
      "metadata": {
        "id": "ylLdFyQMJTTp"
      },
      "source": [
        "df_bin = df_bin.drop(columns=['uf_nascimento', 'uf', 'analise_do_contexto', 'autoconfianca', 'autocontrole', 'conquistar_e_manter_pessoas',\r\n",
        "                              'empatia', 'leitura_corporal', 'otimismo_com_a_vida'])"
      ],
      "execution_count": 738,
      "outputs": []
    },
    {
      "cell_type": "code",
      "metadata": {
        "colab": {
          "base_uri": "https://localhost:8080/",
          "height": 224
        },
        "id": "vurDOQIR1G4f",
        "outputId": "ff3d2a11-ddb6-4bf6-874b-939d85edc257"
      },
      "source": [
        "df_bin.head()"
      ],
      "execution_count": 739,
      "outputs": [
        {
          "output_type": "execute_result",
          "data": {
            "text/html": [
              "<div>\n",
              "<style scoped>\n",
              "    .dataframe tbody tr th:only-of-type {\n",
              "        vertical-align: middle;\n",
              "    }\n",
              "\n",
              "    .dataframe tbody tr th {\n",
              "        vertical-align: top;\n",
              "    }\n",
              "\n",
              "    .dataframe thead th {\n",
              "        text-align: right;\n",
              "    }\n",
              "</style>\n",
              "<table border=\"1\" class=\"dataframe\">\n",
              "  <thead>\n",
              "    <tr style=\"text-align: right;\">\n",
              "      <th></th>\n",
              "      <th>trauma_doenca</th>\n",
              "      <th>idade_doenca_trauma</th>\n",
              "      <th>tempo_doenca_trauma</th>\n",
              "      <th>formacao</th>\n",
              "      <th>escolaridade</th>\n",
              "      <th>estado_civil</th>\n",
              "      <th>religiao</th>\n",
              "      <th>sexo_feminino</th>\n",
              "      <th>sexo_masculino</th>\n",
              "      <th>outro_idioma_nao</th>\n",
              "      <th>outro_idioma_sim</th>\n",
              "      <th>sentido_da_vida_equilibrio</th>\n",
              "      <th>sentido_da_vida_sv_boa_pci</th>\n",
              "      <th>sentido_da_vida_sv_boa_pcp</th>\n",
              "      <th>sentido_da_vida_sv_forte_pci</th>\n",
              "      <th>sentido_da_vida_sv_forte_pcp</th>\n",
              "      <th>sentido_da_vida_sv_fraca_pci</th>\n",
              "      <th>sentido_da_vida_sv_fraca_pcp</th>\n",
              "      <th>sentido_da_vida_sv_moderada_pci</th>\n",
              "      <th>sentido_da_vida_sv_moderada_pcp</th>\n",
              "    </tr>\n",
              "  </thead>\n",
              "  <tbody>\n",
              "    <tr>\n",
              "      <th>0</th>\n",
              "      <td>7</td>\n",
              "      <td>4</td>\n",
              "      <td>3</td>\n",
              "      <td>0</td>\n",
              "      <td>6</td>\n",
              "      <td>0</td>\n",
              "      <td>0</td>\n",
              "      <td>1</td>\n",
              "      <td>0</td>\n",
              "      <td>0</td>\n",
              "      <td>1</td>\n",
              "      <td>0</td>\n",
              "      <td>0</td>\n",
              "      <td>1</td>\n",
              "      <td>0</td>\n",
              "      <td>0</td>\n",
              "      <td>0</td>\n",
              "      <td>0</td>\n",
              "      <td>0</td>\n",
              "      <td>0</td>\n",
              "    </tr>\n",
              "    <tr>\n",
              "      <th>1</th>\n",
              "      <td>3</td>\n",
              "      <td>1</td>\n",
              "      <td>4</td>\n",
              "      <td>1</td>\n",
              "      <td>6</td>\n",
              "      <td>0</td>\n",
              "      <td>2</td>\n",
              "      <td>0</td>\n",
              "      <td>1</td>\n",
              "      <td>0</td>\n",
              "      <td>1</td>\n",
              "      <td>0</td>\n",
              "      <td>0</td>\n",
              "      <td>0</td>\n",
              "      <td>0</td>\n",
              "      <td>0</td>\n",
              "      <td>0</td>\n",
              "      <td>0</td>\n",
              "      <td>0</td>\n",
              "      <td>1</td>\n",
              "    </tr>\n",
              "    <tr>\n",
              "      <th>2</th>\n",
              "      <td>9</td>\n",
              "      <td>1</td>\n",
              "      <td>4</td>\n",
              "      <td>12</td>\n",
              "      <td>4</td>\n",
              "      <td>2</td>\n",
              "      <td>3</td>\n",
              "      <td>0</td>\n",
              "      <td>1</td>\n",
              "      <td>1</td>\n",
              "      <td>0</td>\n",
              "      <td>0</td>\n",
              "      <td>0</td>\n",
              "      <td>1</td>\n",
              "      <td>0</td>\n",
              "      <td>0</td>\n",
              "      <td>0</td>\n",
              "      <td>0</td>\n",
              "      <td>0</td>\n",
              "      <td>0</td>\n",
              "    </tr>\n",
              "    <tr>\n",
              "      <th>4</th>\n",
              "      <td>6</td>\n",
              "      <td>2</td>\n",
              "      <td>4</td>\n",
              "      <td>12</td>\n",
              "      <td>5</td>\n",
              "      <td>2</td>\n",
              "      <td>2</td>\n",
              "      <td>0</td>\n",
              "      <td>1</td>\n",
              "      <td>0</td>\n",
              "      <td>1</td>\n",
              "      <td>1</td>\n",
              "      <td>0</td>\n",
              "      <td>0</td>\n",
              "      <td>0</td>\n",
              "      <td>0</td>\n",
              "      <td>0</td>\n",
              "      <td>0</td>\n",
              "      <td>0</td>\n",
              "      <td>0</td>\n",
              "    </tr>\n",
              "    <tr>\n",
              "      <th>5</th>\n",
              "      <td>2</td>\n",
              "      <td>2</td>\n",
              "      <td>4</td>\n",
              "      <td>5</td>\n",
              "      <td>4</td>\n",
              "      <td>2</td>\n",
              "      <td>0</td>\n",
              "      <td>1</td>\n",
              "      <td>0</td>\n",
              "      <td>0</td>\n",
              "      <td>1</td>\n",
              "      <td>0</td>\n",
              "      <td>0</td>\n",
              "      <td>1</td>\n",
              "      <td>0</td>\n",
              "      <td>0</td>\n",
              "      <td>0</td>\n",
              "      <td>0</td>\n",
              "      <td>0</td>\n",
              "      <td>0</td>\n",
              "    </tr>\n",
              "  </tbody>\n",
              "</table>\n",
              "</div>"
            ],
            "text/plain": [
              "   trauma_doenca  ...  sentido_da_vida_sv_moderada_pcp\n",
              "0              7  ...                                0\n",
              "1              3  ...                                1\n",
              "2              9  ...                                0\n",
              "4              6  ...                                0\n",
              "5              2  ...                                0\n",
              "\n",
              "[5 rows x 20 columns]"
            ]
          },
          "metadata": {
            "tags": []
          },
          "execution_count": 739
        }
      ]
    }
  ]
}